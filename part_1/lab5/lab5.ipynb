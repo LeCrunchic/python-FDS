{
 "cells": [
  {
   "cell_type": "code",
   "execution_count": 1,
   "metadata": {
    "colab": {
     "autoexec": {
      "startup": false,
      "wait_interval": 0
     },
     "base_uri": "https://localhost:8080/",
     "height": 211
    },
    "colab_type": "code",
    "executionInfo": {
     "elapsed": 6518,
     "status": "ok",
     "timestamp": 1530028057686,
     "user": {
      "displayName": "Luis Galicia",
      "photoUrl": "https://lh3.googleusercontent.com/a/default-user=s128",
      "userId": "116873116001297431960"
     },
     "user_tz": 240
    },
    "id": "0e42aLm_tFJo",
    "outputId": "a02fffb2-7583-44b2-e63c-f4cefc265160"
   },
   "outputs": [],
   "source": [
    "import pandas as pd\n",
    "import numpy as np\n",
    "import matplotlib.pyplot as plt\n",
    "import seaborn as sns\n",
    "\n",
    "plt.style.use('ggplot')"
   ]
  },
  {
   "cell_type": "code",
   "execution_count": 2,
   "metadata": {
    "colab": {
     "autoexec": {
      "startup": false,
      "wait_interval": 0
     }
    },
    "colab_type": "code",
    "id": "kZohWqVmXf3p"
   },
   "outputs": [],
   "source": [
    "recordData = pd.read_csv('WorldRecords.csv')"
   ]
  },
  {
   "cell_type": "code",
   "execution_count": 3,
   "metadata": {
    "colab": {
     "autoexec": {
      "startup": false,
      "wait_interval": 0
     },
     "base_uri": "https://localhost:8080/",
     "height": 206
    },
    "colab_type": "code",
    "executionInfo": {
     "elapsed": 878,
     "status": "ok",
     "timestamp": 1530028062146,
     "user": {
      "displayName": "Luis Galicia",
      "photoUrl": "https://lh3.googleusercontent.com/a/default-user=s128",
      "userId": "116873116001297431960"
     },
     "user_tz": 240
    },
    "id": "mngjkMb_X01Y",
    "outputId": "727ba329-1ad2-4b04-fa11-bb240b159206"
   },
   "outputs": [
    {
     "data": {
      "text/html": [
       "<div>\n",
       "<style scoped>\n",
       "    .dataframe tbody tr th:only-of-type {\n",
       "        vertical-align: middle;\n",
       "    }\n",
       "\n",
       "    .dataframe tbody tr th {\n",
       "        vertical-align: top;\n",
       "    }\n",
       "\n",
       "    .dataframe thead th {\n",
       "        text-align: right;\n",
       "    }\n",
       "</style>\n",
       "<table border=\"1\" class=\"dataframe\">\n",
       "  <thead>\n",
       "    <tr style=\"text-align: right;\">\n",
       "      <th></th>\n",
       "      <th>Event</th>\n",
       "      <th>Type</th>\n",
       "      <th>Record</th>\n",
       "      <th>Athlete</th>\n",
       "      <th>Nationality</th>\n",
       "      <th>Location</th>\n",
       "      <th>Year</th>\n",
       "    </tr>\n",
       "  </thead>\n",
       "  <tbody>\n",
       "    <tr>\n",
       "      <th>0</th>\n",
       "      <td>Mens 100m</td>\n",
       "      <td>time</td>\n",
       "      <td>10.06</td>\n",
       "      <td>Bob Hayes</td>\n",
       "      <td>United States</td>\n",
       "      <td>Tokyo, Japan</td>\n",
       "      <td>1964</td>\n",
       "    </tr>\n",
       "    <tr>\n",
       "      <th>1</th>\n",
       "      <td>Mens 100m</td>\n",
       "      <td>time</td>\n",
       "      <td>10.03</td>\n",
       "      <td>Jim Hines</td>\n",
       "      <td>United States</td>\n",
       "      <td>Sacramento, USA</td>\n",
       "      <td>1968</td>\n",
       "    </tr>\n",
       "    <tr>\n",
       "      <th>2</th>\n",
       "      <td>Mens 100m</td>\n",
       "      <td>time</td>\n",
       "      <td>10.02</td>\n",
       "      <td>Charles Greene</td>\n",
       "      <td>United States</td>\n",
       "      <td>Mexico City, Mexico</td>\n",
       "      <td>1968</td>\n",
       "    </tr>\n",
       "    <tr>\n",
       "      <th>3</th>\n",
       "      <td>Mens 100m</td>\n",
       "      <td>time</td>\n",
       "      <td>9.95</td>\n",
       "      <td>Jim Hines</td>\n",
       "      <td>United States</td>\n",
       "      <td>Mexico City, Mexico</td>\n",
       "      <td>1968</td>\n",
       "    </tr>\n",
       "    <tr>\n",
       "      <th>4</th>\n",
       "      <td>Mens 100m</td>\n",
       "      <td>time</td>\n",
       "      <td>9.93</td>\n",
       "      <td>Calvin Smith</td>\n",
       "      <td>United States</td>\n",
       "      <td>Colorado Springs, USA</td>\n",
       "      <td>1983</td>\n",
       "    </tr>\n",
       "  </tbody>\n",
       "</table>\n",
       "</div>"
      ],
      "text/plain": [
       "       Event  Type  Record         Athlete    Nationality  \\\n",
       "0  Mens 100m  time   10.06       Bob Hayes  United States   \n",
       "1  Mens 100m  time   10.03       Jim Hines  United States   \n",
       "2  Mens 100m  time   10.02  Charles Greene  United States   \n",
       "3  Mens 100m  time    9.95       Jim Hines  United States   \n",
       "4  Mens 100m  time    9.93    Calvin Smith  United States   \n",
       "\n",
       "                Location  Year  \n",
       "0           Tokyo, Japan  1964  \n",
       "1        Sacramento, USA  1968  \n",
       "2    Mexico City, Mexico  1968  \n",
       "3    Mexico City, Mexico  1968  \n",
       "4  Colorado Springs, USA  1983  "
      ]
     },
     "execution_count": 3,
     "metadata": {},
     "output_type": "execute_result"
    }
   ],
   "source": [
    "recordData.head()"
   ]
  },
  {
   "cell_type": "markdown",
   "metadata": {
    "colab_type": "text",
    "id": "MbnBTkYYcXd8"
   },
   "source": [
    "# Pre-Lab\n",
    "\n",
    "## Primary Research Question: How has the men’s shotput world record changed over time?  What about the women’s world record? "
   ]
  },
  {
   "cell_type": "markdown",
   "metadata": {
    "colab_type": "text",
    "id": "AN8S741PZFa0"
   },
   "source": [
    "### How many different events are represented in the dataset?"
   ]
  },
  {
   "cell_type": "code",
   "execution_count": 4,
   "metadata": {
    "colab": {
     "autoexec": {
      "startup": false,
      "wait_interval": 0
     },
     "base_uri": "https://localhost:8080/",
     "height": 34
    },
    "colab_type": "code",
    "executionInfo": {
     "elapsed": 959,
     "status": "ok",
     "timestamp": 1530028063957,
     "user": {
      "displayName": "Luis Galicia",
      "photoUrl": "https://lh3.googleusercontent.com/a/default-user=s128",
      "userId": "116873116001297431960"
     },
     "user_tz": 240
    },
    "id": "CGYghbIaX4-Z",
    "outputId": "74c806a7-b01f-4803-a29b-8b97d79981e7"
   },
   "outputs": [
    {
     "data": {
      "text/plain": [
       "10"
      ]
     },
     "execution_count": 4,
     "metadata": {},
     "output_type": "execute_result"
    }
   ],
   "source": [
    "len(recordData['Event'].unique())"
   ]
  },
  {
   "cell_type": "markdown",
   "metadata": {
    "colab_type": "text",
    "id": "Kv687ab1Zair"
   },
   "source": [
    "### In what year did Usain Bolt first break the world record for the men's 100m dash?"
   ]
  },
  {
   "cell_type": "code",
   "execution_count": 5,
   "metadata": {
    "colab": {
     "autoexec": {
      "startup": false,
      "wait_interval": 0
     },
     "base_uri": "https://localhost:8080/",
     "height": 34
    },
    "colab_type": "code",
    "executionInfo": {
     "elapsed": 727,
     "status": "ok",
     "timestamp": 1530028065515,
     "user": {
      "displayName": "Luis Galicia",
      "photoUrl": "https://lh3.googleusercontent.com/a/default-user=s128",
      "userId": "116873116001297431960"
     },
     "user_tz": 240
    },
    "id": "I5eFHEHtZbi7",
    "outputId": "7d45fadd-1664-46ff-c215-42efaf41c695"
   },
   "outputs": [
    {
     "data": {
      "text/plain": [
       "2008"
      ]
     },
     "execution_count": 5,
     "metadata": {},
     "output_type": "execute_result"
    }
   ],
   "source": [
    "recordData[(recordData['Athlete'] == 'Usain Bolt') & (recordData['Event'] == 'Mens 100m')]['Year'].iloc[0]"
   ]
  },
  {
   "cell_type": "markdown",
   "metadata": {
    "colab_type": "text",
    "id": "Ie-6IXbmadXR"
   },
   "source": [
    "### Who was the first woman to break the women’s 1 mile world record with a time of less than 260 seconds?"
   ]
  },
  {
   "cell_type": "code",
   "execution_count": 6,
   "metadata": {
    "colab": {
     "autoexec": {
      "startup": false,
      "wait_interval": 0
     },
     "base_uri": "https://localhost:8080/",
     "height": 34
    },
    "colab_type": "code",
    "executionInfo": {
     "elapsed": 1065,
     "status": "ok",
     "timestamp": 1530028067573,
     "user": {
      "displayName": "Luis Galicia",
      "photoUrl": "https://lh3.googleusercontent.com/a/default-user=s128",
      "userId": "116873116001297431960"
     },
     "user_tz": 240
    },
    "id": "pfIYeMCnaeei",
    "outputId": "59138a1d-cba5-43fc-c3f7-ad5434324a4a"
   },
   "outputs": [
    {
     "data": {
      "text/plain": [
       "'Mary Slaney'"
      ]
     },
     "execution_count": 6,
     "metadata": {},
     "output_type": "execute_result"
    }
   ],
   "source": [
    "recordData[(recordData['Event'] == 'Womens Mile') & (recordData['Record'] < 260)].iloc[0]['Athlete']"
   ]
  },
  {
   "cell_type": "markdown",
   "metadata": {
    "colab_type": "text",
    "id": "6swJ4Yzuc7E_"
   },
   "source": [
    "### Subsets of the Data for the Shotput event by gender."
   ]
  },
  {
   "cell_type": "code",
   "execution_count": 7,
   "metadata": {
    "colab": {
     "autoexec": {
      "startup": false,
      "wait_interval": 0
     }
    },
    "colab_type": "code",
    "id": "uumJhhngc2IX"
   },
   "outputs": [],
   "source": [
    "womenShotput = recordData[recordData['Event'] == 'Womens Shotput']\n",
    "menShotput = recordData[recordData['Event'] == 'Mens Shotput']"
   ]
  },
  {
   "cell_type": "markdown",
   "metadata": {
    "colab_type": "text",
    "id": "HJ_l3QYtbtJS"
   },
   "source": [
    "### Shotput records by gender for year."
   ]
  },
  {
   "cell_type": "code",
   "execution_count": 8,
   "metadata": {
    "colab": {
     "autoexec": {
      "startup": false,
      "wait_interval": 0
     },
     "base_uri": "https://localhost:8080/",
     "height": 393
    },
    "colab_type": "code",
    "executionInfo": {
     "elapsed": 1035,
     "status": "ok",
     "timestamp": 1530028071280,
     "user": {
      "displayName": "Luis Galicia",
      "photoUrl": "https://lh3.googleusercontent.com/a/default-user=s128",
      "userId": "116873116001297431960"
     },
     "user_tz": 240
    },
    "id": "KvMtoQGiek3K",
    "outputId": "b519c2ac-c6de-47dc-865b-766eaa56c13c"
   },
   "outputs": [
    {
     "data": {
      "text/plain": [
       "Text(0.5, 1.0, \"Men's\")"
      ]
     },
     "execution_count": 8,
     "metadata": {},
     "output_type": "execute_result"
    },
    {
     "data": {
      "image/png": "[encoded data removed]",
      "text/plain": [
       "<Figure size 432x288 with 2 Axes>"
      ]
     },
     "metadata": {
      "needs_background": "light"
     },
     "output_type": "display_data"
    }
   ],
   "source": [
    "fix, ax = plt.subplots(nrows=2, ncols=1, sharey=False)\n",
    "plt.rcParams['figure.figsize'] = (10,16)\n",
    "sns.regplot(womenShotput['Year'], womenShotput['Record'], ax=ax[0]).set_title(\"Women's\")\n",
    "sns.regplot(menShotput['Year'], menShotput['Record'], ax=ax[1]).set_title(\"Men's\")"
   ]
  },
  {
   "cell_type": "markdown",
   "metadata": {
    "colab_type": "text",
    "id": "ibiMw0Tah7hM"
   },
   "source": [
    "### How many records are in the menShotput dataframe?"
   ]
  },
  {
   "cell_type": "code",
   "execution_count": 9,
   "metadata": {
    "colab": {
     "autoexec": {
      "startup": false,
      "wait_interval": 0
     },
     "base_uri": "https://localhost:8080/",
     "height": 34
    },
    "colab_type": "code",
    "executionInfo": {
     "elapsed": 1165,
     "status": "ok",
     "timestamp": 1530028073201,
     "user": {
      "displayName": "Luis Galicia",
      "photoUrl": "https://lh3.googleusercontent.com/a/default-user=s128",
      "userId": "116873116001297431960"
     },
     "user_tz": 240
    },
    "id": "R1Yf6cAlfS0R",
    "outputId": "8a00c239-f177-4742-ca4d-caef703b3946"
   },
   "outputs": [
    {
     "data": {
      "text/plain": [
       "39"
      ]
     },
     "execution_count": 9,
     "metadata": {},
     "output_type": "execute_result"
    }
   ],
   "source": [
    "menShotput.shape[0]"
   ]
  },
  {
   "cell_type": "markdown",
   "metadata": {
    "colab_type": "text",
    "id": "Xz9xChGJiFo_"
   },
   "source": [
    "### How many records are in the womenShotput dataframe"
   ]
  },
  {
   "cell_type": "code",
   "execution_count": 10,
   "metadata": {
    "colab": {
     "autoexec": {
      "startup": false,
      "wait_interval": 0
     },
     "base_uri": "https://localhost:8080/",
     "height": 34
    },
    "colab_type": "code",
    "executionInfo": {
     "elapsed": 740,
     "status": "ok",
     "timestamp": 1530028074820,
     "user": {
      "displayName": "Luis Galicia",
      "photoUrl": "https://lh3.googleusercontent.com/a/default-user=s128",
      "userId": "116873116001297431960"
     },
     "user_tz": 240
    },
    "id": "H0zEtBDTiNcF",
    "outputId": "84ca880d-0c28-4832-e714-7c141739baa3"
   },
   "outputs": [
    {
     "data": {
      "text/plain": [
       "41"
      ]
     },
     "execution_count": 10,
     "metadata": {},
     "output_type": "execute_result"
    }
   ],
   "source": [
    "womenShotput.shape[0]"
   ]
  },
  {
   "cell_type": "markdown",
   "metadata": {
    "colab_type": "text",
    "id": "mx91U6Q1in2R"
   },
   "source": [
    "# The Lab\n",
    "\n",
    "## How have the world record times for the men's and the women’s mile event changed over the years?"
   ]
  },
  {
   "cell_type": "code",
   "execution_count": 11,
   "metadata": {
    "colab": {
     "autoexec": {
      "startup": false,
      "wait_interval": 0
     }
    },
    "colab_type": "code",
    "id": "f6CG2nZgvhqZ"
   },
   "outputs": [],
   "source": [
    "menMile = recordData[recordData['Event'] == 'Mens Mile']\n",
    "womenMile = recordData[recordData['Event'] == 'Womens Mile']"
   ]
  },
  {
   "cell_type": "code",
   "execution_count": 12,
   "metadata": {
    "colab": {
     "autoexec": {
      "startup": false,
      "wait_interval": 0
     },
     "base_uri": "https://localhost:8080/",
     "height": 964
    },
    "colab_type": "code",
    "executionInfo": {
     "elapsed": 1395,
     "status": "ok",
     "timestamp": 1530028078428,
     "user": {
      "displayName": "Luis Galicia",
      "photoUrl": "https://lh3.googleusercontent.com/a/default-user=s128",
      "userId": "116873116001297431960"
     },
     "user_tz": 240
    },
    "id": "EVyOoTofv6YR",
    "outputId": "6c3f88fd-b005-4477-eef0-0e7276ca5bc9"
   },
   "outputs": [
    {
     "data": {
      "text/plain": [
       "Text(0.5, 1.0, \"Men's\")"
      ]
     },
     "execution_count": 12,
     "metadata": {},
     "output_type": "execute_result"
    },
    {
     "data": {
      "image/png": "[encoded data removed]",
      "text/plain": [
       "<Figure size 720x1152 with 2 Axes>"
      ]
     },
     "metadata": {
      "needs_background": "light"
     },
     "output_type": "display_data"
    }
   ],
   "source": [
    "fig, ax = plt.subplots(nrows=2, ncols=1)\n",
    "plt.rcParams['figure.figsize'] = (10, 16)\n",
    "\n",
    "sns.regplot(womenMile['Year'], womenMile['Record'], ax=ax[0]).set_title(\"Women's\")\n",
    "sns.regplot(menMile['Year'], menMile['Record'], ax=ax[1]).set_title(\"Men's\")"
   ]
  },
  {
   "cell_type": "markdown",
   "metadata": {
    "colab_type": "text",
    "id": "iLofee8R5-q1"
   },
   "source": [
    "### Linear Regression for calculation of the Gradient of the lines above"
   ]
  },
  {
   "cell_type": "code",
   "execution_count": 23,
   "metadata": {
    "colab": {
     "autoexec": {
      "startup": false,
      "wait_interval": 0
     },
     "base_uri": "https://localhost:8080/",
     "height": 1096
    },
    "colab_type": "code",
    "executionInfo": {
     "elapsed": 786,
     "status": "ok",
     "timestamp": 1530028192436,
     "user": {
      "displayName": "Luis Galicia",
      "photoUrl": "https://lh3.googleusercontent.com/a/default-user=s128",
      "userId": "116873116001297431960"
     },
     "user_tz": 240
    },
    "id": "bZhmFZdP3pDu",
    "outputId": "c89fc730-9625-4f3e-de1c-e93d6cc92654",
    "scrolled": true
   },
   "outputs": [
    {
     "name": "stdout",
     "output_type": "stream",
     "text": [
      "Male:\n",
      "                             OLS Regression Results                            \n",
      "==============================================================================\n",
      "Dep. Variable:                      y   R-squared:                       0.977\n",
      "Model:                            OLS   Adj. R-squared:                  0.977\n",
      "Method:                 Least Squares   F-statistic:                     1301.\n",
      "Date:                Thu, 17 Jan 2019   Prob (F-statistic):           2.88e-26\n",
      "Time:                        20:01:27   Log-Likelihood:                -54.470\n",
      "No. Observations:                  32   AIC:                             112.9\n",
      "Df Residuals:                      30   BIC:                             115.9\n",
      "Df Model:                           1                                         \n",
      "Covariance Type:            nonrobust                                         \n",
      "==============================================================================\n",
      "                 coef    std err          t      P>|t|      [0.025      0.975]\n",
      "------------------------------------------------------------------------------\n",
      "const       1007.4707     21.350     47.188      0.000     963.868    1051.074\n",
      "x1            -0.3935      0.011    -36.066      0.000      -0.416      -0.371\n",
      "==============================================================================\n",
      "Omnibus:                        0.382   Durbin-Watson:                   0.873\n",
      "Prob(Omnibus):                  0.826   Jarque-Bera (JB):                0.112\n",
      "Skew:                           0.145   Prob(JB):                        0.946\n",
      "Kurtosis:                       2.986   Cond. No.                     1.72e+05\n",
      "==============================================================================\n",
      "\n",
      "Warnings:\n",
      "[1] Standard Errors assume that the covariance matrix of the errors is correctly specified.\n",
      "[2] The condition number is large, 1.72e+05. This might indicate that there are\n",
      "strong multicollinearity or other numerical problems.\n",
      "\n",
      "\n",
      "\n",
      "Female:\n",
      "                             OLS Regression Results                            \n",
      "==============================================================================\n",
      "Dep. Variable:                      y   R-squared:                       0.896\n",
      "Model:                            OLS   Adj. R-squared:                  0.886\n",
      "Method:                 Least Squares   F-statistic:                     94.35\n",
      "Date:                Thu, 17 Jan 2019   Prob (F-statistic):           9.88e-07\n",
      "Time:                        20:01:27   Log-Likelihood:                -30.855\n",
      "No. Observations:                  13   AIC:                             65.71\n",
      "Df Residuals:                      11   BIC:                             66.84\n",
      "Df Model:                           1                                         \n",
      "Covariance Type:            nonrobust                                         \n",
      "==============================================================================\n",
      "                 coef    std err          t      P>|t|      [0.025      0.975]\n",
      "------------------------------------------------------------------------------\n",
      "const       2189.2834    198.251     11.043      0.000    1752.936    2625.631\n",
      "x1            -0.9729      0.100     -9.713      0.000      -1.193      -0.752\n",
      "==============================================================================\n",
      "Omnibus:                        1.287   Durbin-Watson:                   0.603\n",
      "Prob(Omnibus):                  0.525   Jarque-Bera (JB):                1.041\n",
      "Skew:                           0.549   Prob(JB):                        0.594\n",
      "Kurtosis:                       2.153   Cond. No.                     5.01e+05\n",
      "==============================================================================\n",
      "\n",
      "Warnings:\n",
      "[1] Standard Errors assume that the covariance matrix of the errors is correctly specified.\n",
      "[2] The condition number is large, 5.01e+05. This might indicate that there are\n",
      "strong multicollinearity or other numerical problems.\n"
     ]
    },
    {
     "name": "stderr",
     "output_type": "stream",
     "text": [
      "/home/usuario/Descargas/lgalicia/python-FDS/fds/lib/python3.6/site-packages/ipykernel_launcher.py:4: FutureWarning: Method .as_matrix will be removed in a future version. Use .values instead.\n",
      "  after removing the cwd from sys.path.\n",
      "/home/usuario/Descargas/lgalicia/python-FDS/fds/lib/python3.6/site-packages/ipykernel_launcher.py:5: FutureWarning: Method .as_matrix will be removed in a future version. Use .values instead.\n",
      "  \"\"\"\n",
      "/home/usuario/Descargas/lgalicia/python-FDS/fds/lib/python3.6/site-packages/ipykernel_launcher.py:7: FutureWarning: Method .as_matrix will be removed in a future version. Use .values instead.\n",
      "  import sys\n",
      "/home/usuario/Descargas/lgalicia/python-FDS/fds/lib/python3.6/site-packages/ipykernel_launcher.py:8: FutureWarning: Method .as_matrix will be removed in a future version. Use .values instead.\n",
      "  \n",
      "/home/usuario/Descargas/lgalicia/python-FDS/fds/lib/python3.6/site-packages/scipy/stats/stats.py:1416: UserWarning: kurtosistest only valid for n>=20 ... continuing anyway, n=13\n",
      "  \"anyway, n=%i\" % int(n))\n"
     ]
    }
   ],
   "source": [
    "import statsmodels.api as sm\n",
    "import statsmodels.formula.api as smf\n",
    "\n",
    "Xmale = menMile['Year'].as_matrix().reshape(menMile['Year'].shape[0], 1)\n",
    "Ymale = menMile['Record'].as_matrix().reshape(menMile['Record'].shape[0], 1)\n",
    "\n",
    "Xfemale = womenMile['Year'].as_matrix().reshape(womenMile['Year'].shape[0], 1)\n",
    "Yfemale = womenMile['Record'].as_matrix().reshape(womenMile['Record'].shape[0], 1)\n",
    "\n",
    "# adding constant for intercepts\n",
    "Xmale_ones = np.ones((Xmale.shape[0], 1))\n",
    "Xfemale_ones = np.ones((Xfemale.shape[0], 1))\n",
    "\n",
    "Xmale = np.concatenate((Xmale_ones, Xmale), axis=1)\n",
    "Xfemale = np.concatenate((Xfemale_ones, Xfemale), axis=1)\n",
    "\n",
    "modelMale = sm.OLS(Ymale, Xmale).fit()\n",
    "modelFemale = sm.OLS(Yfemale, Xfemale).fit()\n",
    "\n",
    "# What we are interested in is the x1 coef.\n",
    "\n",
    "print('Male:\\n', modelMale.summary())\n",
    "print('\\n\\n')\n",
    "print('Female:\\n', modelFemale.summary())"
   ]
  },
  {
   "cell_type": "markdown",
   "metadata": {
    "colab_type": "text",
    "id": "v6Vi0GVMueKb"
   },
   "source": [
    "## Problem Set"
   ]
  },
  {
   "cell_type": "markdown",
   "metadata": {
    "colab_type": "text",
    "id": "DrmKnee_upet"
   },
   "source": [
    "### Question 1: We want to find the best-fitting linear model for men's pole vault world records since 1970."
   ]
  },
  {
   "cell_type": "code",
   "execution_count": 14,
   "metadata": {
    "colab": {
     "autoexec": {
      "startup": false,
      "wait_interval": 0
     }
    },
    "colab_type": "code",
    "id": "OE5Mx_4JnuF_"
   },
   "outputs": [],
   "source": [
    "menPolev = recordData[ (recordData['Event'] == 'Mens Polevault') & (recordData['Year'] >= 1970) ]"
   ]
  },
  {
   "cell_type": "markdown",
   "metadata": {
    "colab_type": "text",
    "id": "IUalffddy6Ym"
   },
   "source": [
    "### What is the standing world record height (in meters) for men's pole vault?"
   ]
  },
  {
   "cell_type": "code",
   "execution_count": 15,
   "metadata": {
    "colab": {
     "autoexec": {
      "startup": false,
      "wait_interval": 0
     },
     "base_uri": "https://localhost:8080/",
     "height": 34
    },
    "colab_type": "code",
    "executionInfo": {
     "elapsed": 754,
     "status": "ok",
     "timestamp": 1530028430384,
     "user": {
      "displayName": "Luis Galicia",
      "photoUrl": "https://lh3.googleusercontent.com/a/default-user=s128",
      "userId": "116873116001297431960"
     },
     "user_tz": 240
    },
    "id": "-9NXiS98wu0A",
    "outputId": "dcbe57a9-a178-441b-be51-c1847d76a254"
   },
   "outputs": [
    {
     "data": {
      "text/plain": [
       "6.14"
      ]
     },
     "execution_count": 15,
     "metadata": {},
     "output_type": "execute_result"
    }
   ],
   "source": [
    "menPolev.iloc[-1,:]['Record']"
   ]
  },
  {
   "cell_type": "markdown",
   "metadata": {
    "colab_type": "text",
    "id": "Zpu-EPzGzrr7"
   },
   "source": [
    "###  In what year did the pole vault record first exceed 6 meters? "
   ]
  },
  {
   "cell_type": "code",
   "execution_count": 16,
   "metadata": {
    "colab": {
     "autoexec": {
      "startup": false,
      "wait_interval": 0
     },
     "base_uri": "https://localhost:8080/",
     "height": 34
    },
    "colab_type": "code",
    "executionInfo": {
     "elapsed": 782,
     "status": "ok",
     "timestamp": 1530028831525,
     "user": {
      "displayName": "Luis Galicia",
      "photoUrl": "https://lh3.googleusercontent.com/a/default-user=s128",
      "userId": "116873116001297431960"
     },
     "user_tz": 240
    },
    "id": "o5Oh8O1Szue8",
    "outputId": "f647847b-e75a-4fe1-c678-3e0daa0d688c"
   },
   "outputs": [
    {
     "data": {
      "text/plain": [
       "1986"
      ]
     },
     "execution_count": 16,
     "metadata": {},
     "output_type": "execute_result"
    }
   ],
   "source": [
    "menPolev[ menPolev['Record'] > 6].iloc[0,:]['Year']"
   ]
  },
  {
   "cell_type": "markdown",
   "metadata": {
    "colab_type": "text",
    "id": "Q3J1DrVV09s_"
   },
   "source": [
    "### Men's Polevault records since 1970 scatterplot and linear fit as a function of the year"
   ]
  },
  {
   "cell_type": "code",
   "execution_count": 17,
   "metadata": {
    "colab": {
     "autoexec": {
      "startup": false,
      "wait_interval": 0
     },
     "base_uri": "https://localhost:8080/",
     "height": 949
    },
    "colab_type": "code",
    "executionInfo": {
     "elapsed": 1236,
     "status": "ok",
     "timestamp": 1530028953873,
     "user": {
      "displayName": "Luis Galicia",
      "photoUrl": "https://lh3.googleusercontent.com/a/default-user=s128",
      "userId": "116873116001297431960"
     },
     "user_tz": 240
    },
    "id": "GIQ9GKTO0fWn",
    "outputId": "b95eec78-d1b9-4c14-cbb7-0a1b4db0f39b"
   },
   "outputs": [
    {
     "data": {
      "text/plain": [
       "<matplotlib.axes._subplots.AxesSubplot at 0x7f3d4783dc88>"
      ]
     },
     "execution_count": 17,
     "metadata": {},
     "output_type": "execute_result"
    },
    {
     "data": {
      "image/png": "[encoded data removed]",
      "text/plain": [
       "<Figure size 720x1152 with 1 Axes>"
      ]
     },
     "metadata": {
      "needs_background": "light"
     },
     "output_type": "display_data"
    }
   ],
   "source": [
    "sns.regplot(menPolev['Year'], menPolev['Record'])"
   ]
  },
  {
   "cell_type": "code",
   "execution_count": 18,
   "metadata": {
    "colab": {
     "autoexec": {
      "startup": false,
      "wait_interval": 0
     },
     "base_uri": "https://localhost:8080/",
     "height": 486
    },
    "colab_type": "code",
    "executionInfo": {
     "elapsed": 706,
     "status": "ok",
     "timestamp": 1530029299535,
     "user": {
      "displayName": "Luis Galicia",
      "photoUrl": "https://lh3.googleusercontent.com/a/default-user=s128",
      "userId": "116873116001297431960"
     },
     "user_tz": 240
    },
    "id": "Aa1t0WoU1ZGg",
    "outputId": "04580c94-b7a1-4ea0-8882-ddc0198303e8"
   },
   "outputs": [
    {
     "name": "stdout",
     "output_type": "stream",
     "text": [
      "                            OLS Regression Results                            \n",
      "==============================================================================\n",
      "Dep. Variable:                      y   R-squared:                       0.973\n",
      "Model:                            OLS   Adj. R-squared:                  0.972\n",
      "Method:                 Least Squares   F-statistic:                     1260.\n",
      "Date:                Thu, 17 Jan 2019   Prob (F-statistic):           4.87e-29\n",
      "Time:                        19:57:51   Log-Likelihood:                 71.933\n",
      "No. Observations:                  37   AIC:                            -139.9\n",
      "Df Residuals:                      35   BIC:                            -136.6\n",
      "Df Model:                           1                                         \n",
      "Covariance Type:            nonrobust                                         \n",
      "==============================================================================\n",
      "                 coef    std err          t      P>|t|      [0.025      0.975]\n",
      "------------------------------------------------------------------------------\n",
      "const        -51.8541      1.625    -31.906      0.000     -55.153     -48.555\n",
      "x1             0.0291      0.001     35.501      0.000       0.027       0.031\n",
      "==============================================================================\n",
      "Omnibus:                        2.901   Durbin-Watson:                   0.943\n",
      "Prob(Omnibus):                  0.234   Jarque-Bera (JB):                2.518\n",
      "Skew:                           0.629   Prob(JB):                        0.284\n",
      "Kurtosis:                       2.777   Cond. No.                     5.50e+05\n",
      "==============================================================================\n",
      "\n",
      "Warnings:\n",
      "[1] Standard Errors assume that the covariance matrix of the errors is correctly specified.\n",
      "[2] The condition number is large, 5.5e+05. This might indicate that there are\n",
      "strong multicollinearity or other numerical problems.\n"
     ]
    },
    {
     "name": "stderr",
     "output_type": "stream",
     "text": [
      "/home/usuario/Descargas/lgalicia/python-FDS/fds/lib/python3.6/site-packages/ipykernel_launcher.py:1: FutureWarning: Method .as_matrix will be removed in a future version. Use .values instead.\n",
      "  \"\"\"Entry point for launching an IPython kernel.\n",
      "/home/usuario/Descargas/lgalicia/python-FDS/fds/lib/python3.6/site-packages/ipykernel_launcher.py:2: FutureWarning: Method .as_matrix will be removed in a future version. Use .values instead.\n",
      "  \n"
     ]
    }
   ],
   "source": [
    "Xmenpolev = menPolev['Year'].as_matrix().reshape(menPolev['Year'].shape[0], 1)\n",
    "Ymenpolev = menPolev['Record'].as_matrix().reshape(menPolev['Record'].shape[0], 1)\n",
    "\n",
    "Xmenpolev_ones = np.ones((Xmenpolev.shape[0], 1))\n",
    "Xmenpolev = np.concatenate((Xmenpolev_ones, Xmenpolev), axis=1)\n",
    "\n",
    "Xmenpolev_model = sm.OLS(Ymenpolev, Xmenpolev).fit()\n",
    "\n",
    "print(Xmenpolev_model.summary())"
   ]
  },
  {
   "cell_type": "code",
   "execution_count": null,
   "metadata": {
    "colab": {
     "autoexec": {
      "startup": false,
      "wait_interval": 0
     }
    },
    "colab_type": "code",
    "id": "I71uelM84jhQ"
   },
   "outputs": [],
   "source": []
  }
 ],
 "metadata": {
  "colab": {
   "default_view": {},
   "name": "lab4.ipynb",
   "provenance": [],
   "version": "0.3.2",
   "views": {}
  },
  "kernelspec": {
   "display_name": "Python 3",
   "language": "python",
   "name": "python3"
  },
  "language_info": {
   "codemirror_mode": {
    "name": "ipython",
    "version": 3
   },
   "file_extension": ".py",
   "mimetype": "text/x-python",
   "name": "python",
   "nbconvert_exporter": "python",
   "pygments_lexer": "ipython3",
   "version": "3.6.7"
  }
 },
 "nbformat": 4,
 "nbformat_minor": 1
}
