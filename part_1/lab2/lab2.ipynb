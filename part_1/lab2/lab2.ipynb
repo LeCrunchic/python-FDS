{
 "cells": [
  {
   "cell_type": "code",
   "execution_count": 1,
   "metadata": {
    "colab": {
     "autoexec": {
      "startup": false,
      "wait_interval": 0
     },
     "base_uri": "https://localhost:8080/",
     "height": 52
    },
    "colab_type": "code",
    "executionInfo": {
     "elapsed": 2934,
     "status": "ok",
     "timestamp": 1527595910560,
     "user": {
      "displayName": "Luis Galicia",
      "photoUrl": "https://lh3.googleusercontent.com/a/default-user=s128",
      "userId": "116873116001297431960"
     },
     "user_tz": 0
    },
    "id": "Sd2OcE8Am4_q",
    "outputId": "7a83db37-1e2e-42b9-de5d-245615d53633"
   },
   "outputs": [],
   "source": [
    "%matplotlib inline\n",
    "import numpy as np\n",
    "import pandas as pd\n",
    "import matplotlib.pyplot as plt\n",
    "import seaborn as sns"
   ]
  },
  {
   "cell_type": "code",
   "execution_count": 3,
   "metadata": {
    "colab": {
     "autoexec": {
      "startup": false,
      "wait_interval": 0
     }
    },
    "colab_type": "code",
    "id": "jhzjkWcNpG5T"
   },
   "outputs": [],
   "source": [
    "data = pd.read_csv('AnimalData.csv')"
   ]
  },
  {
   "cell_type": "code",
   "execution_count": 4,
   "metadata": {
    "colab": {
     "autoexec": {
      "startup": false,
      "wait_interval": 0
     },
     "base_uri": "https://localhost:8080/",
     "height": 429
    },
    "colab_type": "code",
    "executionInfo": {
     "elapsed": 540,
     "status": "ok",
     "timestamp": 1527595914432,
     "user": {
      "displayName": "Luis Galicia",
      "photoUrl": "https://lh3.googleusercontent.com/a/default-user=s128",
      "userId": "116873116001297431960"
     },
     "user_tz": 0
    },
    "id": "wbUNaGLHqL7r",
    "outputId": "4e021fc0-1bdc-4e1a-d3f9-e97306395619"
   },
   "outputs": [
    {
     "data": {
      "text/html": [
       "<div>\n",
       "<style scoped>\n",
       "    .dataframe tbody tr th:only-of-type {\n",
       "        vertical-align: middle;\n",
       "    }\n",
       "\n",
       "    .dataframe tbody tr th {\n",
       "        vertical-align: top;\n",
       "    }\n",
       "\n",
       "    .dataframe thead th {\n",
       "        text-align: right;\n",
       "    }\n",
       "</style>\n",
       "<table border=\"1\" class=\"dataframe\">\n",
       "  <thead>\n",
       "    <tr style=\"text-align: right;\">\n",
       "      <th></th>\n",
       "      <th>Impound.No</th>\n",
       "      <th>Intake.Date</th>\n",
       "      <th>Intake.Type</th>\n",
       "      <th>Animal.Type</th>\n",
       "      <th>Neutered.Status</th>\n",
       "      <th>Sex</th>\n",
       "      <th>Age.Intake</th>\n",
       "      <th>Condition</th>\n",
       "      <th>Breed</th>\n",
       "      <th>Aggressive</th>\n",
       "      <th>...</th>\n",
       "      <th>Good.with.Kids</th>\n",
       "      <th>Max.Life.Expectancy</th>\n",
       "      <th>Max.Weight</th>\n",
       "      <th>Dog.Group</th>\n",
       "      <th>Color</th>\n",
       "      <th>Weight</th>\n",
       "      <th>Lab.Test</th>\n",
       "      <th>Outcome.Date</th>\n",
       "      <th>Outcome.Type</th>\n",
       "      <th>Days.Shelter</th>\n",
       "    </tr>\n",
       "  </thead>\n",
       "  <tbody>\n",
       "    <tr>\n",
       "      <th>0</th>\n",
       "      <td>K12-000031</td>\n",
       "      <td>1/1/12</td>\n",
       "      <td>Stray</td>\n",
       "      <td>Dog</td>\n",
       "      <td>Spayed</td>\n",
       "      <td>Female</td>\n",
       "      <td>10</td>\n",
       "      <td>Injured or Sick</td>\n",
       "      <td>Chihuahua Sh Mix</td>\n",
       "      <td>N</td>\n",
       "      <td>...</td>\n",
       "      <td>N</td>\n",
       "      <td>18.0</td>\n",
       "      <td>6.0</td>\n",
       "      <td>Toy</td>\n",
       "      <td>Tan &amp; White</td>\n",
       "      <td>3.3</td>\n",
       "      <td>Heartworm Negative</td>\n",
       "      <td>1/7/12</td>\n",
       "      <td>Adoption</td>\n",
       "      <td>6</td>\n",
       "    </tr>\n",
       "    <tr>\n",
       "      <th>1</th>\n",
       "      <td>K12-000037</td>\n",
       "      <td>1/1/12</td>\n",
       "      <td>Stray</td>\n",
       "      <td>Dog</td>\n",
       "      <td>Intact</td>\n",
       "      <td>Female</td>\n",
       "      <td>3</td>\n",
       "      <td>Normal</td>\n",
       "      <td>Rat Terrier Mix</td>\n",
       "      <td>N</td>\n",
       "      <td>...</td>\n",
       "      <td>Y</td>\n",
       "      <td>14.0</td>\n",
       "      <td>25.0</td>\n",
       "      <td>Terrier</td>\n",
       "      <td>White &amp; Brown</td>\n",
       "      <td>7.5</td>\n",
       "      <td>No Lab Test</td>\n",
       "      <td>1/3/12</td>\n",
       "      <td>Return to Owner</td>\n",
       "      <td>2</td>\n",
       "    </tr>\n",
       "    <tr>\n",
       "      <th>2</th>\n",
       "      <td>K12-000108</td>\n",
       "      <td>1/1/12</td>\n",
       "      <td>Stray</td>\n",
       "      <td>Dog</td>\n",
       "      <td>Intact</td>\n",
       "      <td>Male</td>\n",
       "      <td>2</td>\n",
       "      <td>Normal</td>\n",
       "      <td>Pit Bull Mix</td>\n",
       "      <td>N</td>\n",
       "      <td>...</td>\n",
       "      <td>Y</td>\n",
       "      <td>14.0</td>\n",
       "      <td>90.0</td>\n",
       "      <td>Terrier</td>\n",
       "      <td>Blue &amp; White</td>\n",
       "      <td>74.0</td>\n",
       "      <td>Heartworm Negative</td>\n",
       "      <td>1/13/12</td>\n",
       "      <td>Humane Euthanasia</td>\n",
       "      <td>12</td>\n",
       "    </tr>\n",
       "    <tr>\n",
       "      <th>3</th>\n",
       "      <td>K12-000125</td>\n",
       "      <td>1/1/12</td>\n",
       "      <td>Stray</td>\n",
       "      <td>Dog</td>\n",
       "      <td>Neutered</td>\n",
       "      <td>Male</td>\n",
       "      <td>0</td>\n",
       "      <td>Normal</td>\n",
       "      <td>Labrador Retr &amp; Border Collie</td>\n",
       "      <td>N</td>\n",
       "      <td>...</td>\n",
       "      <td>Y</td>\n",
       "      <td>12.0</td>\n",
       "      <td>79.0</td>\n",
       "      <td>Sporting</td>\n",
       "      <td>White &amp; Black</td>\n",
       "      <td>22.0</td>\n",
       "      <td>No Lab Test</td>\n",
       "      <td>1/8/12</td>\n",
       "      <td>Adoption</td>\n",
       "      <td>7</td>\n",
       "    </tr>\n",
       "    <tr>\n",
       "      <th>4</th>\n",
       "      <td>K12-000157</td>\n",
       "      <td>1/1/12</td>\n",
       "      <td>Stray</td>\n",
       "      <td>Dog</td>\n",
       "      <td>Neutered</td>\n",
       "      <td>Male</td>\n",
       "      <td>3</td>\n",
       "      <td>Injured or Sick</td>\n",
       "      <td>Labrador Retr</td>\n",
       "      <td>N</td>\n",
       "      <td>...</td>\n",
       "      <td>Y</td>\n",
       "      <td>12.0</td>\n",
       "      <td>79.0</td>\n",
       "      <td>Sporting</td>\n",
       "      <td>Black &amp; White</td>\n",
       "      <td>54.0</td>\n",
       "      <td>Heartworm Negative</td>\n",
       "      <td>4/4/12</td>\n",
       "      <td>Adoption</td>\n",
       "      <td>94</td>\n",
       "    </tr>\n",
       "  </tbody>\n",
       "</table>\n",
       "<p>5 rows × 24 columns</p>\n",
       "</div>"
      ],
      "text/plain": [
       "   Impound.No Intake.Date Intake.Type Animal.Type Neutered.Status     Sex  \\\n",
       "0  K12-000031      1/1/12       Stray         Dog          Spayed  Female   \n",
       "1  K12-000037      1/1/12       Stray         Dog          Intact  Female   \n",
       "2  K12-000108      1/1/12       Stray         Dog          Intact    Male   \n",
       "3  K12-000125      1/1/12       Stray         Dog        Neutered    Male   \n",
       "4  K12-000157      1/1/12       Stray         Dog        Neutered    Male   \n",
       "\n",
       "   Age.Intake        Condition                          Breed Aggressive  \\\n",
       "0          10  Injured or Sick               Chihuahua Sh Mix          N   \n",
       "1           3           Normal                Rat Terrier Mix          N   \n",
       "2           2           Normal                   Pit Bull Mix          N   \n",
       "3           0           Normal  Labrador Retr & Border Collie          N   \n",
       "4           3  Injured or Sick                 Labrador Retr           N   \n",
       "\n",
       "       ...      Good.with.Kids Max.Life.Expectancy Max.Weight Dog.Group  \\\n",
       "0      ...                   N                18.0        6.0       Toy   \n",
       "1      ...                   Y                14.0       25.0   Terrier   \n",
       "2      ...                   Y                14.0       90.0   Terrier   \n",
       "3      ...                   Y                12.0       79.0  Sporting   \n",
       "4      ...                   Y                12.0       79.0  Sporting   \n",
       "\n",
       "           Color  Weight            Lab.Test Outcome.Date       Outcome.Type  \\\n",
       "0    Tan & White     3.3  Heartworm Negative       1/7/12           Adoption   \n",
       "1  White & Brown     7.5         No Lab Test       1/3/12    Return to Owner   \n",
       "2   Blue & White    74.0  Heartworm Negative      1/13/12  Humane Euthanasia   \n",
       "3  White & Black    22.0         No Lab Test       1/8/12           Adoption   \n",
       "4  Black & White    54.0  Heartworm Negative       4/4/12           Adoption   \n",
       "\n",
       "   Days.Shelter  \n",
       "0             6  \n",
       "1             2  \n",
       "2            12  \n",
       "3             7  \n",
       "4            94  \n",
       "\n",
       "[5 rows x 24 columns]"
      ]
     },
     "execution_count": 4,
     "metadata": {},
     "output_type": "execute_result"
    }
   ],
   "source": [
    "data.head()"
   ]
  },
  {
   "cell_type": "code",
   "execution_count": 6,
   "metadata": {
    "colab": {
     "autoexec": {
      "startup": false,
      "wait_interval": 0
     },
     "base_uri": "https://localhost:8080/",
     "height": 34
    },
    "colab_type": "code",
    "executionInfo": {
     "elapsed": 582,
     "status": "ok",
     "timestamp": 1527595915856,
     "user": {
      "displayName": "Luis Galicia",
      "photoUrl": "https://lh3.googleusercontent.com/a/default-user=s128",
      "userId": "116873116001297431960"
     },
     "user_tz": 0
    },
    "id": "ENADJEobqfVn",
    "outputId": "38770379-bd40-480f-bb79-e783ce366e20"
   },
   "outputs": [
    {
     "data": {
      "text/plain": [
       "24"
      ]
     },
     "execution_count": 6,
     "metadata": {
      "tags": []
     },
     "output_type": "execute_result"
    }
   ],
   "source": [
    "# Number of variables in the Dataset\n",
    "data.shape[1]"
   ]
  },
  {
   "cell_type": "code",
   "execution_count": 27,
   "metadata": {
    "colab": {
     "autoexec": {
      "startup": false,
      "wait_interval": 0
     },
     "base_uri": "https://localhost:8080/",
     "height": 34
    },
    "colab_type": "code",
    "executionInfo": {
     "elapsed": 728,
     "status": "ok",
     "timestamp": 1527595917830,
     "user": {
      "displayName": "Luis Galicia",
      "photoUrl": "https://lh3.googleusercontent.com/a/default-user=s128",
      "userId": "116873116001297431960"
     },
     "user_tz": 0
    },
    "id": "hykf70WUqyHS",
    "outputId": "b02b9619-a92e-4eed-c245-693c43afea23"
   },
   "outputs": [
    {
     "data": {
      "text/plain": [
       "4"
      ]
     },
     "execution_count": 27,
     "metadata": {},
     "output_type": "execute_result"
    }
   ],
   "source": [
    "# How Many of the first 10 animals in the dataset were adopted?\n",
    "outcome_type = data.columns.get_loc('Outcome.Type')\n",
    "(data.iloc[0:10, outcome_type] == 'Adoption').sum()"
   ]
  },
  {
   "cell_type": "code",
   "execution_count": 51,
   "metadata": {
    "colab": {
     "autoexec": {
      "startup": false,
      "wait_interval": 0
     },
     "base_uri": "https://localhost:8080/",
     "height": 165
    },
    "colab_type": "code",
    "executionInfo": {
     "elapsed": 508,
     "status": "ok",
     "timestamp": 1527598841470,
     "user": {
      "displayName": "Luis Galicia",
      "photoUrl": "https://lh3.googleusercontent.com/a/default-user=s128",
      "userId": "116873116001297431960"
     },
     "user_tz": 0
    },
    "id": "p37Y7w6TyvH7",
    "outputId": "8ba71dc9-ff50-4801-f1cb-5a43e10dad26"
   },
   "outputs": [
    {
     "data": {
      "text/html": [
       "<div>\n",
       "<style scoped>\n",
       "    .dataframe tbody tr th:only-of-type {\n",
       "        vertical-align: middle;\n",
       "    }\n",
       "\n",
       "    .dataframe tbody tr th {\n",
       "        vertical-align: top;\n",
       "    }\n",
       "\n",
       "    .dataframe thead th {\n",
       "        text-align: right;\n",
       "    }\n",
       "</style>\n",
       "<table border=\"1\" class=\"dataframe\">\n",
       "  <thead>\n",
       "    <tr style=\"text-align: right;\">\n",
       "      <th></th>\n",
       "      <th>Impound.No</th>\n",
       "      <th>Intake.Date</th>\n",
       "      <th>Intake.Type</th>\n",
       "      <th>Animal.Type</th>\n",
       "      <th>Neutered.Status</th>\n",
       "      <th>Sex</th>\n",
       "      <th>Age.Intake</th>\n",
       "      <th>Condition</th>\n",
       "      <th>Breed</th>\n",
       "      <th>Aggressive</th>\n",
       "      <th>...</th>\n",
       "      <th>Good.with.Kids</th>\n",
       "      <th>Max.Life.Expectancy</th>\n",
       "      <th>Max.Weight</th>\n",
       "      <th>Dog.Group</th>\n",
       "      <th>Color</th>\n",
       "      <th>Weight</th>\n",
       "      <th>Lab.Test</th>\n",
       "      <th>Outcome.Date</th>\n",
       "      <th>Outcome.Type</th>\n",
       "      <th>Days.Shelter</th>\n",
       "    </tr>\n",
       "  </thead>\n",
       "  <tbody>\n",
       "    <tr>\n",
       "      <th>6</th>\n",
       "      <td>K12-000291</td>\n",
       "      <td>1/1/12</td>\n",
       "      <td>Owner Surrender</td>\n",
       "      <td>Dog</td>\n",
       "      <td>Intact</td>\n",
       "      <td>Male</td>\n",
       "      <td>2</td>\n",
       "      <td>Normal</td>\n",
       "      <td>Weimaraner Mix</td>\n",
       "      <td>N</td>\n",
       "      <td>...</td>\n",
       "      <td>Y</td>\n",
       "      <td>13.0</td>\n",
       "      <td>80.0</td>\n",
       "      <td>Sporting</td>\n",
       "      <td>Fawn &amp; White</td>\n",
       "      <td>47.0</td>\n",
       "      <td>Heartworm Positive</td>\n",
       "      <td>1/26/12</td>\n",
       "      <td>Humane Euthanasia</td>\n",
       "      <td>25</td>\n",
       "    </tr>\n",
       "  </tbody>\n",
       "</table>\n",
       "<p>1 rows × 24 columns</p>\n",
       "</div>"
      ],
      "text/plain": [
       "   Impound.No Intake.Date      Intake.Type Animal.Type Neutered.Status   Sex  \\\n",
       "6  K12-000291      1/1/12  Owner Surrender         Dog          Intact  Male   \n",
       "\n",
       "   Age.Intake Condition           Breed Aggressive      ...       \\\n",
       "6           2    Normal  Weimaraner Mix          N      ...        \n",
       "\n",
       "  Good.with.Kids Max.Life.Expectancy Max.Weight Dog.Group         Color  \\\n",
       "6              Y                13.0       80.0  Sporting  Fawn & White   \n",
       "\n",
       "   Weight            Lab.Test Outcome.Date       Outcome.Type  Days.Shelter  \n",
       "6    47.0  Heartworm Positive      1/26/12  Humane Euthanasia            25  \n",
       "\n",
       "[1 rows x 24 columns]"
      ]
     },
     "execution_count": 51,
     "metadata": {
      "tags": []
     },
     "output_type": "execute_result"
    }
   ],
   "source": [
    "# Was the first owner-surrendered animal in the dataset neutered?\n",
    "data[ data['Intake.Type'] == 'Owner Surrender' ].head(1)\n",
    "# No"
   ]
  },
  {
   "cell_type": "code",
   "execution_count": 28,
   "metadata": {
    "colab": {
     "autoexec": {
      "startup": false,
      "wait_interval": 0
     },
     "base_uri": "https://localhost:8080/",
     "height": 299
    },
    "colab_type": "code",
    "executionInfo": {
     "elapsed": 1244,
     "status": "ok",
     "timestamp": 1527595922994,
     "user": {
      "displayName": "Luis Galicia",
      "photoUrl": "https://lh3.googleusercontent.com/a/default-user=s128",
      "userId": "116873116001297431960"
     },
     "user_tz": 0
    },
    "id": "gbQtYHHvzdiw",
    "outputId": "8b84a50a-5061-4e31-fa04-8f7951071de4"
   },
   "outputs": [
    {
     "data": {
      "text/plain": [
       "<matplotlib.axes._subplots.AxesSubplot at 0x7fd43752b0f0>"
      ]
     },
     "execution_count": 28,
     "metadata": {},
     "output_type": "execute_result"
    },
    {
     "data": {
      "image/png": "[encoded data removed]",
      "text/plain": [
       "<Figure size 432x288 with 1 Axes>"
      ]
     },
     "metadata": {
      "needs_background": "light"
     },
     "output_type": "display_data"
    }
   ],
   "source": [
    "#Distribution of days stayed in the shelter for animals who were adopted\n",
    "\n",
    "adopted = data['Outcome.Type'] == 'Adoption'\n",
    "adoptedStay = data['Days.Shelter'][adopted]\n",
    "\n",
    "sns.distplot(adoptedStay)"
   ]
  },
  {
   "cell_type": "code",
   "execution_count": 29,
   "metadata": {
    "colab": {
     "autoexec": {
      "startup": false,
      "wait_interval": 0
     },
     "base_uri": "https://localhost:8080/",
     "height": 34
    },
    "colab_type": "code",
    "executionInfo": {
     "elapsed": 1248,
     "status": "ok",
     "timestamp": 1527595925846,
     "user": {
      "displayName": "Luis Galicia",
      "photoUrl": "https://lh3.googleusercontent.com/a/default-user=s128",
      "userId": "116873116001297431960"
     },
     "user_tz": 0
    },
    "id": "JkeZkLUTY4SP",
    "outputId": "89e4dc61-6050-4b22-d374-f20397b09b07"
   },
   "outputs": [
    {
     "data": {
      "text/plain": [
       "13.0"
      ]
     },
     "execution_count": 29,
     "metadata": {},
     "output_type": "execute_result"
    }
   ],
   "source": [
    "# Median of the time an animal waited to be adopted (days)\n",
    "adoptedStay.median()"
   ]
  },
  {
   "cell_type": "code",
   "execution_count": 32,
   "metadata": {
    "colab": {
     "autoexec": {
      "startup": false,
      "wait_interval": 0
     },
     "base_uri": "https://localhost:8080/",
     "height": 34
    },
    "colab_type": "code",
    "executionInfo": {
     "elapsed": 3320,
     "status": "ok",
     "timestamp": 1527595930840,
     "user": {
      "displayName": "Luis Galicia",
      "photoUrl": "https://lh3.googleusercontent.com/a/default-user=s128",
      "userId": "116873116001297431960"
     },
     "user_tz": 0
    },
    "id": "pDTcR_JBZemv",
    "outputId": "51b5c05c-50ac-482f-fcef-5807b633c1bb"
   },
   "outputs": [
    {
     "data": {
      "text/plain": [
       "29.0"
      ]
     },
     "execution_count": 32,
     "metadata": {},
     "output_type": "execute_result"
    }
   ],
   "source": [
    "#IQR (Interquartile range - robust measure of spread)\n",
    "from scipy.stats import iqr\n",
    "\n",
    "IQR = iqr(adoptedStay)\n",
    "IQR\n",
    "\n",
    "# Q1 is the median of the 25th percentile \n",
    "# Q3 is the median of the 75th percentile\n",
    "# IQR = Q3 - Q1"
   ]
  },
  {
   "cell_type": "code",
   "execution_count": 12,
   "metadata": {
    "colab": {
     "autoexec": {
      "startup": false,
      "wait_interval": 0
     },
     "base_uri": "https://localhost:8080/",
     "height": 34
    },
    "colab_type": "code",
    "executionInfo": {
     "elapsed": 1658,
     "status": "ok",
     "timestamp": 1527595933652,
     "user": {
      "displayName": "Luis Galicia",
      "photoUrl": "https://lh3.googleusercontent.com/a/default-user=s128",
      "userId": "116873116001297431960"
     },
     "user_tz": 0
    },
    "id": "Q7VP7Aktgx85",
    "outputId": "c2639c2b-1504-44fa-9e9e-1e04eb9443d8"
   },
   "outputs": [
    {
     "data": {
      "text/plain": [
       "211"
      ]
     },
     "execution_count": 12,
     "metadata": {
      "tags": []
     },
     "output_type": "execute_result"
    }
   ],
   "source": [
    "# the longest stay for an (adopted) animal \n",
    "adoptedStay.max()"
   ]
  },
  {
   "cell_type": "code",
   "execution_count": 33,
   "metadata": {
    "colab": {
     "autoexec": {
      "startup": false,
      "wait_interval": 0
     },
     "base_uri": "https://localhost:8080/",
     "height": 34
    },
    "colab_type": "code",
    "executionInfo": {
     "elapsed": 804,
     "status": "ok",
     "timestamp": 1527595935124,
     "user": {
      "displayName": "Luis Galicia",
      "photoUrl": "https://lh3.googleusercontent.com/a/default-user=s128",
      "userId": "116873116001297431960"
     },
     "user_tz": 0
    },
    "id": "YSVEqLsWhABw",
    "outputId": "9c66da5e-550b-425f-dc2a-504da7eb91bd"
   },
   "outputs": [
    {
     "data": {
      "text/plain": [
       "5.088419876405858"
      ]
     },
     "execution_count": 33,
     "metadata": {},
     "output_type": "execute_result"
    }
   ],
   "source": [
    "# zscore of that animal\n",
    "\n",
    "# z = (x - mu) / std\n",
    "(adoptedStay.max() - adoptedStay.mean()) / adoptedStay.std()"
   ]
  },
  {
   "cell_type": "code",
   "execution_count": 14,
   "metadata": {
    "colab": {
     "autoexec": {
      "startup": false,
      "wait_interval": 0
     },
     "base_uri": "https://localhost:8080/",
     "height": 451
    },
    "colab_type": "code",
    "executionInfo": {
     "elapsed": 594,
     "status": "ok",
     "timestamp": 1527595936746,
     "user": {
      "displayName": "Luis Galicia",
      "photoUrl": "https://lh3.googleusercontent.com/a/default-user=s128",
      "userId": "116873116001297431960"
     },
     "user_tz": 0
    },
    "id": "y0xSjeLYnckJ",
    "outputId": "ef0ac829-0151-4ac0-f5c8-c47b25e7f70f"
   },
   "outputs": [
    {
     "data": {
      "text/plain": [
       "Impound.No                                  K12-020743\n",
       "Intake.Date                                   11/18/12\n",
       "Intake.Type                                      Stray\n",
       "Animal.Type                                        Dog\n",
       "Neutered.Status                               Neutered\n",
       "Sex                                               Male\n",
       "Age.Intake                                           2\n",
       "Condition                              Injured or Sick\n",
       "Breed                  Aust Cattle Dog & Labrador Retr\n",
       "Aggressive                                           Y\n",
       "Independent                                          N\n",
       "Intelligent                                          Y\n",
       "Loyal                                                Y\n",
       "Social                                               N\n",
       "Good.with.Kids                                       Y\n",
       "Max.Life.Expectancy                                 16\n",
       "Max.Weight                                          35\n",
       "Dog.Group                                      Herding\n",
       "Color                                      White & Tan\n",
       "Weight                                           48.25\n",
       "Lab.Test                            Heartworm Negative\n",
       "Outcome.Date                                   6/17/13\n",
       "Outcome.Type                                  Adoption\n",
       "Days.Shelter                                       211\n",
       "Name: 424, dtype: object"
      ]
     },
     "execution_count": 14,
     "metadata": {
      "tags": []
     },
     "output_type": "execute_result"
    }
   ],
   "source": [
    "data.iloc[adoptedStay.idxmax(),:]"
   ]
  },
  {
   "cell_type": "markdown",
   "metadata": {
    "colab_type": "text",
    "id": "d3Pd5bxZq0zh"
   },
   "source": [
    "# The Lab"
   ]
  },
  {
   "cell_type": "code",
   "execution_count": 35,
   "metadata": {
    "colab": {
     "autoexec": {
      "startup": false,
      "wait_interval": 0
     }
    },
    "colab_type": "code",
    "id": "gbE-mKXOqz6I"
   },
   "outputs": [],
   "source": [
    "# adult animals\n",
    "adults = data[data['Age.Intake'] >= 1]\n",
    "adultDogs = adults[adults['Animal.Type'] == 'Dog']\n",
    "adultCats = adults[adults['Animal.Type'] == 'Cat']"
   ]
  },
  {
   "cell_type": "code",
   "execution_count": 36,
   "metadata": {
    "colab": {
     "autoexec": {
      "startup": false,
      "wait_interval": 0
     },
     "base_uri": "https://localhost:8080/",
     "height": 34
    },
    "colab_type": "code",
    "executionInfo": {
     "elapsed": 552,
     "status": "ok",
     "timestamp": 1527595939238,
     "user": {
      "displayName": "Luis Galicia",
      "photoUrl": "https://lh3.googleusercontent.com/a/default-user=s128",
      "userId": "116873116001297431960"
     },
     "user_tz": 0
    },
    "id": "zAMgp9Werkxm",
    "outputId": "b54cbba0-b314-4bc4-da25-0eeb0e3b3d80"
   },
   "outputs": [
    {
     "data": {
      "text/plain": [
       "226"
      ]
     },
     "execution_count": 36,
     "metadata": {},
     "output_type": "execute_result"
    }
   ],
   "source": [
    "# How many adult dogs are in the shelter?\n",
    "adultDogs.shape[0]"
   ]
  },
  {
   "cell_type": "code",
   "execution_count": 37,
   "metadata": {
    "colab": {
     "autoexec": {
      "startup": false,
      "wait_interval": 0
     },
     "base_uri": "https://localhost:8080/",
     "height": 34
    },
    "colab_type": "code",
    "executionInfo": {
     "elapsed": 1024,
     "status": "ok",
     "timestamp": 1527595941076,
     "user": {
      "displayName": "Luis Galicia",
      "photoUrl": "https://lh3.googleusercontent.com/a/default-user=s128",
      "userId": "116873116001297431960"
     },
     "user_tz": 0
    },
    "id": "ine8WgLXru2X",
    "outputId": "9af1eec1-3837-4092-eb5c-26c8da2f4817"
   },
   "outputs": [
    {
     "data": {
      "text/plain": [
       "56"
      ]
     },
     "execution_count": 37,
     "metadata": {},
     "output_type": "execute_result"
    }
   ],
   "source": [
    "# How many adult cats are in the shelter?\n",
    "adultCats.shape[0]"
   ]
  },
  {
   "cell_type": "code",
   "execution_count": 38,
   "metadata": {
    "colab": {
     "autoexec": {
      "startup": false,
      "wait_interval": 0
     },
     "base_uri": "https://localhost:8080/",
     "height": 296
    },
    "colab_type": "code",
    "executionInfo": {
     "elapsed": 668,
     "status": "ok",
     "timestamp": 1527595943310,
     "user": {
      "displayName": "Luis Galicia",
      "photoUrl": "https://lh3.googleusercontent.com/a/default-user=s128",
      "userId": "116873116001297431960"
     },
     "user_tz": 0
    },
    "id": "XSSypF2wr7gz",
    "outputId": "bd7a5b60-1654-4f85-d985-4168020cebcd"
   },
   "outputs": [
    {
     "data": {
      "text/plain": [
       "<matplotlib.axes._subplots.AxesSubplot at 0x7fd43747b128>"
      ]
     },
     "execution_count": 38,
     "metadata": {},
     "output_type": "execute_result"
    },
    {
     "data": {
      "image/png": "[encoded data removed]",
      "text/plain": [
       "<Figure size 432x288 with 1 Axes>"
      ]
     },
     "metadata": {
      "needs_background": "light"
     },
     "output_type": "display_data"
    }
   ],
   "source": [
    "# distribution of the weight of adult dogs\n",
    "sns.distplot(adultDogs['Weight'])"
   ]
  },
  {
   "cell_type": "code",
   "execution_count": 39,
   "metadata": {
    "colab": {
     "autoexec": {
      "startup": false,
      "wait_interval": 0
     },
     "base_uri": "https://localhost:8080/",
     "height": 296
    },
    "colab_type": "code",
    "executionInfo": {
     "elapsed": 510,
     "status": "ok",
     "timestamp": 1527595944500,
     "user": {
      "displayName": "Luis Galicia",
      "photoUrl": "https://lh3.googleusercontent.com/a/default-user=s128",
      "userId": "116873116001297431960"
     },
     "user_tz": 0
    },
    "id": "_KxKe2I9sas5",
    "outputId": "26ec648b-8ab7-437a-f8d5-007ad7dd5e32"
   },
   "outputs": [
    {
     "data": {
      "text/plain": [
       "<matplotlib.axes._subplots.AxesSubplot at 0x7fd437399390>"
      ]
     },
     "execution_count": 39,
     "metadata": {},
     "output_type": "execute_result"
    },
    {
     "data": {
      "image/png": "[encoded data removed]",
      "text/plain": [
       "<Figure size 432x288 with 1 Axes>"
      ]
     },
     "metadata": {
      "needs_background": "light"
     },
     "output_type": "display_data"
    }
   ],
   "source": [
    "# distribution of adult cats weight\n",
    "sns.distplot(adultCats['Weight'])"
   ]
  },
  {
   "cell_type": "code",
   "execution_count": 40,
   "metadata": {
    "colab": {
     "autoexec": {
      "startup": false,
      "wait_interval": 0
     },
     "base_uri": "https://localhost:8080/",
     "height": 34
    },
    "colab_type": "code",
    "executionInfo": {
     "elapsed": 446,
     "status": "ok",
     "timestamp": 1527595945222,
     "user": {
      "displayName": "Luis Galicia",
      "photoUrl": "https://lh3.googleusercontent.com/a/default-user=s128",
      "userId": "116873116001297431960"
     },
     "user_tz": 0
    },
    "id": "iHDnWp7RssB1",
    "outputId": "a457b1ff-a9b2-4475-f17c-076e5bac3238"
   },
   "outputs": [
    {
     "data": {
      "text/plain": [
       "8.603571428571428"
      ]
     },
     "execution_count": 40,
     "metadata": {},
     "output_type": "execute_result"
    }
   ],
   "source": [
    "# average weight of adult cats (pounds)\n",
    "catWeightMean = adultCats.Weight.mean()\n",
    "catWeightMean"
   ]
  },
  {
   "cell_type": "code",
   "execution_count": 41,
   "metadata": {
    "colab": {
     "autoexec": {
      "startup": false,
      "wait_interval": 0
     },
     "base_uri": "https://localhost:8080/",
     "height": 34
    },
    "colab_type": "code",
    "executionInfo": {
     "elapsed": 386,
     "status": "ok",
     "timestamp": 1527595945964,
     "user": {
      "displayName": "Luis Galicia",
      "photoUrl": "https://lh3.googleusercontent.com/a/default-user=s128",
      "userId": "116873116001297431960"
     },
     "user_tz": 0
    },
    "id": "rPaC_HsztI4q",
    "outputId": "7d0f7b30-7108-4543-ce6a-f5e72dae0b5a"
   },
   "outputs": [
    {
     "data": {
      "text/plain": [
       "1.9115167024894406"
      ]
     },
     "execution_count": 41,
     "metadata": {},
     "output_type": "execute_result"
    }
   ],
   "source": [
    "# std of the weight of adult cats\n",
    "catWeightStd = adultCats.Weight.std()\n",
    "catWeightStd"
   ]
  },
  {
   "cell_type": "code",
   "execution_count": 22,
   "metadata": {
    "colab": {
     "autoexec": {
      "startup": false,
      "wait_interval": 0
     },
     "base_uri": "https://localhost:8080/",
     "height": 34
    },
    "colab_type": "code",
    "executionInfo": {
     "elapsed": 372,
     "status": "ok",
     "timestamp": 1527595946572,
     "user": {
      "displayName": "Luis Galicia",
      "photoUrl": "https://lh3.googleusercontent.com/a/default-user=s128",
      "userId": "116873116001297431960"
     },
     "user_tz": 0
    },
    "id": "83WqcnojtqWJ",
    "outputId": "bb923ad6-b7f7-485e-8a6e-a92b150946f4"
   },
   "outputs": [
    {
     "data": {
      "text/plain": [
       "2.2999686927678615"
      ]
     },
     "execution_count": 22,
     "metadata": {
      "tags": []
     },
     "output_type": "execute_result"
    }
   ],
   "source": [
    "# What is the z-score of a 13 pound adult cat? \n",
    "(13 - catWeightMean) / catWeightStd"
   ]
  },
  {
   "cell_type": "code",
   "execution_count": 23,
   "metadata": {
    "colab": {
     "autoexec": {
      "startup": false,
      "wait_interval": 0
     },
     "base_uri": "https://localhost:8080/",
     "height": 34
    },
    "colab_type": "code",
    "executionInfo": {
     "elapsed": 714,
     "status": "ok",
     "timestamp": 1527595947516,
     "user": {
      "displayName": "Luis Galicia",
      "photoUrl": "https://lh3.googleusercontent.com/a/default-user=s128",
      "userId": "116873116001297431960"
     },
     "user_tz": 0
    },
    "id": "UYS5vhqIuAwq",
    "outputId": "24bbb0b9-4ccd-4e9b-ae91-1bc0f22aa6dd"
   },
   "outputs": [
    {
     "data": {
      "text/plain": [
       "0.010724996894752037"
      ]
     },
     "execution_count": 23,
     "metadata": {
      "tags": []
     },
     "output_type": "execute_result"
    }
   ],
   "source": [
    "# What proportion of adult cats weigh more than 13 pounds, according to your data?\n",
    "from scipy.stats import norm\n",
    "1 - norm.cdf(13, catWeightMean, catWeightStd)\n",
    "# = that's 1%"
   ]
  },
  {
   "cell_type": "code",
   "execution_count": 42,
   "metadata": {
    "colab": {
     "autoexec": {
      "startup": false,
      "wait_interval": 0
     },
     "base_uri": "https://localhost:8080/",
     "height": 34
    },
    "colab_type": "code",
    "executionInfo": {
     "elapsed": 458,
     "status": "ok",
     "timestamp": 1527595948466,
     "user": {
      "displayName": "Luis Galicia",
      "photoUrl": "https://lh3.googleusercontent.com/a/default-user=s128",
      "userId": "116873116001297431960"
     },
     "user_tz": 0
    },
    "id": "kSmqcdYcvcf7",
    "outputId": "0fa1f1a9-4614-496e-ff3b-47e0bdfd8f93"
   },
   "outputs": [
    {
     "data": {
      "text/plain": [
       "35.25"
      ]
     },
     "execution_count": 42,
     "metadata": {},
     "output_type": "execute_result"
    }
   ],
   "source": [
    "# What quartile would contain a 13-pound adult dog?\n",
    "Q2 = adultDogs.Weight.median()\n",
    "Q2\n",
    "# answer: Q1"
   ]
  },
  {
   "cell_type": "code",
   "execution_count": 25,
   "metadata": {
    "colab": {
     "autoexec": {
      "startup": false,
      "wait_interval": 0
     },
     "base_uri": "https://localhost:8080/",
     "height": 34
    },
    "colab_type": "code",
    "executionInfo": {
     "elapsed": 432,
     "status": "ok",
     "timestamp": 1527595949198,
     "user": {
      "displayName": "Luis Galicia",
      "photoUrl": "https://lh3.googleusercontent.com/a/default-user=s128",
      "userId": "116873116001297431960"
     },
     "user_tz": 0
    },
    "id": "3O5xyNPuw56n",
    "outputId": "473e88e6-28a2-41a7-ab28-a7b2ff79cc1d"
   },
   "outputs": [
    {
     "data": {
      "text/plain": [
       "40.375"
      ]
     },
     "execution_count": 25,
     "metadata": {
      "tags": []
     },
     "output_type": "execute_result"
    }
   ],
   "source": [
    "# IQR of dogs weight\n",
    "from scipy.stats import iqr\n",
    "iqr(adultDogs.Weight)"
   ]
  },
  {
   "cell_type": "code",
   "execution_count": 27,
   "metadata": {
    "colab": {
     "autoexec": {
      "startup": false,
      "wait_interval": 0
     },
     "base_uri": "https://localhost:8080/",
     "height": 34
    },
    "colab_type": "code",
    "executionInfo": {
     "elapsed": 1112,
     "status": "ok",
     "timestamp": 1527595951830,
     "user": {
      "displayName": "Luis Galicia",
      "photoUrl": "https://lh3.googleusercontent.com/a/default-user=s128",
      "userId": "116873116001297431960"
     },
     "user_tz": 0
    },
    "id": "Qr1rS2aY0QdD",
    "outputId": "eb327e5b-957f-4037-cb1c-a234a52edbee"
   },
   "outputs": [
    {
     "data": {
      "text/plain": [
       "8.5"
      ]
     },
     "execution_count": 27,
     "metadata": {
      "tags": []
     },
     "output_type": "execute_result"
    }
   ],
   "source": [
    "# median of the cats weight\n",
    "adultCats.Weight.median()"
   ]
  },
  {
   "cell_type": "code",
   "execution_count": 26,
   "metadata": {
    "colab": {
     "autoexec": {
      "startup": false,
      "wait_interval": 0
     },
     "base_uri": "https://localhost:8080/",
     "height": 34
    },
    "colab_type": "code",
    "executionInfo": {
     "elapsed": 668,
     "status": "ok",
     "timestamp": 1527595950212,
     "user": {
      "displayName": "Luis Galicia",
      "photoUrl": "https://lh3.googleusercontent.com/a/default-user=s128",
      "userId": "116873116001297431960"
     },
     "user_tz": 0
    },
    "id": "OcSQdy-DzQdJ",
    "outputId": "bb0adf74-f3e3-4d1a-adfe-3e8351ba2b27"
   },
   "outputs": [
    {
     "data": {
      "text/plain": [
       "131.0"
      ]
     },
     "execution_count": 26,
     "metadata": {
      "tags": []
     },
     "output_type": "execute_result"
    }
   ],
   "source": [
    "# fattest dog (weight in pounds)\n",
    "adultDogs.Weight.max()"
   ]
  },
  {
   "cell_type": "markdown",
   "metadata": {
    "colab_type": "text",
    "id": "nM4yEk7Z0-FJ"
   },
   "source": [
    "### Problem Set \n"
   ]
  },
  {
   "cell_type": "code",
   "execution_count": 57,
   "metadata": {
    "colab": {
     "autoexec": {
      "startup": false,
      "wait_interval": 0
     },
     "base_uri": "https://localhost:8080/",
     "height": 104
    },
    "colab_type": "code",
    "executionInfo": {
     "elapsed": 632,
     "status": "ok",
     "timestamp": 1527599482062,
     "user": {
      "displayName": "Luis Galicia",
      "photoUrl": "https://lh3.googleusercontent.com/a/default-user=s128",
      "userId": "116873116001297431960"
     },
     "user_tz": 0
    },
    "id": "8yxEh1dN1MmC",
    "outputId": "8271466e-ec9d-408d-d460-683c39042a8c"
   },
   "outputs": [
    {
     "data": {
      "text/plain": [
       "Stray                 189\n",
       "Owner Surrender        81\n",
       "Public Assist          20\n",
       "Euthanasia Request      1\n",
       "Name: Intake.Type, dtype: int64"
      ]
     },
     "execution_count": 57,
     "metadata": {
      "tags": []
     },
     "output_type": "execute_result"
    }
   ],
   "source": [
    "#What was the most common way that dogs arrived in the shelter?\n",
    "data[data['Animal.Type'] == 'Dog']['Intake.Type'].value_counts()"
   ]
  },
  {
   "cell_type": "code",
   "execution_count": 29,
   "metadata": {
    "colab": {
     "autoexec": {
      "startup": false,
      "wait_interval": 0
     },
     "base_uri": "https://localhost:8080/",
     "height": 34
    },
    "colab_type": "code",
    "executionInfo": {
     "elapsed": 496,
     "status": "ok",
     "timestamp": 1527595954356,
     "user": {
      "displayName": "Luis Galicia",
      "photoUrl": "https://lh3.googleusercontent.com/a/default-user=s128",
      "userId": "116873116001297431960"
     },
     "user_tz": 0
    },
    "id": "vjQfqoke1_dq",
    "outputId": "2d51e02e-bd60-4ca3-df77-f59f9b8176d6"
   },
   "outputs": [
    {
     "data": {
      "text/plain": [
       "0.27835051546391754"
      ]
     },
     "execution_count": 29,
     "metadata": {
      "tags": []
     },
     "output_type": "execute_result"
    }
   ],
   "source": [
    "# What proportion of dogs were brought to the shelter as an owner surrender?\n",
    "81 / (189 + 81 + 20 + 1)\n",
    "# 27.83%"
   ]
  },
  {
   "cell_type": "code",
   "execution_count": 54,
   "metadata": {
    "colab": {
     "autoexec": {
      "startup": false,
      "wait_interval": 0
     },
     "base_uri": "https://localhost:8080/",
     "height": 34
    },
    "colab_type": "code",
    "executionInfo": {
     "elapsed": 616,
     "status": "ok",
     "timestamp": 1527599193580,
     "user": {
      "displayName": "Luis Galicia",
      "photoUrl": "https://lh3.googleusercontent.com/a/default-user=s128",
      "userId": "116873116001297431960"
     },
     "user_tz": 0
    },
    "id": "TGLG3jq01364",
    "outputId": "82637b93-957c-4045-bc28-8273f366166b"
   },
   "outputs": [
    {
     "data": {
      "text/plain": [
       "2"
      ]
     },
     "execution_count": 54,
     "metadata": {
      "tags": []
     },
     "output_type": "execute_result"
    }
   ],
   "source": [
    "# Of the dogs that were brought to the shelter as an owner surrender, how many were returned to their owner?\n",
    "allDogs = data[ data['Animal.Type'] == 'Dog']\n",
    "\n",
    "surrenderDog = allDogs[ allDogs['Intake.Type'] == 'Owner Surrender']\n",
    "\n",
    "surrenderReturned = surrenderDog[ surrenderDog['Outcome.Type'] == 'Return to Owner']\n",
    "\n",
    "surrenderReturned.shape[0]"
   ]
  },
  {
   "cell_type": "code",
   "execution_count": 55,
   "metadata": {
    "colab": {
     "autoexec": {
      "startup": false,
      "wait_interval": 0
     },
     "base_uri": "https://localhost:8080/",
     "height": 34
    },
    "colab_type": "code",
    "executionInfo": {
     "elapsed": 474,
     "status": "ok",
     "timestamp": 1527599245292,
     "user": {
      "displayName": "Luis Galicia",
      "photoUrl": "https://lh3.googleusercontent.com/a/default-user=s128",
      "userId": "116873116001297431960"
     },
     "user_tz": 0
    },
    "id": "tTSFTSVd_tuo",
    "outputId": "1ce902ce-b65b-44c3-b7f3-ad222a525d36"
   },
   "outputs": [
    {
     "data": {
      "text/plain": [
       "3.5"
      ]
     },
     "execution_count": 55,
     "metadata": {
      "tags": []
     },
     "output_type": "execute_result"
    }
   ],
   "source": [
    "# What was the mean number of days that the dogs referenced in the previous question spent at the shelter before being returned to their owner?\n",
    "surrenderReturned['Days.Shelter'].mean()"
   ]
  }
 ],
 "metadata": {
  "colab": {
   "default_view": {},
   "name": "lab2.ipynb",
   "provenance": [],
   "version": "0.3.2",
   "views": {}
  },
  "kernelspec": {
   "display_name": "Python 3",
   "language": "python",
   "name": "python3"
  },
  "language_info": {
   "codemirror_mode": {
    "name": "ipython",
    "version": 3
   },
   "file_extension": ".py",
   "mimetype": "text/x-python",
   "name": "python",
   "nbconvert_exporter": "python",
   "pygments_lexer": "ipython3",
   "version": "3.6.7"
  }
 },
 "nbformat": 4,
 "nbformat_minor": 1
}
