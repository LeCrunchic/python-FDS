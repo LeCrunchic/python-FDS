{
 "cells": [
  {
   "cell_type": "code",
   "execution_count": 9,
   "metadata": {
    "colab": {
     "autoexec": {
      "startup": false,
      "wait_interval": 0
     }
    },
    "colab_type": "code",
    "id": "Yf2NlMpnZi_M"
   },
   "outputs": [],
   "source": [
    "import pandas as pd\n",
    "import numpy as np\n",
    "import matplotlib.pyplot as plt\n",
    "import seaborn as sns\n",
    "\n",
    "plt.style.use(\"ggplot\")"
   ]
  },
  {
   "cell_type": "code",
   "execution_count": 4,
   "metadata": {
    "colab": {
     "autoexec": {
      "startup": false,
      "wait_interval": 0
     }
    },
    "colab_type": "code",
    "id": "KAwkyhkoaHFx"
   },
   "outputs": [],
   "source": [
    "worldData = pd.read_csv('WorldBankData.csv')"
   ]
  },
  {
   "cell_type": "markdown",
   "metadata": {
    "colab_type": "text",
    "id": "oUYBfnfHbl54"
   },
   "source": [
    "## Pre-lab"
   ]
  },
  {
   "cell_type": "markdown",
   "metadata": {
    "colab_type": "text",
    "id": "XchVUpOeoW-o"
   },
   "source": [
    "## Primary Research Question:\n",
    "### What model best describes the first decade of internet usage (1990-1999) in the United States? Which model is a better long-term fit?"
   ]
  },
  {
   "cell_type": "markdown",
   "metadata": {
    "colab_type": "text",
    "id": "S0pun_wKbplh"
   },
   "source": [
    "#### What is the first 'Low income' country in the dataset?"
   ]
  },
  {
   "cell_type": "code",
   "execution_count": 4,
   "metadata": {
    "colab": {
     "autoexec": {
      "startup": false,
      "wait_interval": 0
     },
     "base_uri": "https://localhost:8080/",
     "height": 36
    },
    "colab_type": "code",
    "executionInfo": {
     "elapsed": 672,
     "status": "ok",
     "timestamp": 1531305825655,
     "user": {
      "displayName": "Luis Galicia",
      "photoUrl": "https://lh3.googleusercontent.com/a/default-user=s128",
      "userId": "116873116001297431960"
     },
     "user_tz": 240
    },
    "id": "0xels_LbaqwH",
    "outputId": "ee5a9c8d-4fc7-45c7-9606-a731613bd7e7"
   },
   "outputs": [
    {
     "data": {
      "text/plain": [
       "'Afghanistan'"
      ]
     },
     "execution_count": 4,
     "metadata": {
      "tags": []
     },
     "output_type": "execute_result"
    }
   ],
   "source": [
    "worldData[worldData['IncomeGroup'] == 'Low income'].iloc[0]['Country']"
   ]
  },
  {
   "cell_type": "markdown",
   "metadata": {
    "colab_type": "text",
    "id": "NL4ETtujb36e"
   },
   "source": [
    "#### What was the rural population of Aruba in 1970?"
   ]
  },
  {
   "cell_type": "code",
   "execution_count": 8,
   "metadata": {
    "colab": {
     "autoexec": {
      "startup": false,
      "wait_interval": 0
     },
     "base_uri": "https://localhost:8080/",
     "height": 36
    },
    "colab_type": "code",
    "executionInfo": {
     "elapsed": 1004,
     "status": "ok",
     "timestamp": 1531305828756,
     "user": {
      "displayName": "Luis Galicia",
      "photoUrl": "https://lh3.googleusercontent.com/a/default-user=s128",
      "userId": "116873116001297431960"
     },
     "user_tz": 240
    },
    "id": "Hrkw5EvVb2uo",
    "outputId": "842ad938-df1e-4747-916e-104f7b4eb376"
   },
   "outputs": [
    {
     "data": {
      "text/plain": [
       "29164.0"
      ]
     },
     "execution_count": 8,
     "metadata": {},
     "output_type": "execute_result"
    }
   ],
   "source": [
    "worldData.iloc[10]['rural.population']"
   ]
  },
  {
   "cell_type": "markdown",
   "metadata": {
    "colab_type": "text",
    "id": "a13mshD6o8tV"
   },
   "source": [
    "#### What is the first year in which Australia had data on the number of mobile device suscriptions?"
   ]
  },
  {
   "cell_type": "code",
   "execution_count": 7,
   "metadata": {
    "colab": {
     "autoexec": {
      "startup": false,
      "wait_interval": 0
     },
     "base_uri": "https://localhost:8080/",
     "height": 36
    },
    "colab_type": "code",
    "executionInfo": {
     "elapsed": 1278,
     "status": "ok",
     "timestamp": 1531305830704,
     "user": {
      "displayName": "Luis Galicia",
      "photoUrl": "https://lh3.googleusercontent.com/a/default-user=s128",
      "userId": "116873116001297431960"
     },
     "user_tz": 240
    },
    "id": "ddVO1rt3pH8B",
    "outputId": "392b5e21-2eea-4c2f-d626-439436b89513"
   },
   "outputs": [
    {
     "data": {
      "text/plain": [
       "1987"
      ]
     },
     "execution_count": 7,
     "metadata": {
      "tags": []
     },
     "output_type": "execute_result"
    }
   ],
   "source": [
    "worldData[(worldData['Country'] == 'Australia') & (worldData['mobile.users'] > 0)].iloc[0]['year']"
   ]
  },
  {
   "cell_type": "markdown",
   "metadata": {
    "colab_type": "text",
    "id": "aD2LaDWUqDlf"
   },
   "source": [
    "#### Subset of data that only contains information about the United States since 1990."
   ]
  },
  {
   "cell_type": "code",
   "execution_count": 11,
   "metadata": {
    "colab": {
     "autoexec": {
      "startup": false,
      "wait_interval": 0
     }
    },
    "colab_type": "code",
    "id": "diptuLYIq5od"
   },
   "outputs": [],
   "source": [
    "usa90 = worldData[ (worldData['Country'] == 'United States') & (worldData['year'] > 1989)]"
   ]
  },
  {
   "cell_type": "markdown",
   "metadata": {
    "colab_type": "text",
    "id": "z2WPeNB-ut8U"
   },
   "source": [
    "### New variable *time* that represents the number of years elapsed since 1990."
   ]
  },
  {
   "cell_type": "code",
   "execution_count": 12,
   "metadata": {
    "colab": {
     "autoexec": {
      "startup": false,
      "wait_interval": 0
     },
     "base_uri": "https://localhost:8080/",
     "height": 243
    },
    "colab_type": "code",
    "executionInfo": {
     "elapsed": 2353,
     "status": "ok",
     "timestamp": 1531305837576,
     "user": {
      "displayName": "Luis Galicia",
      "photoUrl": "https://lh3.googleusercontent.com/a/default-user=s128",
      "userId": "116873116001297431960"
     },
     "user_tz": 240
    },
    "id": "m8xvtRQUu4IH",
    "outputId": "35a8732b-cebc-4178-8e32-2f7c01450c65"
   },
   "outputs": [
    {
     "name": "stderr",
     "output_type": "stream",
     "text": [
      "/home/usuario/Descargas/lgalicia/python-FDS/fds/lib/python3.6/site-packages/pandas/core/indexing.py:362: SettingWithCopyWarning: \n",
      "A value is trying to be set on a copy of a slice from a DataFrame.\n",
      "Try using .loc[row_indexer,col_indexer] = value instead\n",
      "\n",
      "See the caveats in the documentation: http://pandas.pydata.org/pandas-docs/stable/indexing.html#indexing-view-versus-copy\n",
      "  self.obj[key] = _infer_fill_value(value)\n",
      "/home/usuario/Descargas/lgalicia/python-FDS/fds/lib/python3.6/site-packages/pandas/core/indexing.py:543: SettingWithCopyWarning: \n",
      "A value is trying to be set on a copy of a slice from a DataFrame.\n",
      "Try using .loc[row_indexer,col_indexer] = value instead\n",
      "\n",
      "See the caveats in the documentation: http://pandas.pydata.org/pandas-docs/stable/indexing.html#indexing-view-versus-copy\n",
      "  self.obj[item] = s\n"
     ]
    }
   ],
   "source": [
    "usa90.loc[:,'time'] = worldData['year'] - 1990"
   ]
  },
  {
   "cell_type": "markdown",
   "metadata": {
    "colab_type": "text",
    "id": "YUj6qh_1yzW7"
   },
   "source": [
    "### Making new column *internetUsers.mil*, this expresses the number of internet users each year in millions."
   ]
  },
  {
   "cell_type": "code",
   "execution_count": 13,
   "metadata": {
    "colab": {
     "autoexec": {
      "startup": false,
      "wait_interval": 0
     },
     "base_uri": "https://localhost:8080/",
     "height": 243
    },
    "colab_type": "code",
    "executionInfo": {
     "elapsed": 620,
     "status": "ok",
     "timestamp": 1531305838688,
     "user": {
      "displayName": "Luis Galicia",
      "photoUrl": "https://lh3.googleusercontent.com/a/default-user=s128",
      "userId": "116873116001297431960"
     },
     "user_tz": 240
    },
    "id": "MFkWcA3HvKdK",
    "outputId": "a4a048fc-3ff0-4896-b86e-10db4a0fb749"
   },
   "outputs": [],
   "source": [
    "usa90.loc[:,'internetUsers.mil'] = usa90['internet.users'] / 1000000"
   ]
  },
  {
   "cell_type": "code",
   "execution_count": 14,
   "metadata": {
    "colab": {
     "autoexec": {
      "startup": false,
      "wait_interval": 0
     },
     "base_uri": "https://localhost:8080/",
     "height": 313
    },
    "colab_type": "code",
    "executionInfo": {
     "elapsed": 642,
     "status": "ok",
     "timestamp": 1531305839833,
     "user": {
      "displayName": "Luis Galicia",
      "photoUrl": "https://lh3.googleusercontent.com/a/default-user=s128",
      "userId": "116873116001297431960"
     },
     "user_tz": 240
    },
    "id": "9zhzgwumzaFn",
    "outputId": "dadd0cd1-cab0-4207-a714-4f5397bdba4b"
   },
   "outputs": [
    {
     "data": {
      "text/html": [
       "<div>\n",
       "<style scoped>\n",
       "    .dataframe tbody tr th:only-of-type {\n",
       "        vertical-align: middle;\n",
       "    }\n",
       "\n",
       "    .dataframe tbody tr th {\n",
       "        vertical-align: top;\n",
       "    }\n",
       "\n",
       "    .dataframe thead th {\n",
       "        text-align: right;\n",
       "    }\n",
       "</style>\n",
       "<table border=\"1\" class=\"dataframe\">\n",
       "  <thead>\n",
       "    <tr style=\"text-align: right;\">\n",
       "      <th></th>\n",
       "      <th>Country</th>\n",
       "      <th>Country.Code</th>\n",
       "      <th>year</th>\n",
       "      <th>Region</th>\n",
       "      <th>IncomeGroup</th>\n",
       "      <th>population</th>\n",
       "      <th>rural.population</th>\n",
       "      <th>hiv.cases</th>\n",
       "      <th>san.access</th>\n",
       "      <th>motor.vehicles</th>\n",
       "      <th>gas.price</th>\n",
       "      <th>co2.emission</th>\n",
       "      <th>mobile.users</th>\n",
       "      <th>internet.users</th>\n",
       "      <th>time</th>\n",
       "      <th>internetUsers.mil</th>\n",
       "    </tr>\n",
       "  </thead>\n",
       "  <tbody>\n",
       "    <tr>\n",
       "      <th>12644</th>\n",
       "      <td>United States</td>\n",
       "      <td>USA</td>\n",
       "      <td>1990</td>\n",
       "      <td>North America</td>\n",
       "      <td>High income</td>\n",
       "      <td>249623000.0</td>\n",
       "      <td>61656881.0</td>\n",
       "      <td>NaN</td>\n",
       "      <td>248382203.0</td>\n",
       "      <td>NaN</td>\n",
       "      <td>NaN</td>\n",
       "      <td>4768137.761</td>\n",
       "      <td>5181680.0</td>\n",
       "      <td>1958863.0</td>\n",
       "      <td>0</td>\n",
       "      <td>1.958863</td>\n",
       "    </tr>\n",
       "    <tr>\n",
       "      <th>12645</th>\n",
       "      <td>United States</td>\n",
       "      <td>USA</td>\n",
       "      <td>1991</td>\n",
       "      <td>North America</td>\n",
       "      <td>High income</td>\n",
       "      <td>252981000.0</td>\n",
       "      <td>61499681.0</td>\n",
       "      <td>NaN</td>\n",
       "      <td>NaN</td>\n",
       "      <td>NaN</td>\n",
       "      <td>NaN</td>\n",
       "      <td>4826703.418</td>\n",
       "      <td>7436741.0</td>\n",
       "      <td>2942659.0</td>\n",
       "      <td>1</td>\n",
       "      <td>2.942659</td>\n",
       "    </tr>\n",
       "    <tr>\n",
       "      <th>12646</th>\n",
       "      <td>United States</td>\n",
       "      <td>USA</td>\n",
       "      <td>1992</td>\n",
       "      <td>North America</td>\n",
       "      <td>High income</td>\n",
       "      <td>256514000.0</td>\n",
       "      <td>61358149.0</td>\n",
       "      <td>NaN</td>\n",
       "      <td>NaN</td>\n",
       "      <td>NaN</td>\n",
       "      <td>0.32</td>\n",
       "      <td>4922195.765</td>\n",
       "      <td>10899406.0</td>\n",
       "      <td>4422821.0</td>\n",
       "      <td>2</td>\n",
       "      <td>4.422821</td>\n",
       "    </tr>\n",
       "    <tr>\n",
       "      <th>12647</th>\n",
       "      <td>United States</td>\n",
       "      <td>USA</td>\n",
       "      <td>1993</td>\n",
       "      <td>North America</td>\n",
       "      <td>High income</td>\n",
       "      <td>259919000.0</td>\n",
       "      <td>61158941.0</td>\n",
       "      <td>NaN</td>\n",
       "      <td>NaN</td>\n",
       "      <td>NaN</td>\n",
       "      <td>NaN</td>\n",
       "      <td>5029767.210</td>\n",
       "      <td>15864719.0</td>\n",
       "      <td>5904511.0</td>\n",
       "      <td>3</td>\n",
       "      <td>5.904511</td>\n",
       "    </tr>\n",
       "    <tr>\n",
       "      <th>12648</th>\n",
       "      <td>United States</td>\n",
       "      <td>USA</td>\n",
       "      <td>1994</td>\n",
       "      <td>North America</td>\n",
       "      <td>High income</td>\n",
       "      <td>263126000.0</td>\n",
       "      <td>60887356.0</td>\n",
       "      <td>NaN</td>\n",
       "      <td>NaN</td>\n",
       "      <td>NaN</td>\n",
       "      <td>NaN</td>\n",
       "      <td>5121559.554</td>\n",
       "      <td>23957416.0</td>\n",
       "      <td>12795240.0</td>\n",
       "      <td>4</td>\n",
       "      <td>12.795240</td>\n",
       "    </tr>\n",
       "  </tbody>\n",
       "</table>\n",
       "</div>"
      ],
      "text/plain": [
       "             Country Country.Code  year         Region  IncomeGroup  \\\n",
       "12644  United States          USA  1990  North America  High income   \n",
       "12645  United States          USA  1991  North America  High income   \n",
       "12646  United States          USA  1992  North America  High income   \n",
       "12647  United States          USA  1993  North America  High income   \n",
       "12648  United States          USA  1994  North America  High income   \n",
       "\n",
       "        population  rural.population  hiv.cases   san.access  motor.vehicles  \\\n",
       "12644  249623000.0        61656881.0        NaN  248382203.0             NaN   \n",
       "12645  252981000.0        61499681.0        NaN          NaN             NaN   \n",
       "12646  256514000.0        61358149.0        NaN          NaN             NaN   \n",
       "12647  259919000.0        61158941.0        NaN          NaN             NaN   \n",
       "12648  263126000.0        60887356.0        NaN          NaN             NaN   \n",
       "\n",
       "       gas.price  co2.emission  mobile.users  internet.users  time  \\\n",
       "12644        NaN   4768137.761     5181680.0       1958863.0     0   \n",
       "12645        NaN   4826703.418     7436741.0       2942659.0     1   \n",
       "12646       0.32   4922195.765    10899406.0       4422821.0     2   \n",
       "12647        NaN   5029767.210    15864719.0       5904511.0     3   \n",
       "12648        NaN   5121559.554    23957416.0      12795240.0     4   \n",
       "\n",
       "       internetUsers.mil  \n",
       "12644           1.958863  \n",
       "12645           2.942659  \n",
       "12646           4.422821  \n",
       "12647           5.904511  \n",
       "12648          12.795240  "
      ]
     },
     "execution_count": 14,
     "metadata": {},
     "output_type": "execute_result"
    }
   ],
   "source": [
    "usa90.head()"
   ]
  },
  {
   "cell_type": "markdown",
   "metadata": {
    "colab_type": "text",
    "id": "th68JB1Q1QJX"
   },
   "source": [
    "## Exponential model fit of the number of users per year from 1990 to 1999."
   ]
  },
  {
   "cell_type": "code",
   "execution_count": 15,
   "metadata": {
    "colab": {
     "autoexec": {
      "startup": false,
      "wait_interval": 0
     }
    },
    "colab_type": "code",
    "id": "BSTloowl1Uxo"
   },
   "outputs": [],
   "source": [
    "# Getting the subset of the original data for the relevant years (1990 -> 1999)\n",
    "usa9099 = usa90.iloc[:10,:].copy()"
   ]
  },
  {
   "cell_type": "code",
   "execution_count": 16,
   "metadata": {
    "colab": {
     "autoexec": {
      "startup": false,
      "wait_interval": 0
     }
    },
    "colab_type": "code",
    "id": "XqXS0Ga_2BIp"
   },
   "outputs": [],
   "source": [
    "usersPerYear = usa9099['internetUsers.mil'].values\n",
    "year = usa9099['time'].values"
   ]
  },
  {
   "cell_type": "code",
   "execution_count": 17,
   "metadata": {
    "colab": {
     "autoexec": {
      "startup": false,
      "wait_interval": 0
     },
     "base_uri": "https://localhost:8080/",
     "height": 395
    },
    "colab_type": "code",
    "executionInfo": {
     "elapsed": 950,
     "status": "ok",
     "timestamp": 1531305844272,
     "user": {
      "displayName": "Luis Galicia",
      "photoUrl": "https://lh3.googleusercontent.com/a/default-user=s128",
      "userId": "116873116001297431960"
     },
     "user_tz": 240
    },
    "id": "Pc171FZ2fQZw",
    "outputId": "346b388e-ac59-4e8e-f868-f5413a5d624f"
   },
   "outputs": [
    {
     "data": {
      "text/plain": [
       "Text(0, 0.5, 'Log10 of # of internet users in millions')"
      ]
     },
     "execution_count": 17,
     "metadata": {},
     "output_type": "execute_result"
    },
    {
     "data": {
      "image/png": "[encoded data removed]",
      "text/plain": [
       "<Figure size 432x288 with 1 Axes>"
      ]
     },
     "metadata": {},
     "output_type": "display_data"
    }
   ],
   "source": [
    "from scipy.stats import linregress\n",
    "\n",
    "slope, intercept, rvalue, pvalue, stderr = linregress(year, np.log10(usersPerYear))\n",
    "ypred = slope * year + intercept\n",
    "\n",
    "plt.scatter(year, np.log10(usersPerYear))\n",
    "plt.plot(year, ypred)\n",
    "\n",
    "plt.title('Internet users in the USA from 1990 to 1999 (Log space)')\n",
    "plt.xlabel('Year starting from 1990')\n",
    "plt.ylabel('Log10 of # of internet users in millions')"
   ]
  },
  {
   "cell_type": "code",
   "execution_count": 18,
   "metadata": {
    "colab": {
     "autoexec": {
      "startup": false,
      "wait_interval": 0
     },
     "base_uri": "https://localhost:8080/",
     "height": 36
    },
    "colab_type": "code",
    "executionInfo": {
     "elapsed": 1061,
     "status": "ok",
     "timestamp": 1531305845956,
     "user": {
      "displayName": "Luis Galicia",
      "photoUrl": "https://lh3.googleusercontent.com/a/default-user=s128",
      "userId": "116873116001297431960"
     },
     "user_tz": 240
    },
    "id": "jhGbnSovonE-",
    "outputId": "935aedcf-3c4d-479a-f761-9ebe41ee8acc"
   },
   "outputs": [
    {
     "name": "stdout",
     "output_type": "stream",
     "text": [
      "b: 1.6084463152697666 a: 1.8718378474676953\n"
     ]
    }
   ],
   "source": [
    "print('b:', 10**slope, 'a:', 10**intercept)"
   ]
  },
  {
   "cell_type": "code",
   "execution_count": 19,
   "metadata": {
    "colab": {
     "autoexec": {
      "startup": false,
      "wait_interval": 0
     },
     "base_uri": "https://localhost:8080/",
     "height": 395
    },
    "colab_type": "code",
    "executionInfo": {
     "elapsed": 917,
     "status": "ok",
     "timestamp": 1531305847317,
     "user": {
      "displayName": "Luis Galicia",
      "photoUrl": "https://lh3.googleusercontent.com/a/default-user=s128",
      "userId": "116873116001297431960"
     },
     "user_tz": 240
    },
    "id": "jy78UEc2211p",
    "outputId": "7b49d83e-851c-425a-a2c9-4086bbc4ac11"
   },
   "outputs": [
    {
     "data": {
      "text/plain": [
       "Text(0, 0.5, '# of internet users in millions')"
      ]
     },
     "execution_count": 19,
     "metadata": {},
     "output_type": "execute_result"
    },
    {
     "data": {
      "image/png": "[encoded data removed]",
      "text/plain": [
       "<Figure size 432x288 with 1 Axes>"
      ]
     },
     "metadata": {},
     "output_type": "display_data"
    }
   ],
   "source": [
    "plt.scatter(year, usersPerYear)\n",
    "plt.plot(year, np.power(10, ypred))\n",
    "\n",
    "plt.title('Internet users in the USA from 1990 to 1999')\n",
    "plt.xlabel('Year starting from 1990')\n",
    "plt.ylabel('# of internet users in millions')"
   ]
  },
  {
   "cell_type": "markdown",
   "metadata": {
    "colab_type": "text",
    "id": "i-6nkB3Gx5wM"
   },
   "source": [
    "## Logistic model fit"
   ]
  },
  {
   "cell_type": "code",
   "execution_count": 20,
   "metadata": {
    "colab": {
     "autoexec": {
      "startup": false,
      "wait_interval": 0
     }
    },
    "colab_type": "code",
    "id": "VuQP_aVYx-4j"
   },
   "outputs": [],
   "source": [
    "from scipy.optimize import curve_fit\n",
    "truyear = usa9099['year'].values\n",
    "\n",
    "def func(x, c, a):\n",
    "  y = c / (1 + a * np.exp(-x))\n",
    "  return y\n",
    "\n",
    "popt, pcov = curve_fit(func, year, usersPerYear)"
   ]
  },
  {
   "cell_type": "code",
   "execution_count": 21,
   "metadata": {
    "colab": {
     "autoexec": {
      "startup": false,
      "wait_interval": 0
     }
    },
    "colab_type": "code",
    "id": "j6m-_KUt6JUQ"
   },
   "outputs": [],
   "source": [
    "smoother_year = np.linspace(0, year[-1], 100)\n",
    "ypred_logit = popt[0] / (1 + popt[1] * np.exp(-smoother_year) )"
   ]
  },
  {
   "cell_type": "code",
   "execution_count": 22,
   "metadata": {
    "colab": {
     "autoexec": {
      "startup": false,
      "wait_interval": 0
     },
     "base_uri": "https://localhost:8080/",
     "height": 395
    },
    "colab_type": "code",
    "executionInfo": {
     "elapsed": 820,
     "status": "ok",
     "timestamp": 1531305860757,
     "user": {
      "displayName": "Luis Galicia",
      "photoUrl": "https://lh3.googleusercontent.com/a/default-user=s128",
      "userId": "116873116001297431960"
     },
     "user_tz": 240
    },
    "id": "anj813-T7o-3",
    "outputId": "8d8a75d8-c757-4ef0-ab66-44c76f1c0ec5"
   },
   "outputs": [
    {
     "data": {
      "text/plain": [
       "Text(0, 0.5, '# of internet users in millions')"
      ]
     },
     "execution_count": 22,
     "metadata": {},
     "output_type": "execute_result"
    },
    {
     "data": {
      "image/png": "[encoded data removed]",
      "text/plain": [
       "<Figure size 432x288 with 1 Axes>"
      ]
     },
     "metadata": {},
     "output_type": "display_data"
    }
   ],
   "source": [
    "plt.scatter(year, usersPerYear)\n",
    "plt.plot(smoother_year, ypred_logit, color='green')\n",
    "\n",
    "plt.title('Internet users in the USA from 1990 to 1999')\n",
    "plt.xlabel('Year starting from 1990')\n",
    "plt.ylabel('# of internet users in millions')"
   ]
  },
  {
   "cell_type": "markdown",
   "metadata": {
    "colab_type": "text",
    "id": "MDEnUZuX8Tn_"
   },
   "source": [
    "## The Lab "
   ]
  },
  {
   "cell_type": "markdown",
   "metadata": {
    "colab_type": "text",
    "id": "CqQs0o7-8Yh7"
   },
   "source": [
    "### Denmark is a high-income country in Europe of about 5.5 million people. What is the best-fitting model for growth of internet usage in Denmark since 1990?  "
   ]
  },
  {
   "cell_type": "code",
   "execution_count": 24,
   "metadata": {
    "colab": {
     "autoexec": {
      "startup": false,
      "wait_interval": 0
     }
    },
    "colab_type": "code",
    "id": "EhboI_1b8Rms"
   },
   "outputs": [],
   "source": [
    "denmark = worldData[worldData['Country'] == 'Denmark']"
   ]
  },
  {
   "cell_type": "code",
   "execution_count": 25,
   "metadata": {
    "colab": {
     "autoexec": {
      "startup": false,
      "wait_interval": 0
     }
    },
    "colab_type": "code",
    "id": "G1gW6W4IG4F6"
   },
   "outputs": [],
   "source": [
    "denmark90 = denmark[denmark['year'] > 1989]\n",
    "year = (denmark90['year'] - 1990).values"
   ]
  },
  {
   "cell_type": "markdown",
   "metadata": {
    "colab_type": "text",
    "id": "Mk3mXQRfGuyw"
   },
   "source": [
    "### Exponential Model"
   ]
  },
  {
   "cell_type": "code",
   "execution_count": 26,
   "metadata": {
    "colab": {
     "autoexec": {
      "startup": false,
      "wait_interval": 0
     }
    },
    "colab_type": "code",
    "id": "QGPvj7hoGTEw"
   },
   "outputs": [],
   "source": [
    "n_users = denmark90['internet.users'].values / 1000000"
   ]
  },
  {
   "cell_type": "code",
   "execution_count": 27,
   "metadata": {
    "colab": {
     "autoexec": {
      "startup": false,
      "wait_interval": 0
     },
     "base_uri": "https://localhost:8080/",
     "height": 381
    },
    "colab_type": "code",
    "executionInfo": {
     "elapsed": 1908,
     "status": "ok",
     "timestamp": 1531311132380,
     "user": {
      "displayName": "Luis Galicia",
      "photoUrl": "https://lh3.googleusercontent.com/a/default-user=s128",
      "userId": "116873116001297431960"
     },
     "user_tz": 240
    },
    "id": "XShad04mIDtO",
    "outputId": "0819b84b-6afe-4623-feb8-b97856788333"
   },
   "outputs": [
    {
     "name": "stdout",
     "output_type": "stream",
     "text": [
      "R2: 0.8041203516218993\n"
     ]
    },
    {
     "data": {
      "image/png": "[encoded data removed]",
      "text/plain": [
       "<Figure size 432x288 with 1 Axes>"
      ]
     },
     "metadata": {},
     "output_type": "display_data"
    }
   ],
   "source": [
    "slope, intercept, rvalue, pvalue, stderr = linregress(year, np.log10(n_users))\n",
    "yDen_expPred = slope * year + intercept\n",
    "\n",
    "plt.scatter(year, np.log10(n_users))\n",
    "plt.plot(year, yDen_expPred, color='red')\n",
    "\n",
    "plt.xlabel('Years elapsed since 1990')\n",
    "plt.ylabel('# of users in millions (Log10)')\n",
    "\n",
    "print('R2:', rvalue**2)"
   ]
  },
  {
   "cell_type": "markdown",
   "metadata": {
    "colab_type": "text",
    "id": "hkIJBW9QLNYw"
   },
   "source": [
    "### Logistic Model"
   ]
  },
  {
   "cell_type": "code",
   "execution_count": 28,
   "metadata": {
    "colab": {
     "autoexec": {
      "startup": false,
      "wait_interval": 0
     },
     "base_uri": "https://localhost:8080/",
     "height": 399
    },
    "colab_type": "code",
    "executionInfo": {
     "elapsed": 681,
     "status": "ok",
     "timestamp": 1531312787569,
     "user": {
      "displayName": "Luis Galicia",
      "photoUrl": "https://lh3.googleusercontent.com/a/default-user=s128",
      "userId": "116873116001297431960"
     },
     "user_tz": 240
    },
    "id": "FGd-PyscK81_",
    "outputId": "a6cca0cd-f05e-4aab-c801-12489d9d6ff6"
   },
   "outputs": [
    {
     "name": "stdout",
     "output_type": "stream",
     "text": [
      "R2: 0.9771168894809222 \n",
      "a: 48972.44863934642\n"
     ]
    },
    {
     "data": {
      "image/png": "[encoded data removed]",
      "text/plain": [
       "<Figure size 432x288 with 1 Axes>"
      ]
     },
     "metadata": {},
     "output_type": "display_data"
    }
   ],
   "source": [
    "from scipy.stats import pearsonr\n",
    "\n",
    "def func(x, a):\n",
    "  y = 5.1 / (1 + a * np.exp(-x))\n",
    "  return y\n",
    "\n",
    "params, paramsCov = curve_fit(func, year, n_users)\n",
    "\n",
    "yDen_logitPred = 5.1 / (1 + params[0] * np.exp(-year))\n",
    "\n",
    "plt.scatter(year, n_users)\n",
    "plt.plot(year, yDen_logitPred, color='green')\n",
    "\n",
    "plt.xlabel('Years elapsed since 1990')\n",
    "plt.ylabel('# of users in millions')\n",
    "\n",
    "print('R2:', pearsonr(n_users, yDen_logitPred)[0]**2, '\\na:', params[0] )"
   ]
  }
 ],
 "metadata": {
  "colab": {
   "default_view": {},
   "name": "lab6.ipynb",
   "provenance": [],
   "version": "0.3.2",
   "views": {}
  },
  "kernelspec": {
   "display_name": "Python 3",
   "language": "python",
   "name": "python3"
  },
  "language_info": {
   "codemirror_mode": {
    "name": "ipython",
    "version": 3
   },
   "file_extension": ".py",
   "mimetype": "text/x-python",
   "name": "python",
   "nbconvert_exporter": "python",
   "pygments_lexer": "ipython3",
   "version": "3.6.7"
  }
 },
 "nbformat": 4,
 "nbformat_minor": 1
}
