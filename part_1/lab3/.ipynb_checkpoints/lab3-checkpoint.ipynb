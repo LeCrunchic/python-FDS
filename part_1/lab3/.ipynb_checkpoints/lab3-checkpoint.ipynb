{
 "cells": [
  {
   "cell_type": "markdown",
   "metadata": {
    "colab_type": "text",
    "id": "AobQLiUCIxl1"
   },
   "source": [
    "### For the 2013 season, is there a linear relationship between  how ofter a rider placed in the top 10 and the number of times he stayed on his bull for a full 8 seconds?\n"
   ]
  },
  {
   "cell_type": "code",
   "execution_count": 1,
   "metadata": {
    "colab": {
     "autoexec": {
      "startup": false,
      "wait_interval": 0
     },
     "base_uri": "https://localhost:8080/",
     "height": 52
    },
    "colab_type": "code",
    "executionInfo": {
     "elapsed": 271,
     "status": "ok",
     "timestamp": 1528465716017,
     "user": {
      "displayName": "Luis Galicia",
      "photoUrl": "https://lh3.googleusercontent.com/a/default-user=s128",
      "userId": "116873116001297431960"
     },
     "user_tz": 240
    },
    "id": "FXy6S3tqJMpb",
    "outputId": "0d8b2cbe-26ee-434f-d8f6-d9758f539ea0"
   },
   "outputs": [],
   "source": [
    "import numpy as np\n",
    "import pandas as pd\n",
    "import matplotlib.pyplot as plt\n",
    "import seaborn as sns"
   ]
  },
  {
   "cell_type": "code",
   "execution_count": 4,
   "metadata": {
    "colab": {
     "autoexec": {
      "startup": false,
      "wait_interval": 0
     },
     "base_uri": "https://localhost:8080/",
     "height": 360
    },
    "colab_type": "code",
    "executionInfo": {
     "elapsed": 2944,
     "status": "ok",
     "timestamp": 1528465726546,
     "user": {
      "displayName": "Luis Galicia",
      "photoUrl": "https://lh3.googleusercontent.com/a/default-user=s128",
      "userId": "116873116001297431960"
     },
     "user_tz": 240
    },
    "id": "jfSGNl7eLiHb",
    "outputId": "7be37455-a083-4abb-df5d-aa1170e90f9c"
   },
   "outputs": [
    {
     "data": {
      "text/html": [
       "<div>\n",
       "<style scoped>\n",
       "    .dataframe tbody tr th:only-of-type {\n",
       "        vertical-align: middle;\n",
       "    }\n",
       "\n",
       "    .dataframe tbody tr th {\n",
       "        vertical-align: top;\n",
       "    }\n",
       "\n",
       "    .dataframe thead th {\n",
       "        text-align: right;\n",
       "    }\n",
       "</style>\n",
       "<table border=\"1\" class=\"dataframe\">\n",
       "  <thead>\n",
       "    <tr style=\"text-align: right;\">\n",
       "      <th></th>\n",
       "      <th>Rider</th>\n",
       "      <th>Rank15</th>\n",
       "      <th>Country</th>\n",
       "      <th>YearBorn</th>\n",
       "      <th>Height</th>\n",
       "      <th>Weight</th>\n",
       "      <th>YearsPro</th>\n",
       "      <th>Events14</th>\n",
       "      <th>BuckOuts14</th>\n",
       "      <th>Rides14</th>\n",
       "      <th>...</th>\n",
       "      <th>BuckOuts12</th>\n",
       "      <th>Rides12</th>\n",
       "      <th>CupPoints12</th>\n",
       "      <th>Rank12</th>\n",
       "      <th>RidePer12</th>\n",
       "      <th>Wins12</th>\n",
       "      <th>Top5_12</th>\n",
       "      <th>Top10_12</th>\n",
       "      <th>FinalPoints12</th>\n",
       "      <th>Earnings12</th>\n",
       "    </tr>\n",
       "  </thead>\n",
       "  <tbody>\n",
       "    <tr>\n",
       "      <th>0</th>\n",
       "      <td>Joao Ricardo Vieira</td>\n",
       "      <td>1</td>\n",
       "      <td>BRA</td>\n",
       "      <td>1984</td>\n",
       "      <td>66</td>\n",
       "      <td>163</td>\n",
       "      <td>3</td>\n",
       "      <td>28</td>\n",
       "      <td>93</td>\n",
       "      <td>41</td>\n",
       "      <td>...</td>\n",
       "      <td>0</td>\n",
       "      <td>0</td>\n",
       "      <td>0.00</td>\n",
       "      <td>0</td>\n",
       "      <td>0.00</td>\n",
       "      <td>0</td>\n",
       "      <td>0</td>\n",
       "      <td>0</td>\n",
       "      <td>0.0</td>\n",
       "      <td>0.00</td>\n",
       "    </tr>\n",
       "    <tr>\n",
       "      <th>1</th>\n",
       "      <td>Matt Triplett</td>\n",
       "      <td>2</td>\n",
       "      <td>USA</td>\n",
       "      <td>1991</td>\n",
       "      <td>67</td>\n",
       "      <td>160</td>\n",
       "      <td>4</td>\n",
       "      <td>28</td>\n",
       "      <td>86</td>\n",
       "      <td>33</td>\n",
       "      <td>...</td>\n",
       "      <td>0</td>\n",
       "      <td>0</td>\n",
       "      <td>0.00</td>\n",
       "      <td>0</td>\n",
       "      <td>0.00</td>\n",
       "      <td>0</td>\n",
       "      <td>0</td>\n",
       "      <td>0</td>\n",
       "      <td>0.0</td>\n",
       "      <td>0.00</td>\n",
       "    </tr>\n",
       "    <tr>\n",
       "      <th>2</th>\n",
       "      <td>J.B. Mauney</td>\n",
       "      <td>3</td>\n",
       "      <td>USA</td>\n",
       "      <td>1987</td>\n",
       "      <td>70</td>\n",
       "      <td>140</td>\n",
       "      <td>10</td>\n",
       "      <td>22</td>\n",
       "      <td>63</td>\n",
       "      <td>25</td>\n",
       "      <td>...</td>\n",
       "      <td>82</td>\n",
       "      <td>40</td>\n",
       "      <td>9273.25</td>\n",
       "      <td>8</td>\n",
       "      <td>0.49</td>\n",
       "      <td>3</td>\n",
       "      <td>8</td>\n",
       "      <td>13</td>\n",
       "      <td>287.0</td>\n",
       "      <td>313340.27</td>\n",
       "    </tr>\n",
       "    <tr>\n",
       "      <th>3</th>\n",
       "      <td>Kaique Pacheco</td>\n",
       "      <td>4</td>\n",
       "      <td>BRA</td>\n",
       "      <td>1994</td>\n",
       "      <td>68</td>\n",
       "      <td>145</td>\n",
       "      <td>2</td>\n",
       "      <td>1</td>\n",
       "      <td>1</td>\n",
       "      <td>0</td>\n",
       "      <td>...</td>\n",
       "      <td>0</td>\n",
       "      <td>0</td>\n",
       "      <td>0.00</td>\n",
       "      <td>0</td>\n",
       "      <td>0.00</td>\n",
       "      <td>0</td>\n",
       "      <td>0</td>\n",
       "      <td>0</td>\n",
       "      <td>0.0</td>\n",
       "      <td>0.00</td>\n",
       "    </tr>\n",
       "    <tr>\n",
       "      <th>4</th>\n",
       "      <td>Nathan Schaper</td>\n",
       "      <td>5</td>\n",
       "      <td>USA</td>\n",
       "      <td>1990</td>\n",
       "      <td>73</td>\n",
       "      <td>160</td>\n",
       "      <td>6</td>\n",
       "      <td>15</td>\n",
       "      <td>41</td>\n",
       "      <td>17</td>\n",
       "      <td>...</td>\n",
       "      <td>0</td>\n",
       "      <td>0</td>\n",
       "      <td>0.00</td>\n",
       "      <td>0</td>\n",
       "      <td>0.00</td>\n",
       "      <td>0</td>\n",
       "      <td>0</td>\n",
       "      <td>0</td>\n",
       "      <td>0.0</td>\n",
       "      <td>0.00</td>\n",
       "    </tr>\n",
       "  </tbody>\n",
       "</table>\n",
       "<p>5 rows × 44 columns</p>\n",
       "</div>"
      ],
      "text/plain": [
       "                 Rider  Rank15 Country  YearBorn  Height  Weight  YearsPro  \\\n",
       "0  Joao Ricardo Vieira       1     BRA      1984      66     163         3   \n",
       "1        Matt Triplett       2     USA      1991      67     160         4   \n",
       "2          J.B. Mauney       3     USA      1987      70     140        10   \n",
       "3       Kaique Pacheco       4     BRA      1994      68     145         2   \n",
       "4       Nathan Schaper       5     USA      1990      73     160         6   \n",
       "\n",
       "   Events14  BuckOuts14  Rides14     ...      BuckOuts12  Rides12  \\\n",
       "0        28          93       41     ...               0        0   \n",
       "1        28          86       33     ...               0        0   \n",
       "2        22          63       25     ...              82       40   \n",
       "3         1           1        0     ...               0        0   \n",
       "4        15          41       17     ...               0        0   \n",
       "\n",
       "   CupPoints12  Rank12  RidePer12  Wins12  Top5_12  Top10_12  FinalPoints12  \\\n",
       "0         0.00       0       0.00       0        0         0            0.0   \n",
       "1         0.00       0       0.00       0        0         0            0.0   \n",
       "2      9273.25       8       0.49       3        8        13          287.0   \n",
       "3         0.00       0       0.00       0        0         0            0.0   \n",
       "4         0.00       0       0.00       0        0         0            0.0   \n",
       "\n",
       "   Earnings12  \n",
       "0        0.00  \n",
       "1        0.00  \n",
       "2   313340.27  \n",
       "3        0.00  \n",
       "4        0.00  \n",
       "\n",
       "[5 rows x 44 columns]"
      ]
     },
     "execution_count": 4,
     "metadata": {},
     "output_type": "execute_result"
    }
   ],
   "source": [
    "buldata = pd.read_csv('BullRiders.csv')\n",
    "buldata.head()"
   ]
  },
  {
   "cell_type": "code",
   "execution_count": 5,
   "metadata": {
    "colab": {
     "autoexec": {
      "startup": false,
      "wait_interval": 0
     },
     "base_uri": "https://localhost:8080/",
     "height": 34
    },
    "colab_type": "code",
    "executionInfo": {
     "elapsed": 548,
     "status": "ok",
     "timestamp": 1528465728739,
     "user": {
      "displayName": "Luis Galicia",
      "photoUrl": "https://lh3.googleusercontent.com/a/default-user=s128",
      "userId": "116873116001297431960"
     },
     "user_tz": 240
    },
    "id": "b2ml1EKeMqai",
    "outputId": "2ab2ad01-16de-4706-88a5-c545b03f5bf6"
   },
   "outputs": [
    {
     "data": {
      "text/plain": [
       "3"
      ]
     },
     "execution_count": 5,
     "metadata": {},
     "output_type": "execute_result"
    }
   ],
   "source": [
    "# How many of the 10 first riders have been pro for 10 years or more\n",
    "(buldata['YearsPro'][0:11] >= 10).sum()"
   ]
  },
  {
   "cell_type": "code",
   "execution_count": 6,
   "metadata": {
    "colab": {
     "autoexec": {
      "startup": false,
      "wait_interval": 0
     },
     "base_uri": "https://localhost:8080/",
     "height": 86
    },
    "colab_type": "code",
    "executionInfo": {
     "elapsed": 468,
     "status": "ok",
     "timestamp": 1528465729842,
     "user": {
      "displayName": "Luis Galicia",
      "photoUrl": "https://lh3.googleusercontent.com/a/default-user=s128",
      "userId": "116873116001297431960"
     },
     "user_tz": 240
    },
    "id": "rEjT6s6FNWfv",
    "outputId": "09194287-4dc8-4742-b768-4f8648257915"
   },
   "outputs": [
    {
     "name": "stdout",
     "output_type": "stream",
     "text": [
      "Rider with fewest buck-outs in 2014 (top 15):\n",
      "Kaique Pacheco\n",
      "# of rides\n"
     ]
    },
    {
     "data": {
      "text/plain": [
       "0"
      ]
     },
     "execution_count": 6,
     "metadata": {
      "tags": []
     },
     "output_type": "execute_result"
    }
   ],
   "source": [
    "# Of the top 15 riders so far in 2015, how many rides were completed by the rider \n",
    "# with the fewest buck-outs in 2014?\n",
    "\n",
    "print('Rider with fewest buck-outs in 2014 (top 15):')\n",
    "print(buldata.head(15).iloc[buldata['BuckOuts14'].idxmin(),:].Rider)\n",
    "print('# of rides')\n",
    "buldata[ buldata.Rider == 'Kaique Pacheco']['Rides14'].values[0]"
   ]
  },
  {
   "cell_type": "code",
   "execution_count": 6,
   "metadata": {
    "colab": {
     "autoexec": {
      "startup": false,
      "wait_interval": 0
     }
    },
    "colab_type": "code",
    "id": "XS4zS5PVU2zb"
   },
   "outputs": [],
   "source": [
    "# 1. Create a subset of the data which contains only those riders that have participated in \n",
    "# at least one event in 2013.\n",
    "\n",
    "particIn13 = buldata[buldata['Events13'] > 0]"
   ]
  },
  {
   "cell_type": "code",
   "execution_count": 7,
   "metadata": {
    "colab": {
     "autoexec": {
      "startup": false,
      "wait_interval": 0
     },
     "base_uri": "https://localhost:8080/",
     "height": 378
    },
    "colab_type": "code",
    "executionInfo": {
     "elapsed": 675,
     "status": "ok",
     "timestamp": 1528465732206,
     "user": {
      "displayName": "Luis Galicia",
      "photoUrl": "https://lh3.googleusercontent.com/a/default-user=s128",
      "userId": "116873116001297431960"
     },
     "user_tz": 240
    },
    "id": "Fc02TiH8VLqw",
    "outputId": "a371bc6b-cdd3-4df8-98bf-aae18553076a"
   },
   "outputs": [
    {
     "data": {
      "text/plain": [
       "<matplotlib.axes._subplots.AxesSubplot at 0x7f3c07bb5080>"
      ]
     },
     "execution_count": 7,
     "metadata": {},
     "output_type": "execute_result"
    },
    {
     "data": {
      "image/png": "[encoded data removed]",
      "text/plain": [
       "<Figure size 432x288 with 1 Axes>"
      ]
     },
     "metadata": {
      "needs_background": "light"
     },
     "output_type": "display_data"
    }
   ],
   "source": [
    "# 2-.Create a scatterplot of the two variables of interest.\n",
    "# 3. Check to see that the relationship is linear.  Plot a line of best fit as a guide.\n",
    "\n",
    "sns.regplot(particIn13.Rides13, particIn13.Top10_13)"
   ]
  },
  {
   "cell_type": "code",
   "execution_count": 8,
   "metadata": {
    "colab": {
     "autoexec": {
      "startup": false,
      "wait_interval": 0
     },
     "base_uri": "https://localhost:8080/",
     "height": 34
    },
    "colab_type": "code",
    "executionInfo": {
     "elapsed": 453,
     "status": "ok",
     "timestamp": 1528465732914,
     "user": {
      "displayName": "Luis Galicia",
      "photoUrl": "https://lh3.googleusercontent.com/a/default-user=s128",
      "userId": "116873116001297431960"
     },
     "user_tz": 240
    },
    "id": "2UWkNl5FWpT8",
    "outputId": "80e90c7c-4922-4eac-9e0a-9123cdf3da9d"
   },
   "outputs": [
    {
     "data": {
      "text/plain": [
       "0.916605952978041"
      ]
     },
     "execution_count": 8,
     "metadata": {},
     "output_type": "execute_result"
    }
   ],
   "source": [
    "# 4. If the relationship is linear, calculate the correlation coefficient.\n",
    "\n",
    "particIn13.Rides13.corr(particIn13.Top10_13)"
   ]
  },
  {
   "cell_type": "code",
   "execution_count": 11,
   "metadata": {
    "colab": {
     "autoexec": {
      "startup": false,
      "wait_interval": 0
     },
     "base_uri": "https://localhost:8080/",
     "height": 396
    },
    "colab_type": "code",
    "executionInfo": {
     "elapsed": 564,
     "status": "ok",
     "timestamp": 1528465733756,
     "user": {
      "displayName": "Luis Galicia",
      "photoUrl": "https://lh3.googleusercontent.com/a/default-user=s128",
      "userId": "116873116001297431960"
     },
     "user_tz": 240
    },
    "id": "BN56Njbgk1mD",
    "outputId": "2608edbf-744f-41de-e412-22174105f9df"
   },
   "outputs": [
    {
     "name": "stdout",
     "output_type": "stream",
     "text": [
      "mean:  18.73170731707317\n",
      "median:  19.0\n"
     ]
    },
    {
     "data": {
      "image/png": "[encoded data removed]",
      "text/plain": [
       "<Figure size 432x288 with 1 Axes>"
      ]
     },
     "metadata": {
      "needs_background": "light"
     },
     "output_type": "display_data"
    }
   ],
   "source": [
    "# On average, a bull rider in 2013 has how many rides? (Report the median becuase the histogram is not symmetrical.)\n",
    "sns.distplot(particIn13.Rides13)\n",
    "print('mean: ', particIn13.Rides13.mean())\n",
    "print('median: ', particIn13.Rides13.median())"
   ]
  },
  {
   "cell_type": "code",
   "execution_count": 12,
   "metadata": {
    "colab": {
     "autoexec": {
      "startup": false,
      "wait_interval": 0
     },
     "base_uri": "https://localhost:8080/",
     "height": 34
    },
    "colab_type": "code",
    "executionInfo": {
     "elapsed": 395,
     "status": "ok",
     "timestamp": 1528465734519,
     "user": {
      "displayName": "Luis Galicia",
      "photoUrl": "https://lh3.googleusercontent.com/a/default-user=s128",
      "userId": "116873116001297431960"
     },
     "user_tz": 240
    },
    "id": "FAGxAXOcl1tC",
    "outputId": "0cc49b70-cf49-452a-88ed-17f5cf6412ca"
   },
   "outputs": [
    {
     "data": {
      "text/plain": [
       "6.0"
      ]
     },
     "execution_count": 12,
     "metadata": {},
     "output_type": "execute_result"
    }
   ],
   "source": [
    "# These bull riders made it into the Top 10 an average of ________ times in 2013. \n",
    "particIn13['Top10_13'].median()"
   ]
  },
  {
   "cell_type": "markdown",
   "metadata": {
    "colab_type": "text",
    "id": "SS3BIROLtIYm"
   },
   "source": [
    "## The Lab \n",
    "### In 2012, which variable had the strongest linear relationship with Earnings:  Ride Percentage or Cup Points?"
   ]
  },
  {
   "cell_type": "code",
   "execution_count": 14,
   "metadata": {
    "colab": {
     "autoexec": {
      "startup": false,
      "wait_interval": 0
     }
    },
    "colab_type": "code",
    "id": "Bq5oQxHBtHLE"
   },
   "outputs": [],
   "source": [
    "# get riders that were active in 2012\n",
    "participIn12 = buldata[buldata.Events12 > 0]"
   ]
  },
  {
   "cell_type": "code",
   "execution_count": 15,
   "metadata": {
    "colab": {
     "autoexec": {
      "startup": false,
      "wait_interval": 0
     },
     "base_uri": "https://localhost:8080/",
     "height": 378
    },
    "colab_type": "code",
    "executionInfo": {
     "elapsed": 532,
     "status": "ok",
     "timestamp": 1528465736775,
     "user": {
      "displayName": "Luis Galicia",
      "photoUrl": "https://lh3.googleusercontent.com/a/default-user=s128",
      "userId": "116873116001297431960"
     },
     "user_tz": 240
    },
    "id": "EVQ7aJEet-Pl",
    "outputId": "6397c60b-fe82-47f2-9eba-aa2b50de49bc"
   },
   "outputs": [
    {
     "data": {
      "text/plain": [
       "<matplotlib.axes._subplots.AxesSubplot at 0x7f3c0796de80>"
      ]
     },
     "execution_count": 15,
     "metadata": {},
     "output_type": "execute_result"
    },
    {
     "data": {
      "image/png": "[encoded data removed]",
      "text/plain": [
       "<Figure size 432x288 with 1 Axes>"
      ]
     },
     "metadata": {
      "needs_background": "light"
     },
     "output_type": "display_data"
    }
   ],
   "source": [
    "# What is the shape of the Earnings distribution for 2012?\n",
    "sns.distplot(buldata.Earnings12)"
   ]
  },
  {
   "cell_type": "code",
   "execution_count": 16,
   "metadata": {
    "colab": {
     "autoexec": {
      "startup": false,
      "wait_interval": 0
     },
     "base_uri": "https://localhost:8080/",
     "height": 34
    },
    "colab_type": "code",
    "executionInfo": {
     "elapsed": 319,
     "status": "ok",
     "timestamp": 1528465737423,
     "user": {
      "displayName": "Luis Galicia",
      "photoUrl": "https://lh3.googleusercontent.com/a/default-user=s128",
      "userId": "116873116001297431960"
     },
     "user_tz": 240
    },
    "id": "wdqfE_DUuPhy",
    "outputId": "3b6d0d80-ff53-49bf-e991-025992388840"
   },
   "outputs": [
    {
     "data": {
      "text/plain": [
       "147952.34"
      ]
     },
     "execution_count": 16,
     "metadata": {},
     "output_type": "execute_result"
    }
   ],
   "source": [
    "# What was the average amount earned by a bull rider?\n",
    "participIn12.Earnings12.median()"
   ]
  },
  {
   "cell_type": "code",
   "execution_count": 17,
   "metadata": {
    "colab": {
     "autoexec": {
      "startup": false,
      "wait_interval": 0
     },
     "base_uri": "https://localhost:8080/",
     "height": 378
    },
    "colab_type": "code",
    "executionInfo": {
     "elapsed": 721,
     "status": "ok",
     "timestamp": 1528465738397,
     "user": {
      "displayName": "Luis Galicia",
      "photoUrl": "https://lh3.googleusercontent.com/a/default-user=s128",
      "userId": "116873116001297431960"
     },
     "user_tz": 240
    },
    "id": "jYZWLAzGtV6I",
    "outputId": "63b311a4-6599-4718-caea-cc65db565a24"
   },
   "outputs": [
    {
     "name": "stdout",
     "output_type": "stream",
     "text": [
      "Correlation:  0.5934109564110922\n"
     ]
    },
    {
     "data": {
      "image/png": "[encoded data removed]",
      "text/plain": [
       "<Figure size 432x288 with 1 Axes>"
      ]
     },
     "metadata": {
      "needs_background": "light"
     },
     "output_type": "display_data"
    }
   ],
   "source": [
    "sns.regplot(participIn12.RidePer12, participIn12.Earnings12)\n",
    "print('Correlation: ',participIn12.RidePer12.corr(participIn12.Earnings12))"
   ]
  },
  {
   "cell_type": "code",
   "execution_count": 18,
   "metadata": {
    "colab": {
     "autoexec": {
      "startup": false,
      "wait_interval": 0
     },
     "base_uri": "https://localhost:8080/",
     "height": 378
    },
    "colab_type": "code",
    "executionInfo": {
     "elapsed": 688,
     "status": "ok",
     "timestamp": 1528465739396,
     "user": {
      "displayName": "Luis Galicia",
      "photoUrl": "https://lh3.googleusercontent.com/a/default-user=s128",
      "userId": "116873116001297431960"
     },
     "user_tz": 240
    },
    "id": "NJL0_Ca5uS8s",
    "outputId": "8a47537c-dfb4-4f38-b621-6cd331a66cfd"
   },
   "outputs": [
    {
     "name": "stdout",
     "output_type": "stream",
     "text": [
      "Correlation:  0.6569363258733382\n"
     ]
    },
    {
     "data": {
      "image/png": "[encoded data removed]",
      "text/plain": [
       "<Figure size 432x288 with 1 Axes>"
      ]
     },
     "metadata": {
      "needs_background": "light"
     },
     "output_type": "display_data"
    }
   ],
   "source": [
    "sns.regplot(participIn12.CupPoints12, participIn12.Earnings12)\n",
    "print('Correlation: ', participIn12.CupPoints12.corr(participIn12.Earnings12))"
   ]
  },
  {
   "cell_type": "code",
   "execution_count": 19,
   "metadata": {
    "colab": {
     "autoexec": {
      "startup": false,
      "wait_interval": 0
     },
     "base_uri": "https://localhost:8080/",
     "height": 799
    },
    "colab_type": "code",
    "executionInfo": {
     "elapsed": 430,
     "status": "ok",
     "timestamp": 1528465740109,
     "user": {
      "displayName": "Luis Galicia",
      "photoUrl": "https://lh3.googleusercontent.com/a/default-user=s128",
      "userId": "116873116001297431960"
     },
     "user_tz": 240
    },
    "id": "aceU5qlYulH0",
    "outputId": "9e9737be-446c-417f-e41f-73f2f0c04648"
   },
   "outputs": [
    {
     "data": {
      "text/plain": [
       "Rider                 Silvano Alves\n",
       "Rank15                            8\n",
       "Country                         BRA\n",
       "YearBorn                       1987\n",
       "Height                           67\n",
       "Weight                          150\n",
       "YearsPro                          7\n",
       "Events14                         28\n",
       "BuckOuts14                       92\n",
       "Rides14                          50\n",
       "CupPoints14                 9004.06\n",
       "Rank14                            1\n",
       "RidePer14                    0.5435\n",
       "RidesPer_45bull_14           0.3333\n",
       "Rides90pts_14                     1\n",
       "Wins14                            0\n",
       "Top5_14                           7\n",
       "Top10_14                         12\n",
       "FinalPoints14                  3607\n",
       "Earnings14               1.4226e+06\n",
       "Events13                         27\n",
       "BuckOuts13                       91\n",
       "Rides13                          50\n",
       "CupPoints13                 10937.8\n",
       "Rank13                            2\n",
       "RidePer13                    0.5495\n",
       "RidesPer_45bull_13              0.2\n",
       "Rides90pts_13                     3\n",
       "Wins13                            3\n",
       "Top5_13                          11\n",
       "Top10_13                         13\n",
       "FinalPoints13                  3780\n",
       "Earnings13                   625651\n",
       "Events12                         29\n",
       "BuckOuts12                      103\n",
       "Rides12                          62\n",
       "CupPoints12                 12201.8\n",
       "Rank12                            1\n",
       "RidePer12                       0.6\n",
       "Wins12                            2\n",
       "Top5_12                           8\n",
       "Top10_12                         18\n",
       "FinalPoints12                  1648\n",
       "Earnings12              1.46448e+06\n",
       "Name: 7, dtype: object"
      ]
     },
     "execution_count": 19,
     "metadata": {},
     "output_type": "execute_result"
    }
   ],
   "source": [
    "# the one who earned more in 2012 \n",
    "participIn12.loc[participIn12.Earnings12.idxmax(),:]"
   ]
  },
  {
   "cell_type": "code",
   "execution_count": 20,
   "metadata": {
    "colab": {
     "autoexec": {
      "startup": false,
      "wait_interval": 0
     }
    },
    "colab_type": "code",
    "id": "Y57vBjqhzs5M"
   },
   "outputs": [],
   "source": [
    "# removing the previous outlier\n",
    "particIn12 = participIn12.drop(particIn12.Earnings12.idxmax())"
   ]
  },
  {
   "cell_type": "code",
   "execution_count": 24,
   "metadata": {
    "colab": {
     "autoexec": {
      "startup": false,
      "wait_interval": 0
     },
     "base_uri": "https://localhost:8080/",
     "height": 378
    },
    "colab_type": "code",
    "executionInfo": {
     "elapsed": 710,
     "status": "ok",
     "timestamp": 1528465741637,
     "user": {
      "displayName": "Luis Galicia",
      "photoUrl": "https://lh3.googleusercontent.com/a/default-user=s128",
      "userId": "116873116001297431960"
     },
     "user_tz": 240
    },
    "id": "HT7YwW4B0NKj",
    "outputId": "6e2196f1-fae5-4822-96b5-506e65f01d43"
   },
   "outputs": [
    {
     "name": "stdout",
     "output_type": "stream",
     "text": [
      "Earnings:\n",
      "New Correlation:  0.5934109564110922\n"
     ]
    },
    {
     "data": {
      "image/png": "[encoded data removed]",
      "text/plain": [
       "<Figure size 432x288 with 1 Axes>"
      ]
     },
     "metadata": {
      "needs_background": "light"
     },
     "output_type": "display_data"
    }
   ],
   "source": [
    "sns.regplot(participIn12.RidePer12, participIn12.Earnings12)\n",
    "print('Earnings:')\n",
    "print('New Correlation: ',participIn12.RidePer12.corr(participIn12.Earnings12))"
   ]
  },
  {
   "cell_type": "code",
   "execution_count": 23,
   "metadata": {
    "colab": {
     "autoexec": {
      "startup": false,
      "wait_interval": 0
     },
     "base_uri": "https://localhost:8080/",
     "height": 378
    },
    "colab_type": "code",
    "executionInfo": {
     "elapsed": 792,
     "status": "ok",
     "timestamp": 1528465742702,
     "user": {
      "displayName": "Luis Galicia",
      "photoUrl": "https://lh3.googleusercontent.com/a/default-user=s128",
      "userId": "116873116001297431960"
     },
     "user_tz": 240
    },
    "id": "abqAJigQ0fR-",
    "outputId": "92fe70db-fd31-4e27-935e-0e95ef3f51e4"
   },
   "outputs": [
    {
     "name": "stdout",
     "output_type": "stream",
     "text": [
      "CupPoints:\n",
      "New Correlation:  0.6569363258733382\n"
     ]
    },
    {
     "data": {
      "image/png": "[encoded data removed]",
      "text/plain": [
       "<Figure size 432x288 with 1 Axes>"
      ]
     },
     "metadata": {
      "needs_background": "light"
     },
     "output_type": "display_data"
    }
   ],
   "source": [
    "sns.regplot(participIn12.CupPoints12, participIn12.Earnings12)\n",
    "print('CupPoints:')\n",
    "print('New Correlation: ', participIn12.CupPoints12.corr(participIn12.Earnings12))"
   ]
  },
  {
   "cell_type": "markdown",
   "metadata": {
    "colab_type": "text",
    "id": "mozthyf41_M-"
   },
   "source": [
    "### Problem Set"
   ]
  },
  {
   "cell_type": "code",
   "execution_count": 25,
   "metadata": {
    "colab": {
     "autoexec": {
      "startup": false,
      "wait_interval": 0
     }
    },
    "colab_type": "code",
    "id": "mgejjuQk0waC"
   },
   "outputs": [],
   "source": [
    "# riders with at least one ride in 2014\n",
    "rideIn14 = buldata[buldata.Rides14 > 0]"
   ]
  },
  {
   "cell_type": "code",
   "execution_count": 26,
   "metadata": {
    "colab": {
     "autoexec": {
      "startup": false,
      "wait_interval": 0
     }
    },
    "colab_type": "code",
    "id": "g90ONu912Xr5"
   },
   "outputs": [],
   "source": [
    "# average of rides per event for riders in 2014\n",
    "ridesPerEvent14 = rideIn14.Rides14 / rideIn14.Events14"
   ]
  },
  {
   "cell_type": "code",
   "execution_count": 27,
   "metadata": {
    "colab": {
     "autoexec": {
      "startup": false,
      "wait_interval": 0
     },
     "base_uri": "https://localhost:8080/",
     "height": 365
    },
    "colab_type": "code",
    "executionInfo": {
     "elapsed": 504,
     "status": "ok",
     "timestamp": 1528465745111,
     "user": {
      "displayName": "Luis Galicia",
      "photoUrl": "https://lh3.googleusercontent.com/a/default-user=s128",
      "userId": "116873116001297431960"
     },
     "user_tz": 240
    },
    "id": "8Ho4C5972-DV",
    "outputId": "c7892ab7-5360-4b6d-f4ee-2c0bf9d6906a"
   },
   "outputs": [
    {
     "data": {
      "text/plain": [
       "<matplotlib.axes._subplots.AxesSubplot at 0x7f3c07785a58>"
      ]
     },
     "execution_count": 27,
     "metadata": {},
     "output_type": "execute_result"
    },
    {
     "data": {
      "image/png": "[encoded data removed]",
      "text/plain": [
       "<Figure size 432x288 with 1 Axes>"
      ]
     },
     "metadata": {
      "needs_background": "light"
     },
     "output_type": "display_data"
    }
   ],
   "source": [
    "sns.distplot(ridesPerEvent14)"
   ]
  },
  {
   "cell_type": "code",
   "execution_count": 28,
   "metadata": {
    "colab": {
     "autoexec": {
      "startup": false,
      "wait_interval": 0
     },
     "base_uri": "https://localhost:8080/",
     "height": 69
    },
    "colab_type": "code",
    "executionInfo": {
     "elapsed": 468,
     "status": "ok",
     "timestamp": 1528465745851,
     "user": {
      "displayName": "Luis Galicia",
      "photoUrl": "https://lh3.googleusercontent.com/a/default-user=s128",
      "userId": "116873116001297431960"
     },
     "user_tz": 240
    },
    "id": "ZvpIbjVm4dFb",
    "outputId": "b92e47ec-46e6-4b37-8ca9-6749559d68df"
   },
   "outputs": [
    {
     "name": "stdout",
     "output_type": "stream",
     "text": [
      "Max:  2.0\n",
      "Min:  0.2\n",
      "Median:  1.0\n"
     ]
    }
   ],
   "source": [
    "print('Max: ',ridesPerEvent14.max())\n",
    "print('Min: ',ridesPerEvent14.min())\n",
    "print('Median: ',ridesPerEvent14.median())"
   ]
  },
  {
   "cell_type": "code",
   "execution_count": 29,
   "metadata": {
    "colab": {
     "autoexec": {
      "startup": false,
      "wait_interval": 0
     },
     "base_uri": "https://localhost:8080/",
     "height": 378
    },
    "colab_type": "code",
    "executionInfo": {
     "elapsed": 1080,
     "status": "ok",
     "timestamp": 1528465747160,
     "user": {
      "displayName": "Luis Galicia",
      "photoUrl": "https://lh3.googleusercontent.com/a/default-user=s128",
      "userId": "116873116001297431960"
     },
     "user_tz": 240
    },
    "id": "D8zojbjD5IiH",
    "outputId": "59ed440e-0c21-4106-c79a-3366a1049b3b"
   },
   "outputs": [
    {
     "name": "stdout",
     "output_type": "stream",
     "text": [
      "Correlation:  -0.49451525363696375\n"
     ]
    },
    {
     "data": {
      "image/png": "[encoded data removed]",
      "text/plain": [
       "<Figure size 432x288 with 1 Axes>"
      ]
     },
     "metadata": {
      "needs_background": "light"
     },
     "output_type": "display_data"
    }
   ],
   "source": [
    "sns.regplot(rideIn14.Rank14, ridesPerEvent14).set(ylabel='Rides Per Event 2014')\n",
    "print('Correlation: ', rideIn14.Rank14.corr(ridesPerEvent14))"
   ]
  },
  {
   "cell_type": "code",
   "execution_count": 0,
   "metadata": {
    "colab": {
     "autoexec": {
      "startup": false,
      "wait_interval": 0
     }
    },
    "colab_type": "code",
    "id": "Ip_31yE0qYSw"
   },
   "outputs": [],
   "source": [
    "# The exercise is study the correlation between study time and a exam score\n",
    "p2 = {\n",
    "    'MinStudying': [\n",
    "        30,\n",
    "        45,\n",
    "        180,\n",
    "        95,\n",
    "        130,\n",
    "        140,\n",
    "        30,\n",
    "        80,\n",
    "        60,\n",
    "        110,\n",
    "        0,\n",
    "        80], \n",
    "    'examScore':[\n",
    "        64,\n",
    "        68,\n",
    "        87,\n",
    "        90,\n",
    "        94,\n",
    "        84,\n",
    "        92,\n",
    "        88,\n",
    "        82,\n",
    "        93,\n",
    "        65,\n",
    "        90]\n",
    "}\n",
    "\n",
    "p2df = pd.DataFrame(data=p2)"
   ]
  },
  {
   "cell_type": "code",
   "execution_count": 30,
   "metadata": {
    "colab": {
     "autoexec": {
      "startup": false,
      "wait_interval": 0
     },
     "base_uri": "https://localhost:8080/",
     "height": 34
    },
    "colab_type": "code",
    "executionInfo": {
     "elapsed": 596,
     "status": "ok",
     "timestamp": 1528466220550,
     "user": {
      "displayName": "Luis Galicia",
      "photoUrl": "https://lh3.googleusercontent.com/a/default-user=s128",
      "userId": "116873116001297431960"
     },
     "user_tz": 240
    },
    "id": "pg38LhMrrzGw",
    "outputId": "c3b75000-3ae7-480c-f5d0-e68d1612b7f6"
   },
   "outputs": [
    {
     "data": {
      "text/plain": [
       "0.6097055820038043"
      ]
     },
     "execution_count": 30,
     "metadata": {
      "tags": []
     },
     "output_type": "execute_result"
    }
   ],
   "source": [
    "p2df.MinStudying.corr(p2df.examScore)"
   ]
  },
  {
   "cell_type": "code",
   "execution_count": 32,
   "metadata": {
    "colab": {
     "autoexec": {
      "startup": false,
      "wait_interval": 0
     },
     "base_uri": "https://localhost:8080/",
     "height": 378
    },
    "colab_type": "code",
    "executionInfo": {
     "elapsed": 1296,
     "status": "ok",
     "timestamp": 1528466363747,
     "user": {
      "displayName": "Luis Galicia",
      "photoUrl": "https://lh3.googleusercontent.com/a/default-user=s128",
      "userId": "116873116001297431960"
     },
     "user_tz": 240
    },
    "id": "iTsWcg2jsH9i",
    "outputId": "3aff20c5-b978-4049-8dfb-fc4aab8ccf28"
   },
   "outputs": [
    {
     "data": {
      "text/plain": [
       "<matplotlib.axes._subplots.AxesSubplot at 0x7fd2564a1d68>"
      ]
     },
     "execution_count": 32,
     "metadata": {
      "tags": []
     },
     "output_type": "execute_result"
    },
    {
     "data": {
      "image/png": "[encoded data removed]",
      "text/plain": [
       "<matplotlib.figure.Figure at 0x7fd2564a16d8>"
      ]
     },
     "metadata": {
      "tags": []
     },
     "output_type": "display_data"
    }
   ],
   "source": [
    "sns.regplot(p2df.MinStudying, p2df.examScore)"
   ]
  },
  {
   "cell_type": "code",
   "execution_count": 0,
   "metadata": {
    "colab": {
     "autoexec": {
      "startup": false,
      "wait_interval": 0
     }
    },
    "colab_type": "code",
    "id": "hHRET6fmswH6"
   },
   "outputs": [],
   "source": [
    "outlier = p2df[(p2df.MinStudying == 30) & (p2df.examScore == 92)]\n",
    "p2df.drop(outlier.index[0], inplace=True)"
   ]
  },
  {
   "cell_type": "code",
   "execution_count": 40,
   "metadata": {
    "colab": {
     "autoexec": {
      "startup": false,
      "wait_interval": 0
     },
     "base_uri": "https://localhost:8080/",
     "height": 34
    },
    "colab_type": "code",
    "executionInfo": {
     "elapsed": 363,
     "status": "ok",
     "timestamp": 1528466711093,
     "user": {
      "displayName": "Luis Galicia",
      "photoUrl": "https://lh3.googleusercontent.com/a/default-user=s128",
      "userId": "116873116001297431960"
     },
     "user_tz": 240
    },
    "id": "7YfVhgiKtwJK",
    "outputId": "5f945404-3018-4900-8e99-f4cc39e6fbe8"
   },
   "outputs": [
    {
     "data": {
      "text/plain": [
       "0.7484742873656346"
      ]
     },
     "execution_count": 40,
     "metadata": {
      "tags": []
     },
     "output_type": "execute_result"
    }
   ],
   "source": [
    "p2df.MinStudying.corr(p2df.examScore)"
   ]
  },
  {
   "cell_type": "code",
   "execution_count": 39,
   "metadata": {
    "colab": {
     "autoexec": {
      "startup": false,
      "wait_interval": 0
     },
     "base_uri": "https://localhost:8080/",
     "height": 378
    },
    "colab_type": "code",
    "executionInfo": {
     "elapsed": 773,
     "status": "ok",
     "timestamp": 1528466679698,
     "user": {
      "displayName": "Luis Galicia",
      "photoUrl": "https://lh3.googleusercontent.com/a/default-user=s128",
      "userId": "116873116001297431960"
     },
     "user_tz": 240
    },
    "id": "z5LmlyB1terd",
    "outputId": "5bf05ea4-b015-434a-b4ae-b1490b863fe4"
   },
   "outputs": [
    {
     "data": {
      "text/plain": [
       "<matplotlib.axes._subplots.AxesSubplot at 0x7fd2566c66d8>"
      ]
     },
     "execution_count": 39,
     "metadata": {
      "tags": []
     },
     "output_type": "execute_result"
    },
    {
     "data": {
      "image/png": "[encoded data removed]",
      "text/plain": [
       "<matplotlib.figure.Figure at 0x7fd25647bdd8>"
      ]
     },
     "metadata": {
      "tags": []
     },
     "output_type": "display_data"
    }
   ],
   "source": [
    "sns.regplot(p2df.MinStudying, p2df.examScore)"
   ]
  }
 ],
 "metadata": {
  "colab": {
   "default_view": {},
   "name": "lab2.ipynb",
   "provenance": [],
   "version": "0.3.2",
   "views": {}
  },
  "kernelspec": {
   "display_name": "Python 3",
   "language": "python",
   "name": "python3"
  },
  "language_info": {
   "codemirror_mode": {
    "name": "ipython",
    "version": 3
   },
   "file_extension": ".py",
   "mimetype": "text/x-python",
   "name": "python",
   "nbconvert_exporter": "python",
   "pygments_lexer": "ipython3",
   "version": "3.6.7"
  }
 },
 "nbformat": 4,
 "nbformat_minor": 1
}
