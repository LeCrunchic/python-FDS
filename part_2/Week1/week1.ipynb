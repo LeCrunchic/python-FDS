{
 "cells": [
  {
   "cell_type": "code",
   "execution_count": 9,
   "metadata": {
    "colab": {},
    "colab_type": "code",
    "id": "zmqMhxy9hLQS"
   },
   "outputs": [],
   "source": [
    "import numpy as np\n",
    "import pandas as pd\n",
    "import matplotlib.pyplot as plt\n",
    "import seaborn as sns\n",
    "\n",
    "plt.style.use(\"ggplot\")"
   ]
  },
  {
   "cell_type": "code",
   "execution_count": 5,
   "metadata": {
    "colab": {},
    "colab_type": "code",
    "id": "ECtYEOYlipzc"
   },
   "outputs": [],
   "source": [
    "data = pd.read_csv('StudentSurvey.csv')"
   ]
  },
  {
   "cell_type": "markdown",
   "metadata": {
    "colab_type": "text",
    "id": "Hs7-skvLkRje"
   },
   "source": [
    "### How many letters long is the typical student’s name?  How does our estimate change as we increase the size of our sample? "
   ]
  },
  {
   "cell_type": "code",
   "execution_count": 6,
   "metadata": {
    "colab": {
     "base_uri": "https://localhost:8080/",
     "height": 34
    },
    "colab_type": "code",
    "executionInfo": {
     "elapsed": 3260,
     "status": "ok",
     "timestamp": 1533253737299,
     "user": {
      "displayName": "Luis Galicia",
      "photoUrl": "https://lh3.googleusercontent.com/a/default-user=s128",
      "userId": "116873116001297431960"
     },
     "user_tz": 240
    },
    "id": "ZvNS5lDukUxh",
    "outputId": "cd0c11e1-6878-4816-87a6-a1bb6d89a2a3"
   },
   "outputs": [
    {
     "data": {
      "text/plain": [
       "5"
      ]
     },
     "execution_count": 6,
     "metadata": {},
     "output_type": "execute_result"
    }
   ],
   "source": [
    "# How many of the first 10 students have names longer than 5 letters?\n",
    "\n",
    "(data[:10]['name_letters'] > 5).sum()"
   ]
  },
  {
   "cell_type": "code",
   "execution_count": 7,
   "metadata": {
    "colab": {
     "base_uri": "https://localhost:8080/",
     "height": 34
    },
    "colab_type": "code",
    "executionInfo": {
     "elapsed": 2501,
     "status": "ok",
     "timestamp": 1533253740360,
     "user": {
      "displayName": "Luis Galicia",
      "photoUrl": "https://lh3.googleusercontent.com/a/default-user=s128",
      "userId": "116873116001297431960"
     },
     "user_tz": 240
    },
    "id": "Qic2M7a4lUQt",
    "outputId": "b0db5d31-43dc-49d3-c4ef-8c7689a5d10d"
   },
   "outputs": [
    {
     "data": {
      "text/plain": [
       "7"
      ]
     },
     "execution_count": 7,
     "metadata": {},
     "output_type": "execute_result"
    }
   ],
   "source": [
    "# How long is the name of the first student whose happyness is less than 40%?\n",
    "\n",
    "data[data['happy'] < 40].iloc[0]['name_letters']"
   ]
  },
  {
   "cell_type": "code",
   "execution_count": 10,
   "metadata": {
    "colab": {
     "base_uri": "https://localhost:8080/",
     "height": 378
    },
    "colab_type": "code",
    "executionInfo": {
     "elapsed": 3389,
     "status": "ok",
     "timestamp": 1533253744411,
     "user": {
      "displayName": "Luis Galicia",
      "photoUrl": "https://lh3.googleusercontent.com/a/default-user=s128",
      "userId": "116873116001297431960"
     },
     "user_tz": 240
    },
    "id": "nVlquRh1o82n",
    "outputId": "b7e461e5-4760-46c1-e065-fe8479bd4206"
   },
   "outputs": [
    {
     "data": {
      "text/plain": [
       "<matplotlib.axes._subplots.AxesSubplot at 0x7f0a4ab23630>"
      ]
     },
     "execution_count": 10,
     "metadata": {},
     "output_type": "execute_result"
    },
    {
     "data": {
      "image/png": "[encoded data removed]",
      "text/plain": [
       "<Figure size 432x288 with 1 Axes>"
      ]
     },
     "metadata": {},
     "output_type": "display_data"
    }
   ],
   "source": [
    "# Visualize the shape of the population data by making a histogram.\n",
    "\n",
    "sns.distplot(data['name_letters'])"
   ]
  },
  {
   "cell_type": "code",
   "execution_count": 13,
   "metadata": {
    "colab": {
     "base_uri": "https://localhost:8080/",
     "height": 52
    },
    "colab_type": "code",
    "executionInfo": {
     "elapsed": 3754,
     "status": "ok",
     "timestamp": 1533253750680,
     "user": {
      "displayName": "Luis Galicia",
      "photoUrl": "https://lh3.googleusercontent.com/a/default-user=s128",
      "userId": "116873116001297431960"
     },
     "user_tz": 240
    },
    "id": "1QRRCNA2pR-y",
    "outputId": "595f7ca3-32e9-4353-81ee-65f1452916b5"
   },
   "outputs": [
    {
     "name": "stdout",
     "output_type": "stream",
     "text": [
      "Mean: 5.970976253298153\n",
      "Standard Deviation: 1.4948595683422012\n"
     ]
    }
   ],
   "source": [
    "# mean and std of the whole population\n",
    "\n",
    "whole_population_mean = data['name_letters'].mean()\n",
    "whole_population_std = data['name_letters'].std()\n",
    "\n",
    "print('Mean:', whole_population_mean)\n",
    "print('Standard Deviation:', whole_population_std)"
   ]
  },
  {
   "cell_type": "code",
   "execution_count": 14,
   "metadata": {
    "colab": {},
    "colab_type": "code",
    "id": "9kC_6W9EpcER"
   },
   "outputs": [],
   "source": [
    "# Draw 1,000 samples of size n=5 from the population data.  Calculate the mean of each sample. \n",
    "\n",
    "thousand_samples_n_is5 = np.zeros((1000, 1))\n",
    "np.random.seed(87)\n",
    "\n",
    "for i in range(1000):\n",
    "    thousand_samples_n_is5[i,:] = np.random.choice(data['name_letters'].values, size=5).mean()    "
   ]
  },
  {
   "cell_type": "code",
   "execution_count": 15,
   "metadata": {
    "colab": {
     "base_uri": "https://localhost:8080/",
     "height": 364
    },
    "colab_type": "code",
    "executionInfo": {
     "elapsed": 1928,
     "status": "ok",
     "timestamp": 1533253756391,
     "user": {
      "displayName": "Luis Galicia",
      "photoUrl": "https://lh3.googleusercontent.com/a/default-user=s128",
      "userId": "116873116001297431960"
     },
     "user_tz": 240
    },
    "id": "CXa5qx8Npb9V",
    "outputId": "bea6bf5d-cabd-41d8-86f1-eb2b549bbfee"
   },
   "outputs": [
    {
     "data": {
      "text/plain": [
       "<matplotlib.axes._subplots.AxesSubplot at 0x7f0a4aa12048>"
      ]
     },
     "execution_count": 15,
     "metadata": {},
     "output_type": "execute_result"
    },
    {
     "data": {
      "image/png": "[encoded data removed]",
      "text/plain": [
       "<Figure size 432x288 with 1 Axes>"
      ]
     },
     "metadata": {},
     "output_type": "display_data"
    }
   ],
   "source": [
    "# Graph these 1,000 sample means in a histogram and examine the shape.\n",
    "sns.distplot(thousand_samples_n_is5)"
   ]
  },
  {
   "cell_type": "code",
   "execution_count": 18,
   "metadata": {
    "colab": {
     "base_uri": "https://localhost:8080/",
     "height": 69
    },
    "colab_type": "code",
    "executionInfo": {
     "elapsed": 1774,
     "status": "ok",
     "timestamp": 1533253758850,
     "user": {
      "displayName": "Luis Galicia",
      "photoUrl": "https://lh3.googleusercontent.com/a/default-user=s128",
      "userId": "116873116001297431960"
     },
     "user_tz": 240
    },
    "id": "zQu4xJ-tpb1e",
    "outputId": "14816105-a86b-4502-871f-b3c02910f3ef"
   },
   "outputs": [
    {
     "name": "stdout",
     "output_type": "stream",
     "text": [
      "With n=5\n",
      "Mean of sampling distribution 5.9466\n",
      "Standard Deviation of sampling distribution: 0.6628336442879164\n"
     ]
    }
   ],
   "source": [
    "# Calculate the mean and standard deviation of the sampling distribution.\n",
    "sample_mean_n_is5 = thousand_samples_n_is5.mean()\n",
    "sample_std_n_is5 = thousand_samples_n_is5.std()\n",
    "\n",
    "print('With n=5')\n",
    "print('Mean of sampling distribution', sample_mean_n_is5)\n",
    "print('Standard Deviation of sampling distribution:', sample_std_n_is5)"
   ]
  },
  {
   "cell_type": "code",
   "execution_count": 20,
   "metadata": {
    "colab": {
     "base_uri": "https://localhost:8080/",
     "height": 399
    },
    "colab_type": "code",
    "executionInfo": {
     "elapsed": 3013,
     "status": "ok",
     "timestamp": 1533253762299,
     "user": {
      "displayName": "Luis Galicia",
      "photoUrl": "https://lh3.googleusercontent.com/a/default-user=s128",
      "userId": "116873116001297431960"
     },
     "user_tz": 240
    },
    "id": "reger0ZLvaXi",
    "outputId": "1fc4d85f-daf0-4b9b-ac50-a1f313dd7337"
   },
   "outputs": [
    {
     "name": "stdout",
     "output_type": "stream",
     "text": [
      "with n=15\n",
      "Mean of sampling distribution: 5.9841999999999995\n",
      "std of sampling distribution: 0.38379873776643814\n"
     ]
    },
    {
     "data": {
      "image/png": "[encoded data removed]",
      "text/plain": [
       "<Figure size 432x288 with 1 Axes>"
      ]
     },
     "metadata": {},
     "output_type": "display_data"
    }
   ],
   "source": [
    "# Same process as before but with n=15\n",
    "\n",
    "thousand_samples_n_is15 = np.zeros((1000, 1))\n",
    "\n",
    "for i in range(1000):\n",
    "    thousand_samples_n_is15[i,:] = np.random.choice(data['name_letters'], size=15).mean()\n",
    "    \n",
    "sns.distplot(thousand_samples_n_is15)\n",
    "\n",
    "sample_mean_n_is15 = thousand_samples_n_is15.mean()\n",
    "sample_std_n_is15 = thousand_samples_n_is15.std()\n",
    "\n",
    "print('with n=15')\n",
    "print('Mean of sampling distribution:', sample_mean_n_is15)\n",
    "print('std of sampling distribution:', sample_std_n_is15)"
   ]
  },
  {
   "cell_type": "code",
   "execution_count": 21,
   "metadata": {
    "colab": {
     "base_uri": "https://localhost:8080/",
     "height": 399
    },
    "colab_type": "code",
    "executionInfo": {
     "elapsed": 4769,
     "status": "ok",
     "timestamp": 1533253767661,
     "user": {
      "displayName": "Luis Galicia",
      "photoUrl": "https://lh3.googleusercontent.com/a/default-user=s128",
      "userId": "116873116001297431960"
     },
     "user_tz": 240
    },
    "id": "W7eSiDpN0Dvx",
    "outputId": "a4f9cc69-ed04-4318-bd91-c70501287cbf"
   },
   "outputs": [
    {
     "name": "stdout",
     "output_type": "stream",
     "text": [
      "with n=25\n",
      "mean of sampling distribution: 5.9636\n",
      "std of sampling distribution: 0.29271118871679647\n"
     ]
    },
    {
     "data": {
      "image/png": "[encoded data removed]",
      "text/plain": [
       "<Figure size 432x288 with 1 Axes>"
      ]
     },
     "metadata": {},
     "output_type": "display_data"
    }
   ],
   "source": [
    "# with n=25\n",
    "\n",
    "thousand_samples_n_is25 = np.zeros((1000, 1))\n",
    "\n",
    "for i in range(1000):\n",
    "    thousand_samples_n_is25[i,:] = np.random.choice(data['name_letters'], size=25).mean()\n",
    "    \n",
    "sns.distplot(thousand_samples_n_is25)\n",
    "\n",
    "sample_mean_n_is25 = thousand_samples_n_is25.mean()\n",
    "sample_std_n_is25 = thousand_samples_n_is25.std()\n",
    "\n",
    "print('with n=25')\n",
    "print('mean of sampling distribution:', sample_mean_n_is25)\n",
    "print('std of sampling distribution:', sample_std_n_is25)"
   ]
  },
  {
   "cell_type": "markdown",
   "metadata": {
    "colab_type": "text",
    "id": "GhicGl5ZpVBF"
   },
   "source": [
    "### What percentage of the time are college students happy?  How does our estimate of the true mean change as sample size increases? "
   ]
  },
  {
   "cell_type": "code",
   "execution_count": 22,
   "metadata": {
    "colab": {},
    "colab_type": "code",
    "id": "jFvx0LFDpZH2"
   },
   "outputs": [],
   "source": [
    "happyness = data['happy']"
   ]
  },
  {
   "cell_type": "code",
   "execution_count": 23,
   "metadata": {
    "colab": {
     "base_uri": "https://localhost:8080/",
     "height": 413
    },
    "colab_type": "code",
    "executionInfo": {
     "elapsed": 5991,
     "status": "ok",
     "timestamp": 1533253779086,
     "user": {
      "displayName": "Luis Galicia",
      "photoUrl": "https://lh3.googleusercontent.com/a/default-user=s128",
      "userId": "116873116001297431960"
     },
     "user_tz": 240
    },
    "id": "82aHmnKnplWy",
    "outputId": "492424a5-7d13-4311-8153-2ab9c683cad3"
   },
   "outputs": [
    {
     "name": "stdout",
     "output_type": "stream",
     "text": [
      "True Mean: 78.03430079155673\n",
      "True STD: 16.309064744181992\n"
     ]
    },
    {
     "data": {
      "text/plain": [
       "<matplotlib.axes._subplots.AxesSubplot at 0x7f0a4a802550>"
      ]
     },
     "execution_count": 23,
     "metadata": {},
     "output_type": "execute_result"
    },
    {
     "data": {
      "image/png": "[encoded data removed]",
      "text/plain": [
       "<Figure size 432x288 with 1 Axes>"
      ]
     },
     "metadata": {},
     "output_type": "display_data"
    }
   ],
   "source": [
    "print('True Mean:', happyness.mean())\n",
    "print('True STD:', happyness.std())\n",
    "sns.distplot(happyness)"
   ]
  },
  {
   "cell_type": "code",
   "execution_count": 25,
   "metadata": {
    "colab": {
     "base_uri": "https://localhost:8080/",
     "height": 416
    },
    "colab_type": "code",
    "executionInfo": {
     "elapsed": 3635,
     "status": "ok",
     "timestamp": 1533253783260,
     "user": {
      "displayName": "Luis Galicia",
      "photoUrl": "https://lh3.googleusercontent.com/a/default-user=s128",
      "userId": "116873116001297431960"
     },
     "user_tz": 240
    },
    "id": "ps4mBbBTqA7s",
    "outputId": "132afd34-cbdc-4699-97b3-ba681d36d2cd"
   },
   "outputs": [
    {
     "name": "stdout",
     "output_type": "stream",
     "text": [
      "With n=5\n",
      "Mean: 78.3088\n",
      "std: 7.039971772670683\n"
     ]
    },
    {
     "data": {
      "text/plain": [
       "<matplotlib.axes._subplots.AxesSubplot at 0x7f0a4a780cc0>"
      ]
     },
     "execution_count": 25,
     "metadata": {},
     "output_type": "execute_result"
    },
    {
     "data": {
      "image/png": "[encoded data removed]",
      "text/plain": [
       "<Figure size 432x288 with 1 Axes>"
      ]
     },
     "metadata": {},
     "output_type": "display_data"
    }
   ],
   "source": [
    "# Sampling distibution of 1000 sample means n=5\n",
    "thousand_samples_hap5 = np.zeros((1000, 1))\n",
    "np.random.seed(87)\n",
    "\n",
    "for i in range(1000):\n",
    "    thousand_samples_hap5[i,:] = np.random.choice(happyness, size=5).mean()\n",
    "\n",
    "sample_mean_hap5 = thousand_samples_hap5.mean()\n",
    "sample_std_hap5 = thousand_samples_hap5.std()\n",
    "\n",
    "print('With n=5')\n",
    "print('Mean:', sample_mean_hap5)\n",
    "print('std:', sample_std_hap5)\n",
    "\n",
    "sns.distplot(thousand_samples_hap5)"
   ]
  },
  {
   "cell_type": "code",
   "execution_count": 26,
   "metadata": {
    "colab": {
     "base_uri": "https://localhost:8080/",
     "height": 416
    },
    "colab_type": "code",
    "executionInfo": {
     "elapsed": 5812,
     "status": "ok",
     "timestamp": 1533253789589,
     "user": {
      "displayName": "Luis Galicia",
      "photoUrl": "https://lh3.googleusercontent.com/a/default-user=s128",
      "userId": "116873116001297431960"
     },
     "user_tz": 240
    },
    "id": "R6e4swZ6rvJA",
    "outputId": "a8fe198c-905c-44fc-d2c8-b4ed6b6c5b32"
   },
   "outputs": [
    {
     "name": "stdout",
     "output_type": "stream",
     "text": [
      "With n=15\n",
      "Mean: 78.04746666666666\n",
      "std: 4.149860000851434\n"
     ]
    },
    {
     "data": {
      "text/plain": [
       "<matplotlib.axes._subplots.AxesSubplot at 0x7f0a4a6a6d68>"
      ]
     },
     "execution_count": 26,
     "metadata": {},
     "output_type": "execute_result"
    },
    {
     "data": {
      "image/png": "[encoded data removed]",
      "text/plain": [
       "<Figure size 432x288 with 1 Axes>"
      ]
     },
     "metadata": {},
     "output_type": "display_data"
    }
   ],
   "source": [
    "# Sampling distibution of 1000 sample means n=15\n",
    "thousand_samples_hap15 = np.zeros((1000, 1))\n",
    "np.random.seed(87)\n",
    "\n",
    "for i in range(1000):\n",
    "    thousand_samples_hap15[i,:] = np.random.choice(happyness, size=15).mean()\n",
    "\n",
    "sample_mean_hap15 = thousand_samples_hap15.mean()\n",
    "sample_std_hap15 = thousand_samples_hap15.std()\n",
    "\n",
    "print('With n=15')\n",
    "print('Mean:', sample_mean_hap15)\n",
    "print('std:', sample_std_hap15)\n",
    "\n",
    "sns.distplot(thousand_samples_hap15)"
   ]
  },
  {
   "cell_type": "code",
   "execution_count": 28,
   "metadata": {
    "colab": {
     "base_uri": "https://localhost:8080/",
     "height": 416
    },
    "colab_type": "code",
    "executionInfo": {
     "elapsed": 15224,
     "status": "ok",
     "timestamp": 1533253805315,
     "user": {
      "displayName": "Luis Galicia",
      "photoUrl": "https://lh3.googleusercontent.com/a/default-user=s128",
      "userId": "116873116001297431960"
     },
     "user_tz": 240
    },
    "id": "peIyzvKvr-1W",
    "outputId": "9a0f2aee-252c-4a71-db21-0baeb138c113"
   },
   "outputs": [
    {
     "name": "stdout",
     "output_type": "stream",
     "text": [
      "With n=25\n",
      "Mean: 78.08008\n",
      "STD: 3.314318993941289\n"
     ]
    },
    {
     "data": {
      "text/plain": [
       "<matplotlib.axes._subplots.AxesSubplot at 0x7f0a4a5e5a90>"
      ]
     },
     "execution_count": 28,
     "metadata": {},
     "output_type": "execute_result"
    },
    {
     "data": {
      "image/png": "[encoded data removed]",
      "text/plain": [
       "<Figure size 432x288 with 1 Axes>"
      ]
     },
     "metadata": {},
     "output_type": "display_data"
    }
   ],
   "source": [
    "# Sampling distribution of 1000 sample means n=25\n",
    "\n",
    "thousand_samples_hap25 = np.zeros((1000, 1))\n",
    "\n",
    "for i in range(1000):\n",
    "    thousand_samples_hap25[i,:] = np.random.choice(happyness, size=25).mean()\n",
    "    \n",
    "sample_mean_hap25 = thousand_samples_hap25.mean()\n",
    "sample_std_hap25 = thousand_samples_hap25.std()\n",
    "\n",
    "print('With n=25')\n",
    "print('Mean:', sample_mean_hap25)\n",
    "print('STD:', sample_std_hap25)\n",
    "\n",
    "sns.distplot(thousand_samples_hap25)"
   ]
  },
  {
   "cell_type": "markdown",
   "metadata": {
    "colab_type": "text",
    "id": "G8Zu_7DCyWrX"
   },
   "source": [
    "## Problem Set"
   ]
  },
  {
   "cell_type": "markdown",
   "metadata": {
    "colab_type": "text",
    "id": "FFeylC0KycCI"
   },
   "source": [
    "## Question 1: On a scale of 1 to 10, how much do UT Austin students like Austin?\n",
    "1. What are the true mean and standard deviation for our population of UT Austin students?\n",
    "2. What should the sampling distribution of the mean look like, as predicted by the Central Limit Theorem?\n",
    "3. How do our simulated values compare to these predicted values?"
   ]
  },
  {
   "cell_type": "code",
   "execution_count": 29,
   "metadata": {
    "colab": {},
    "colab_type": "code",
    "id": "VbjPS7Eoymgk"
   },
   "outputs": [],
   "source": [
    "# I assume that the `austin` variable represents a rating yielded by each student\n",
    "austinRating = data['austin']"
   ]
  },
  {
   "cell_type": "code",
   "execution_count": 30,
   "metadata": {
    "colab": {
     "base_uri": "https://localhost:8080/",
     "height": 413
    },
    "colab_type": "code",
    "executionInfo": {
     "elapsed": 1550,
     "status": "ok",
     "timestamp": 1533253810066,
     "user": {
      "displayName": "Luis Galicia",
      "photoUrl": "https://lh3.googleusercontent.com/a/default-user=s128",
      "userId": "116873116001297431960"
     },
     "user_tz": 240
    },
    "id": "nUeWjg07zDyy",
    "outputId": "0eef7571-79fd-4a16-8e8a-7420da15bd34"
   },
   "outputs": [
    {
     "name": "stdout",
     "output_type": "stream",
     "text": [
      "True Mean: 8.390501319261213\n",
      "Population std: 1.5107251532806583\n"
     ]
    },
    {
     "data": {
      "text/plain": [
       "<matplotlib.axes._subplots.AxesSubplot at 0x7f0a4a57fbe0>"
      ]
     },
     "execution_count": 30,
     "metadata": {},
     "output_type": "execute_result"
    },
    {
     "data": {
      "image/png": "[encoded data removed]",
      "text/plain": [
       "<Figure size 432x288 with 1 Axes>"
      ]
     },
     "metadata": {},
     "output_type": "display_data"
    }
   ],
   "source": [
    "print('True Mean:', austinRating.mean())\n",
    "print('Population std:', austinRating.std())\n",
    "sns.distplot(austinRating)"
   ]
  },
  {
   "cell_type": "code",
   "execution_count": 36,
   "metadata": {
    "colab": {
     "base_uri": "https://localhost:8080/",
     "height": 416
    },
    "colab_type": "code",
    "executionInfo": {
     "elapsed": 6501,
     "status": "ok",
     "timestamp": 1533253817233,
     "user": {
      "displayName": "Luis Galicia",
      "photoUrl": "https://lh3.googleusercontent.com/a/default-user=s128",
      "userId": "116873116001297431960"
     },
     "user_tz": 240
    },
    "id": "MGaYkrxD3Mhz",
    "outputId": "afcbc592-1ea3-434a-93e6-66ccb74d5a21"
   },
   "outputs": [
    {
     "name": "stdout",
     "output_type": "stream",
     "text": [
      "n=10\n",
      "mean: 8.390199999999998\n",
      "std: 0.4497209801643681\n"
     ]
    },
    {
     "data": {
      "text/plain": [
       "<matplotlib.axes._subplots.AxesSubplot at 0x7f0a4a3a6550>"
      ]
     },
     "execution_count": 36,
     "metadata": {},
     "output_type": "execute_result"
    },
    {
     "data": {
      "image/png": "[encoded data removed]",
      "text/plain": [
       "<Figure size 432x288 with 1 Axes>"
      ]
     },
     "metadata": {},
     "output_type": "display_data"
    }
   ],
   "source": [
    "# Sampling distribution of 1000 sample means with n=10\n",
    "samples10_austin = np.zeros((1000, 1))\n",
    "np.random.seed(87)\n",
    "\n",
    "for i in range(1000):\n",
    "    samples10_austin[i,:] = np.random.choice(austinRating, size=10).mean()\n",
    "    \n",
    "austin_mean10 = samples10_austin.mean()\n",
    "austin_std10 = samples10_austin.std()\n",
    "\n",
    "print('n=10')\n",
    "print('mean:', austin_mean10)\n",
    "print('std:', austin_std10)\n",
    "\n",
    "sns.distplot(samples10_austin)"
   ]
  },
  {
   "cell_type": "markdown",
   "metadata": {
    "colab_type": "text",
    "id": "5S2lLwKEDgA6"
   },
   "source": [
    "\n",
    "## Question 2\n",
    "A population of sunflower plants is described as having a monthly growth rate that follows a normal distribution with μ = 3.08 in and σ = 0.40 in.\n",
    "Use this information to answer the following questions.\n"
   ]
  },
  {
   "cell_type": "code",
   "execution_count": 37,
   "metadata": {
    "colab": {},
    "colab_type": "code",
    "id": "cliVr3-lCoT5"
   },
   "outputs": [],
   "source": [
    "flowersMean = 3.08\n",
    "flowersStd = 0.40"
   ]
  },
  {
   "cell_type": "markdown",
   "metadata": {
    "colab_type": "text",
    "id": "OQlyqjTPG2pY"
   },
   "source": [
    "What is the probability that a randomly chosen sunflower plant grows more than 3.2 inches in a month?\n"
   ]
  },
  {
   "cell_type": "code",
   "execution_count": 38,
   "metadata": {
    "colab": {
     "base_uri": "https://localhost:8080/",
     "height": 34
    },
    "colab_type": "code",
    "executionInfo": {
     "elapsed": 5571,
     "status": "ok",
     "timestamp": 1533254370044,
     "user": {
      "displayName": "Luis Galicia",
      "photoUrl": "https://lh3.googleusercontent.com/a/default-user=s128",
      "userId": "116873116001297431960"
     },
     "user_tz": 240
    },
    "id": "2AufzlUNDyI7",
    "outputId": "3138c09b-4c29-4535-8689-a942b92e76f2"
   },
   "outputs": [
    {
     "data": {
      "text/plain": [
       "0.3820885778110472"
      ]
     },
     "execution_count": 38,
     "metadata": {},
     "output_type": "execute_result"
    }
   ],
   "source": [
    "from scipy.stats import norm\n",
    "1 - norm.cdf(3.2, flowersMean, flowersStd)"
   ]
  },
  {
   "cell_type": "markdown",
   "metadata": {
    "colab_type": "text",
    "id": "ERtz64K6G9jZ"
   },
   "source": [
    " A middle-school science class grew 25 of these sunflowers. \n",
    "How many inches would they expect these flowers to have grown, on average, one month later?. \n",
    "\n",
    "A: 3.08 inches duh"
   ]
  },
  {
   "cell_type": "markdown",
   "metadata": {
    "colab_type": "text",
    "id": "TpNyO5rwHw0u"
   },
   "source": [
    "The middle school science teacher replicates her study with 25 new sunflowers every year. How much variability in inches should she expect in the average monthly growth of these samples? \n",
    "\n",
    "$\\frac{\\sigma}{\\sqrt{n}} = \\frac{0.4}{5} = 0.08$"
   ]
  },
  {
   "cell_type": "code",
   "execution_count": 49,
   "metadata": {
    "colab": {
     "base_uri": "https://localhost:8080/",
     "height": 34
    },
    "colab_type": "code",
    "executionInfo": {
     "elapsed": 1374,
     "status": "ok",
     "timestamp": 1533258543823,
     "user": {
      "displayName": "Luis Galicia",
      "photoUrl": "https://lh3.googleusercontent.com/a/default-user=s128",
      "userId": "116873116001297431960"
     },
     "user_tz": 240
    },
    "id": "01h6RcZ_GDpl",
    "outputId": "1a08beaf-b728-4763-98e4-fd3ba50cdeec"
   },
   "outputs": [
    {
     "data": {
      "text/plain": [
       "0.08"
      ]
     },
     "execution_count": 49,
     "metadata": {
      "tags": []
     },
     "output_type": "execute_result"
    }
   ],
   "source": [
    "stderr = 0.40 / 5; stderr"
   ]
  },
  {
   "cell_type": "markdown",
   "metadata": {
    "colab_type": "text",
    "id": "oE_4V4eVMDZ9"
   },
   "source": [
    "What is the probability that her next sample of 25 sunflowers will grow an average of more than 2.9, but less than 3.2 inches, in a month? "
   ]
  },
  {
   "cell_type": "code",
   "execution_count": 48,
   "metadata": {
    "colab": {
     "base_uri": "https://localhost:8080/",
     "height": 34
    },
    "colab_type": "code",
    "executionInfo": {
     "elapsed": 1339,
     "status": "ok",
     "timestamp": 1533258523622,
     "user": {
      "displayName": "Luis Galicia",
      "photoUrl": "https://lh3.googleusercontent.com/a/default-user=s128",
      "userId": "116873116001297431960"
     },
     "user_tz": 240
    },
    "id": "HH6TNjpgMHPC",
    "outputId": "ac0d4e13-0efc-4eca-a057-53a676188866"
   },
   "outputs": [
    {
     "data": {
      "text/plain": [
       "0.9209683260760975"
      ]
     },
     "execution_count": 48,
     "metadata": {
      "tags": []
     },
     "output_type": "execute_result"
    }
   ],
   "source": [
    "norm.cdf(3.2, flowersMean, stderr) - norm.cdf(2.9, flowersMean, stderr)"
   ]
  },
  {
   "cell_type": "markdown",
   "metadata": {
    "colab_type": "text",
    "id": "z7Ss52kYVhQ9"
   },
   "source": [
    "A very large company has its headquarters in a 15-story downtown office building. The morning commute time for employees of this company is normally distributed with a mean of 28 minutes and a standard deviation of 11 minutes.\n",
    "\n",
    "The company in the building next door samples 23 of its employees and finds that their mean commute time is 35.1 minutes. Is there evidence that their commute time is longer than the other company's, or is this just random sampling error?"
   ]
  },
  {
   "cell_type": "code",
   "execution_count": 0,
   "metadata": {
    "colab": {},
    "colab_type": "code",
    "id": "DzqMbnjOVlv4"
   },
   "outputs": [],
   "source": [
    "company1mean = 28\n",
    "company1std = 11\n",
    "\n",
    "company2mean = 35.1\n",
    "company2n = 23"
   ]
  },
  {
   "cell_type": "markdown",
   "metadata": {
    "colab_type": "text",
    "id": "JamLx2BUYTg5"
   },
   "source": [
    "What is the expected standard error of the sampling distribution for samples of n=23? \n",
    "$\\frac{\\sigma_{company1}}{\\sqrt{n_{company2}}} = 2.29$"
   ]
  },
  {
   "cell_type": "code",
   "execution_count": 51,
   "metadata": {
    "colab": {
     "base_uri": "https://localhost:8080/",
     "height": 34
    },
    "colab_type": "code",
    "executionInfo": {
     "elapsed": 1328,
     "status": "ok",
     "timestamp": 1533259404534,
     "user": {
      "displayName": "Luis Galicia",
      "photoUrl": "https://lh3.googleusercontent.com/a/default-user=s128",
      "userId": "116873116001297431960"
     },
     "user_tz": 240
    },
    "id": "Y8Y-nBbkWYf6",
    "outputId": "3d4fabb7-5bf7-4dd6-f783-451a3728190e"
   },
   "outputs": [
    {
     "data": {
      "text/plain": [
       "2.2936585546278225"
      ]
     },
     "execution_count": 51,
     "metadata": {
      "tags": []
     },
     "output_type": "execute_result"
    }
   ],
   "source": [
    "company1std / np.sqrt(company2n)"
   ]
  },
  {
   "cell_type": "code",
   "execution_count": 39,
   "metadata": {
    "colab": {
     "base_uri": "https://localhost:8080/",
     "height": 34
    },
    "colab_type": "code",
    "executionInfo": {
     "elapsed": 428,
     "status": "ok",
     "timestamp": 1534248468983,
     "user": {
      "displayName": "Luis Galicia",
      "photoUrl": "https://lh3.googleusercontent.com/a/default-user=s128",
      "userId": "116873116001297431960"
     },
     "user_tz": 240
    },
    "id": "k-VtPvzqTIHC",
    "outputId": "5730e4b1-bc64-46a7-978b-2239faa17355"
   },
   "outputs": [
    {
     "data": {
      "text/plain": [
       "0.10344080432788594"
      ]
     },
     "execution_count": 39,
     "metadata": {},
     "output_type": "execute_result"
    }
   ],
   "source": [
    "import numpy as np\n",
    "np.array([4.37, 4.31, 4.56, 4.25, 4.43, 4.31, 4.43]).std(ddof=1)"
   ]
  }
 ],
 "metadata": {
  "colab": {
   "name": "week1.ipynb",
   "provenance": [],
   "version": "0.3.2"
  },
  "kernelspec": {
   "display_name": "Python 3",
   "language": "python",
   "name": "python3"
  },
  "language_info": {
   "codemirror_mode": {
    "name": "ipython",
    "version": 3
   },
   "file_extension": ".py",
   "mimetype": "text/x-python",
   "name": "python",
   "nbconvert_exporter": "python",
   "pygments_lexer": "ipython3",
   "version": "3.6.7"
  }
 },
 "nbformat": 4,
 "nbformat_minor": 1
}
