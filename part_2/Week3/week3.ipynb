{
 "cells": [
  {
   "cell_type": "code",
   "execution_count": 4,
   "metadata": {
    "colab": {
     "base_uri": "https://localhost:8080/",
     "height": 436
    },
    "colab_type": "code",
    "executionInfo": {
     "elapsed": 157997,
     "status": "ok",
     "timestamp": 1535112055637,
     "user": {
      "displayName": "Luis Galicia",
      "photoUrl": "https://lh3.googleusercontent.com/a/default-user=s128",
      "userId": "116873116001297431960"
     },
     "user_tz": 240
    },
    "id": "ijsNdXxUkUYV",
    "outputId": "ac31892a-557b-44bc-8e64-8a8d2b8b47f4"
   },
   "outputs": [],
   "source": [
    "import numpy as np\n",
    "import pandas as pd\n",
    "import matplotlib.pyplot as plt\n",
    "import seaborn as sns\n",
    "\n",
    "plt.style.use(\"ggplot\")"
   ]
  },
  {
   "cell_type": "code",
   "execution_count": 5,
   "metadata": {
    "colab": {},
    "colab_type": "code",
    "id": "ZQ5AUGEQkgz4"
   },
   "outputs": [],
   "source": [
    "data = pd.read_csv('PostSurvey.csv')"
   ]
  },
  {
   "cell_type": "markdown",
   "metadata": {
    "colab_type": "text",
    "id": "iZfpR-BwkPse"
   },
   "source": [
    "## Pre-Lab\n",
    "\n",
    "1.  Who is happier at the beginning of the semester:  under-classmen or upper-classmen?\n",
    "2.  Does student happiness change from the beginning of the semester to the end?"
   ]
  },
  {
   "cell_type": "markdown",
   "metadata": {
    "colab_type": "text",
    "id": "JoB0rK9OAFM7"
   },
   "source": [
    "Formulas for two sample means independent t-test.\n",
    "\n",
    "$SE_{\\bar{x}_1-\\bar{x}_2} = \\sqrt{\\frac{s_1^2}{n_1} + \\frac{s_2^2}{n_2}} \\\\\n",
    "t = \\frac{(\\bar{x}_1-\\bar{x}_2) - (\\mu_1-\\mu_2)}{SE_{\\bar{x}_1-\\bar{x}_2}} \\\\\n",
    "df = \\frac{(\\frac{s_1^2}{n_1} + \\frac{s_2^2}{n_2})^2}{\\frac{1}{n_1-1}(\\frac{s_1^2}{n_1})^2 + \\frac{1}{n_2-1}(\\frac{s_2^2}{n_2})^2}\n",
    "$"
   ]
  },
  {
   "cell_type": "code",
   "execution_count": 6,
   "metadata": {
    "colab": {},
    "colab_type": "code",
    "id": "dhDoQM8vd0Fi"
   },
   "outputs": [],
   "source": [
    "def stderr_2means(s1, s2, n1, n2):\n",
    "    stderr = np.sqrt( (s1**2 / n1) + (s2**2 / n2 ) )\n",
    "    return stderr\n",
    "    \n",
    "def tstat_2means(mudiff, xbardiff, stderr):\n",
    "    t = ( (xbardiff) - (mudiff) ) / stderr\n",
    "    return t\n",
    "  \n",
    "def DF(s1, s2, n1, n2):\n",
    "    numerator = ((s1**2 / n1) + (s2**2 / n2))**2\n",
    "    denominator = ((s1**2 / n1)**2 / (n1 - 1)) + ((s2**2 / n2)**2 / (n2 - 1))\n",
    "    df = numerator / denominator\n",
    "    return df"
   ]
  },
  {
   "cell_type": "markdown",
   "metadata": {
    "colab_type": "text",
    "id": "4CHu3UBR3w6e"
   },
   "source": [
    "### Independent t-test"
   ]
  },
  {
   "cell_type": "code",
   "execution_count": 7,
   "metadata": {
    "colab": {},
    "colab_type": "code",
    "id": "i4h7jEwEkTf5"
   },
   "outputs": [],
   "source": [
    "upperClass = data[data.classification.apply(lambda v: (v == 'Junior') | (v == 'Senior'))].copy()\n",
    "underClass = data[data.classification.apply(lambda v: (v == 'Freshman') | (v == 'Sophomore'))].copy()\n",
    "\n",
    "happynessUpper = upperClass.happy\n",
    "happynessUnder = underClass.happy\n",
    "\n",
    "happUpMean = happynessUpper.mean()\n",
    "happUpStd = happynessUpper.std(ddof=1)\n",
    "\n",
    "happUnMean = happynessUnder.mean()\n",
    "happUnStd = happynessUnder.std(ddof=1)"
   ]
  },
  {
   "cell_type": "code",
   "execution_count": 8,
   "metadata": {
    "colab": {
     "base_uri": "https://localhost:8080/",
     "height": 52
    },
    "colab_type": "code",
    "executionInfo": {
     "elapsed": 400,
     "status": "ok",
     "timestamp": 1534950247464,
     "user": {
      "displayName": "Luis Galicia",
      "photoUrl": "https://lh3.googleusercontent.com/a/default-user=s128",
      "userId": "116873116001297431960"
     },
     "user_tz": 240
    },
    "id": "mLTcySCG-SUV",
    "outputId": "c1062db4-1cf8-4417-c3b0-def6727f06a6"
   },
   "outputs": [
    {
     "name": "stdout",
     "output_type": "stream",
     "text": [
      "upper-class happy mean: 78.3\n",
      "under-class happy mean: 79.67213114754098\n"
     ]
    }
   ],
   "source": [
    "print('upper-class happy mean:', happUpMean)\n",
    "print('under-class happy mean:', happUnMean)"
   ]
  },
  {
   "cell_type": "code",
   "execution_count": 9,
   "metadata": {
    "colab": {
     "base_uri": "https://localhost:8080/",
     "height": 393
    },
    "colab_type": "code",
    "executionInfo": {
     "elapsed": 688,
     "status": "ok",
     "timestamp": 1534950248526,
     "user": {
      "displayName": "Luis Galicia",
      "photoUrl": "https://lh3.googleusercontent.com/a/default-user=s128",
      "userId": "116873116001297431960"
     },
     "user_tz": 240
    },
    "id": "sK7D8jYl2XiT",
    "outputId": "32dcc672-69d9-4730-e34d-9793fecb7252"
   },
   "outputs": [
    {
     "data": {
      "text/plain": [
       "<matplotlib.axes._subplots.AxesSubplot at 0x7fcdfa2c0a58>"
      ]
     },
     "execution_count": 9,
     "metadata": {},
     "output_type": "execute_result"
    },
    {
     "data": {
      "image/png": "[encoded data removed]",
      "text/plain": [
       "<Figure size 432x288 with 1 Axes>"
      ]
     },
     "metadata": {},
     "output_type": "display_data"
    }
   ],
   "source": [
    "plt.title('Happyness upper-classmen')\n",
    "sns.distplot(happynessUpper)"
   ]
  },
  {
   "cell_type": "code",
   "execution_count": 13,
   "metadata": {
    "colab": {
     "base_uri": "https://localhost:8080/",
     "height": 393
    },
    "colab_type": "code",
    "executionInfo": {
     "elapsed": 1180,
     "status": "ok",
     "timestamp": 1534950251559,
     "user": {
      "displayName": "Luis Galicia",
      "photoUrl": "https://lh3.googleusercontent.com/a/default-user=s128",
      "userId": "116873116001297431960"
     },
     "user_tz": 240
    },
    "id": "MkS4cKhr2tsh",
    "outputId": "5ed454b3-7d2d-4269-ffda-24cc9907d9f4"
   },
   "outputs": [
    {
     "data": {
      "text/plain": [
       "<matplotlib.axes._subplots.AxesSubplot at 0x7fce0a400748>"
      ]
     },
     "execution_count": 13,
     "metadata": {},
     "output_type": "execute_result"
    },
    {
     "data": {
      "image/png": "[encoded data removed]",
      "text/plain": [
       "<Figure size 432x288 with 1 Axes>"
      ]
     },
     "metadata": {},
     "output_type": "display_data"
    }
   ],
   "source": [
    "plt.title('happyness under-classmen')\n",
    "sns.distplot(happynessUnder)"
   ]
  },
  {
   "cell_type": "code",
   "execution_count": 72,
   "metadata": {
    "colab": {
     "base_uri": "https://localhost:8080/",
     "height": 34
    },
    "colab_type": "code",
    "executionInfo": {
     "elapsed": 803,
     "status": "ok",
     "timestamp": 1534950252704,
     "user": {
      "displayName": "Luis Galicia",
      "photoUrl": "https://lh3.googleusercontent.com/a/default-user=s128",
      "userId": "116873116001297431960"
     },
     "user_tz": 240
    },
    "id": "8M8PkHswfVKW",
    "outputId": "bb940e43-4968-4d12-a3ec-a3d242f77940"
   },
   "outputs": [
    {
     "name": "stdout",
     "output_type": "stream",
     "text": [
      "t: 0.42302412288024344\n"
     ]
    }
   ],
   "source": [
    "# da test\n",
    "\n",
    "indep_stderr = stderr_2means(happUnStd, happUpStd, len(happynessUnder), len(happynessUpper))\n",
    "indep_tstat = tstat_2means(0, happUnMean-happUpMean, indep_stderr)\n",
    "\n",
    "print('t:', indep_tstat)\n",
    "\n",
    "# FAIL TO REJECT"
   ]
  },
  {
   "cell_type": "markdown",
   "metadata": {
    "colab_type": "text",
    "id": "EPhgTror341b"
   },
   "source": [
    "### Dependent t-test"
   ]
  },
  {
   "cell_type": "code",
   "execution_count": 10,
   "metadata": {
    "colab": {},
    "colab_type": "code",
    "id": "p4p3hKO636l2"
   },
   "outputs": [],
   "source": [
    "happynessDiff = data['happy'] - data['post_happy']\n",
    "\n",
    "diffMean = happynessDiff.mean()\n",
    "diffStd = happynessDiff.std(ddof=1)"
   ]
  },
  {
   "cell_type": "code",
   "execution_count": 11,
   "metadata": {
    "colab": {
     "base_uri": "https://localhost:8080/",
     "height": 364
    },
    "colab_type": "code",
    "executionInfo": {
     "elapsed": 504,
     "status": "ok",
     "timestamp": 1534950256007,
     "user": {
      "displayName": "Luis Galicia",
      "photoUrl": "https://lh3.googleusercontent.com/a/default-user=s128",
      "userId": "116873116001297431960"
     },
     "user_tz": 240
    },
    "id": "lfzQbPBf4r86",
    "outputId": "eaed4d04-bd9b-4060-f345-9d4ae38a8415"
   },
   "outputs": [
    {
     "data": {
      "text/plain": [
       "<matplotlib.axes._subplots.AxesSubplot at 0x7fce0a424f28>"
      ]
     },
     "execution_count": 11,
     "metadata": {},
     "output_type": "execute_result"
    },
    {
     "data": {
      "image/png": "[encoded data removed]",
      "text/plain": [
       "<Figure size 432x288 with 1 Axes>"
      ]
     },
     "metadata": {},
     "output_type": "display_data"
    }
   ],
   "source": [
    "sns.distplot(happynessDiff)"
   ]
  },
  {
   "cell_type": "code",
   "execution_count": 12,
   "metadata": {
    "colab": {
     "base_uri": "https://localhost:8080/",
     "height": 34
    },
    "colab_type": "code",
    "executionInfo": {
     "elapsed": 486,
     "status": "ok",
     "timestamp": 1534950434903,
     "user": {
      "displayName": "Luis Galicia",
      "photoUrl": "https://lh3.googleusercontent.com/a/default-user=s128",
      "userId": "116873116001297431960"
     },
     "user_tz": 240
    },
    "id": "nSLWg9XdKRn-",
    "outputId": "6aff73db-f8b5-4d66-e942-e1f2aabe58b1"
   },
   "outputs": [
    {
     "name": "stdout",
     "output_type": "stream",
     "text": [
      "t: 1.6838243198311555\n"
     ]
    }
   ],
   "source": [
    "depen_stderr = diffStd / np.sqrt(214)\n",
    "depen_tstat = tstat_2means(0, diffMean, depen_stderr)\n",
    "\n",
    "print('t:', depen_tstat)\n",
    "\n",
    "# FAIL TO REJECT"
   ]
  },
  {
   "cell_type": "markdown",
   "metadata": {
    "colab_type": "text",
    "id": "6lJtpnkCd0Vu"
   },
   "source": [
    "## Lab\n",
    "1. Do students at UT spend more time on homework per week in college than they did in high school?\n",
    "2. Do students in fraternities and sororities get less sleep on the weekends than other college students? "
   ]
  },
  {
   "cell_type": "markdown",
   "metadata": {
    "colab_type": "text",
    "id": "nzpK-O_qkleM"
   },
   "source": [
    "### 1"
   ]
  },
  {
   "cell_type": "code",
   "execution_count": 14,
   "metadata": {
    "colab": {
     "base_uri": "https://localhost:8080/",
     "height": 52
    },
    "colab_type": "code",
    "executionInfo": {
     "elapsed": 633,
     "status": "ok",
     "timestamp": 1534956893804,
     "user": {
      "displayName": "Luis Galicia",
      "photoUrl": "https://lh3.googleusercontent.com/a/default-user=s128",
      "userId": "116873116001297431960"
     },
     "user_tz": 240
    },
    "id": "GPfS0sRod1zG",
    "outputId": "eb0887e2-4f2f-43fd-dd7b-d20bf30409f2"
   },
   "outputs": [
    {
     "name": "stdout",
     "output_type": "stream",
     "text": [
      "highschool study time mean: 8.572429906542055\n",
      "college study time mean: 19.518691588785046\n"
     ]
    }
   ],
   "source": [
    "studyHoursHS = data.hw_hours_HS.copy()\n",
    "studyHoursUT = data.hw_hours_college.copy()\n",
    "\n",
    "hoursHSmean = studyHoursHS.mean(); hoursHSstd = studyHoursHS.std(ddof=1)\n",
    "hoursUTmean = studyHoursUT.mean(); hoursUTstd = studyHoursUT.std(ddof=1)\n",
    "\n",
    "print('highschool study time mean:', hoursHSmean)\n",
    "print('college study time mean:', hoursUTmean)"
   ]
  },
  {
   "cell_type": "code",
   "execution_count": 15,
   "metadata": {
    "colab": {
     "base_uri": "https://localhost:8080/",
     "height": 393
    },
    "colab_type": "code",
    "executionInfo": {
     "elapsed": 2606,
     "status": "ok",
     "timestamp": 1534955962203,
     "user": {
      "displayName": "Luis Galicia",
      "photoUrl": "https://lh3.googleusercontent.com/a/default-user=s128",
      "userId": "116873116001297431960"
     },
     "user_tz": 240
    },
    "id": "OufMOVltgGXy",
    "outputId": "7bb95ccc-1390-420a-ef4c-169915e33203",
    "scrolled": true
   },
   "outputs": [
    {
     "data": {
      "text/plain": [
       "<matplotlib.axes._subplots.AxesSubplot at 0x7fce0a2e4668>"
      ]
     },
     "execution_count": 15,
     "metadata": {},
     "output_type": "execute_result"
    },
    {
     "data": {
      "image/png": "[encoded data removed]",
      "text/plain": [
       "<Figure size 432x288 with 1 Axes>"
      ]
     },
     "metadata": {},
     "output_type": "display_data"
    }
   ],
   "source": [
    "plt.title('Distribution of study time in High-school')\n",
    "sns.distplot(studyHoursHS)"
   ]
  },
  {
   "cell_type": "code",
   "execution_count": 16,
   "metadata": {
    "colab": {
     "base_uri": "https://localhost:8080/",
     "height": 393
    },
    "colab_type": "code",
    "executionInfo": {
     "elapsed": 2385,
     "status": "ok",
     "timestamp": 1534955926736,
     "user": {
      "displayName": "Luis Galicia",
      "photoUrl": "https://lh3.googleusercontent.com/a/default-user=s128",
      "userId": "116873116001297431960"
     },
     "user_tz": 240
    },
    "id": "MaNC7d-8f96V",
    "outputId": "ed541d8c-b489-4dd5-eb92-6af619543967"
   },
   "outputs": [
    {
     "data": {
      "text/plain": [
       "<matplotlib.axes._subplots.AxesSubplot at 0x7fce0a35d710>"
      ]
     },
     "execution_count": 16,
     "metadata": {},
     "output_type": "execute_result"
    },
    {
     "data": {
      "image/png": "[encoded data removed]",
      "text/plain": [
       "<Figure size 432x288 with 1 Axes>"
      ]
     },
     "metadata": {},
     "output_type": "display_data"
    }
   ],
   "source": [
    "plt.title('Distribution of study time in college')\n",
    "sns.distplot(studyHoursUT)"
   ]
  },
  {
   "cell_type": "code",
   "execution_count": 17,
   "metadata": {
    "colab": {
     "base_uri": "https://localhost:8080/",
     "height": 379
    },
    "colab_type": "code",
    "executionInfo": {
     "elapsed": 2973,
     "status": "ok",
     "timestamp": 1534959273924,
     "user": {
      "displayName": "Luis Galicia",
      "photoUrl": "https://lh3.googleusercontent.com/a/default-user=s128",
      "userId": "116873116001297431960"
     },
     "user_tz": 240
    },
    "id": "G4Hns_J3sxcW",
    "outputId": "fa7d2296-7bef-4586-8479-faaebe39922c",
    "scrolled": true
   },
   "outputs": [
    {
     "data": {
      "text/plain": [
       "<matplotlib.axes._subplots.AxesSubplot at 0x7fce0a234438>"
      ]
     },
     "execution_count": 17,
     "metadata": {},
     "output_type": "execute_result"
    },
    {
     "data": {
      "image/png": "[encoded data removed]",
      "text/plain": [
       "<Figure size 432x288 with 1 Axes>"
      ]
     },
     "metadata": {},
     "output_type": "display_data"
    }
   ],
   "source": [
    "plt.title('distribution of the difference in study times')\n",
    "sns.distplot(studyHoursHS - studyHoursUT)"
   ]
  },
  {
   "cell_type": "code",
   "execution_count": 18,
   "metadata": {
    "colab": {
     "base_uri": "https://localhost:8080/",
     "height": 34
    },
    "colab_type": "code",
    "executionInfo": {
     "elapsed": 627,
     "status": "ok",
     "timestamp": 1534957548681,
     "user": {
      "displayName": "Luis Galicia",
      "photoUrl": "https://lh3.googleusercontent.com/a/default-user=s128",
      "userId": "116873116001297431960"
     },
     "user_tz": 240
    },
    "id": "0KutcUj_fHk8",
    "outputId": "6d08d259-72fa-4673-fc17-9d56cdbcd98d"
   },
   "outputs": [
    {
     "name": "stdout",
     "output_type": "stream",
     "text": [
      "t: -16.811516775929036\n"
     ]
    }
   ],
   "source": [
    "# parameters for conducting t test\n",
    "studyHours_diff = studyHoursHS - studyHoursUT\n",
    "\n",
    "studyHours_diff_mean = studyHours_diff.mean()\n",
    "studyHours_diff_std = studyHours_diff.std(ddof=1)\n",
    "studyHours_diff_stderr = studyHours_diff_std / np.sqrt(len(data))\n",
    "\n",
    "# da test\n",
    "studyHours_tstat = studyHours_diff_mean / studyHours_diff_stderr\n",
    "\n",
    "print('t:', studyHours_tstat)\n",
    "\n",
    "# REJECT NULL HYPOTHESIS"
   ]
  },
  {
   "cell_type": "code",
   "execution_count": 19,
   "metadata": {
    "colab": {
     "base_uri": "https://localhost:8080/",
     "height": 34
    },
    "colab_type": "code",
    "executionInfo": {
     "elapsed": 3163,
     "status": "ok",
     "timestamp": 1534957524138,
     "user": {
      "displayName": "Luis Galicia",
      "photoUrl": "https://lh3.googleusercontent.com/a/default-user=s128",
      "userId": "116873116001297431960"
     },
     "user_tz": 240
    },
    "id": "e7kvVkOLmOJy",
    "outputId": "13342483-c675-4637-d416-9843b75e8067"
   },
   "outputs": [
    {
     "data": {
      "text/plain": [
       "-10.94626168224299"
      ]
     },
     "execution_count": 19,
     "metadata": {},
     "output_type": "execute_result"
    }
   ],
   "source": [
    "studyHours_diff_mean"
   ]
  },
  {
   "cell_type": "markdown",
   "metadata": {
    "colab_type": "text",
    "id": "Dx2wcnSlko07"
   },
   "source": [
    "### 2"
   ]
  },
  {
   "cell_type": "code",
   "execution_count": 20,
   "metadata": {
    "colab": {},
    "colab_type": "code",
    "id": "14PRXX3dkqeZ"
   },
   "outputs": [],
   "source": [
    "GLOStudents = data[data.greek == 'yes']\n",
    "nonGLOStudents = data[data.greek == 'no']\n",
    "\n",
    "greekSleep_mean = GLOStudents.sleep_Sat.mean()\n",
    "nonGreekSleep_mean = nonGLOStudents.sleep_Sat.mean()\n",
    "\n",
    "greekSleep_std = GLOStudents.sleep_Sat.std(ddof=1)\n",
    "nonGreekSleep_std = nonGLOStudents.sleep_Sat.std(ddof=1)"
   ]
  },
  {
   "cell_type": "code",
   "execution_count": 21,
   "metadata": {
    "colab": {
     "base_uri": "https://localhost:8080/",
     "height": 393
    },
    "colab_type": "code",
    "executionInfo": {
     "elapsed": 599,
     "status": "ok",
     "timestamp": 1534959100237,
     "user": {
      "displayName": "Luis Galicia",
      "photoUrl": "https://lh3.googleusercontent.com/a/default-user=s128",
      "userId": "116873116001297431960"
     },
     "user_tz": 240
    },
    "id": "2wDQkIdfsHci",
    "outputId": "3b9cf466-2558-41e6-cc6a-fba169e3c2f9"
   },
   "outputs": [
    {
     "data": {
      "text/plain": [
       "<matplotlib.axes._subplots.AxesSubplot at 0x7fce0a1b9400>"
      ]
     },
     "execution_count": 21,
     "metadata": {},
     "output_type": "execute_result"
    },
    {
     "data": {
      "image/png": "[encoded data removed]",
      "text/plain": [
       "<Figure size 432x288 with 1 Axes>"
      ]
     },
     "metadata": {},
     "output_type": "display_data"
    }
   ],
   "source": [
    "plt.title('Distribution of greek sleep')\n",
    "sns.distplot(GLOStudents.sleep_Sat)"
   ]
  },
  {
   "cell_type": "code",
   "execution_count": 22,
   "metadata": {
    "colab": {
     "base_uri": "https://localhost:8080/",
     "height": 393
    },
    "colab_type": "code",
    "executionInfo": {
     "elapsed": 749,
     "status": "ok",
     "timestamp": 1534959133507,
     "user": {
      "displayName": "Luis Galicia",
      "photoUrl": "https://lh3.googleusercontent.com/a/default-user=s128",
      "userId": "116873116001297431960"
     },
     "user_tz": 240
    },
    "id": "d_fBasTAsTNN",
    "outputId": "8dffc205-a733-4d20-9fd6-ba2ee09f7a66"
   },
   "outputs": [
    {
     "data": {
      "text/plain": [
       "<matplotlib.axes._subplots.AxesSubplot at 0x7fce0a0a0f98>"
      ]
     },
     "execution_count": 22,
     "metadata": {},
     "output_type": "execute_result"
    },
    {
     "data": {
      "image/png": "[encoded data removed]",
      "text/plain": [
       "<Figure size 432x288 with 1 Axes>"
      ]
     },
     "metadata": {},
     "output_type": "display_data"
    }
   ],
   "source": [
    "plt.title('distribution of non greek sleep')\n",
    "sns.distplot(nonGLOStudents.sleep_Sat)"
   ]
  },
  {
   "cell_type": "code",
   "execution_count": 23,
   "metadata": {
    "colab": {},
    "colab_type": "code",
    "id": "KEk9gsD1lp5S"
   },
   "outputs": [],
   "source": [
    "sleepHours_stderr = stderr_2means(greekSleep_std, nonGreekSleep_std, len(GLOStudents), len(nonGLOStudents))\n",
    "sleepHours_tstat = tstat_2means(0, greekSleep_mean - nonGreekSleep_mean, sleepHours_stderr)"
   ]
  },
  {
   "cell_type": "code",
   "execution_count": 24,
   "metadata": {
    "colab": {
     "base_uri": "https://localhost:8080/",
     "height": 34
    },
    "colab_type": "code",
    "executionInfo": {
     "elapsed": 708,
     "status": "ok",
     "timestamp": 1534958111631,
     "user": {
      "displayName": "Luis Galicia",
      "photoUrl": "https://lh3.googleusercontent.com/a/default-user=s128",
      "userId": "116873116001297431960"
     },
     "user_tz": 240
    },
    "id": "qzWBxPHOoaxt",
    "outputId": "d9fd52d2-e860-40af-bab0-ec55cb73dcdf"
   },
   "outputs": [
    {
     "name": "stdout",
     "output_type": "stream",
     "text": [
      "t: -0.9807735842976075\n"
     ]
    }
   ],
   "source": [
    "print('t:', sleepHours_tstat)\n",
    "\n",
    "# FAIL TO REJECT"
   ]
  },
  {
   "cell_type": "markdown",
   "metadata": {
    "colab_type": "text",
    "id": "Lg8IJQ9Fz8eI"
   },
   "source": [
    "## Problem Set"
   ]
  },
  {
   "cell_type": "markdown",
   "metadata": {
    "colab_type": "text",
    "id": "7Iw5-u4l0CIV"
   },
   "source": [
    "### Q1\n",
    "Is the increase in time spent studying from high school to college the same for nursing majors and biology majors?  "
   ]
  },
  {
   "cell_type": "code",
   "execution_count": 25,
   "metadata": {
    "colab": {},
    "colab_type": "code",
    "id": "RpNZKqzZz-oL"
   },
   "outputs": [],
   "source": [
    "biologists = data[data.major.apply(lambda m: m == 'Biology')]\n",
    "nurses = data[data.major.apply(lambda m: m == 'Nursing')]"
   ]
  },
  {
   "cell_type": "code",
   "execution_count": 26,
   "metadata": {
    "colab": {
     "base_uri": "https://localhost:8080/",
     "height": 121
    },
    "colab_type": "code",
    "executionInfo": {
     "elapsed": 667,
     "status": "ok",
     "timestamp": 1535112430247,
     "user": {
      "displayName": "Luis Galicia",
      "photoUrl": "https://lh3.googleusercontent.com/a/default-user=s128",
      "userId": "116873116001297431960"
     },
     "user_tz": 240
    },
    "id": "YHnS0qx91KwW",
    "outputId": "1ba4d018-2386-43dc-b82d-3d52f774265d"
   },
   "outputs": [
    {
     "data": {
      "text/plain": [
       "Index(['ID', 'gender', 'age', 'classification', 'happy', 'sleep_Tues',\n",
       "       'sleep_Sat', 'hair_color', 'exclusive', 'greek', 'smoke', 'talking_min',\n",
       "       'texts_sent', 'live_campus', 'roomates', 'austin', 'commute',\n",
       "       'UT_sport', 'major', 'hw_hours_HS', 'hw_hours_college', 'post_happy',\n",
       "       'post_exclusive', 'post_smoke', 'post_talking_min', 'post_text_sent'],\n",
       "      dtype='object')"
      ]
     },
     "execution_count": 26,
     "metadata": {},
     "output_type": "execute_result"
    }
   ],
   "source": [
    "biologists.columns"
   ]
  },
  {
   "cell_type": "code",
   "execution_count": 27,
   "metadata": {
    "colab": {},
    "colab_type": "code",
    "id": "hb9p7xa30_Gl"
   },
   "outputs": [],
   "source": [
    "hoursDiff_bios = biologists.hw_hours_college - biologists.hw_hours_HS\n",
    "hoursDiff_nurs = nurses.hw_hours_college - nurses.hw_hours_HS"
   ]
  },
  {
   "cell_type": "code",
   "execution_count": 28,
   "metadata": {
    "colab": {
     "base_uri": "https://localhost:8080/",
     "height": 373
    },
    "colab_type": "code",
    "executionInfo": {
     "elapsed": 822,
     "status": "ok",
     "timestamp": 1535114960357,
     "user": {
      "displayName": "Luis Galicia",
      "photoUrl": "https://lh3.googleusercontent.com/a/default-user=s128",
      "userId": "116873116001297431960"
     },
     "user_tz": 240
    },
    "id": "nFcV_tFL2ZY2",
    "outputId": "8cf23e67-bea0-40fa-d6bf-abe42861f285"
   },
   "outputs": [
    {
     "data": {
      "text/plain": [
       "<matplotlib.axes._subplots.AxesSubplot at 0x7fce09fe0400>"
      ]
     },
     "execution_count": 28,
     "metadata": {},
     "output_type": "execute_result"
    },
    {
     "data": {
      "image/png": "[encoded data removed]",
      "text/plain": [
       "<Figure size 1008x360 with 2 Axes>"
      ]
     },
     "metadata": {},
     "output_type": "display_data"
    }
   ],
   "source": [
    "fig, ax = plt.subplots(1, 2, figsize=(14, 5))\n",
    "\n",
    "fig.suptitle('Distribution of difference in study time')\n",
    "\n",
    "ax[0].set_title('Biology majors')\n",
    "sns.distplot(hoursDiff_bios, ax=ax[0])\n",
    "\n",
    "ax[1].set_title('Nursing majors')\n",
    "sns.distplot(hoursDiff_nurs, ax=ax[1])"
   ]
  },
  {
   "cell_type": "code",
   "execution_count": 29,
   "metadata": {
    "colab": {
     "base_uri": "https://localhost:8080/",
     "height": 52
    },
    "colab_type": "code",
    "executionInfo": {
     "elapsed": 741,
     "status": "ok",
     "timestamp": 1535116961945,
     "user": {
      "displayName": "Luis Galicia",
      "photoUrl": "https://lh3.googleusercontent.com/a/default-user=s128",
      "userId": "116873116001297431960"
     },
     "user_tz": 240
    },
    "id": "t12s70zL8YSl",
    "outputId": "9c4c6fe4-a284-42b1-85ef-fb9372007cc2"
   },
   "outputs": [
    {
     "name": "stdout",
     "output_type": "stream",
     "text": [
      "df = 30.886032058639\n",
      "t = 0.6230116314510536\n"
     ]
    }
   ],
   "source": [
    "nurs_mean = hoursDiff_nurs.mean()\n",
    "nurs_std = hoursDiff_nurs.std(ddof=1)\n",
    "\n",
    "bios_mean = hoursDiff_bios.mean()\n",
    "bios_std = hoursDiff_bios.std(ddof=1)\n",
    "\n",
    "stderr_q1 = stderr_2means(nurs_std, bios_std, len(nurses), len(biologists))\n",
    "t_q1 = tstat_2means(0, nurs_mean - bios_mean, stderr_q1)\n",
    "\n",
    "print('df =', DF(nurs_std, bios_std, len(nurses), len(biologists)))\n",
    "print('t =', t_q1)"
   ]
  },
  {
   "cell_type": "markdown",
   "metadata": {
    "colab_type": "text",
    "id": "D583Hq_1I4TO"
   },
   "source": [
    "### Q2"
   ]
  },
  {
   "cell_type": "code",
   "execution_count": 0,
   "metadata": {
    "colab": {},
    "colab_type": "code",
    "id": "zCyStnHRI58b"
   },
   "outputs": [],
   "source": [
    "nonSmoker_size = 32\n",
    "smoker_size = 26\n",
    "\n",
    "nonSmoker_mean = 74\n",
    "smoker_mean = 80\n",
    "\n",
    "nonSmoker_std = 5\n",
    "smoker_std = 6"
   ]
  },
  {
   "cell_type": "code",
   "execution_count": 52,
   "metadata": {
    "colab": {
     "base_uri": "https://localhost:8080/",
     "height": 52
    },
    "colab_type": "code",
    "executionInfo": {
     "elapsed": 450,
     "status": "ok",
     "timestamp": 1535118275775,
     "user": {
      "displayName": "Luis Galicia",
      "photoUrl": "https://lh3.googleusercontent.com/a/default-user=s128",
      "userId": "116873116001297431960"
     },
     "user_tz": 240
    },
    "id": "5i9CxBTHJWO3",
    "outputId": "79efe262-62f8-4dbc-df33-1e5b51fcfc50"
   },
   "outputs": [
    {
     "name": "stdout",
     "output_type": "stream",
     "text": [
      "stderr: 1.4716879372392044\n",
      "t: 4.076951266758107\n"
     ]
    }
   ],
   "source": [
    "stderr_q2 = stderr_2means(nonSmoker_std, smoker_std, nonSmoker_size, smoker_size)\n",
    "print('stderr:', stderr_q2)\n",
    "print('t:', tstat_2means(0, smoker_mean - nonSmoker_mean, stderr_q2))"
   ]
  },
  {
   "cell_type": "markdown",
   "metadata": {
    "colab_type": "text",
    "id": "ewzZNz3JLgz8"
   },
   "source": [
    "### Q3\n",
    "Some nerve cells have the ability to regenerate. Researchers think that these cells may generate creatine phosphate (CP) to stimulate new cell growth.\n",
    "To test this hypothesis, researchers cut the nerves emanating from the left side of the spinal cord in a sample of rhesus monkeys, while the nerves on the right side were kept intact.  They then compared the CP levels (mg/100g) in nerve cells on both sides. "
   ]
  },
  {
   "cell_type": "code",
   "execution_count": 30,
   "metadata": {
    "colab": {
     "base_uri": "https://localhost:8080/",
     "height": 52
    },
    "colab_type": "code",
    "executionInfo": {
     "elapsed": 763,
     "status": "ok",
     "timestamp": 1535118772490,
     "user": {
      "displayName": "Luis Galicia",
      "photoUrl": "https://lh3.googleusercontent.com/a/default-user=s128",
      "userId": "116873116001297431960"
     },
     "user_tz": 240
    },
    "id": "hhXMeSbgLip9",
    "outputId": "8bd15926-0b6c-4936-9302-9e5293d0a6d6"
   },
   "outputs": [
    {
     "name": "stdout",
     "output_type": "stream",
     "text": [
      "Mean: 3.0999999999999996\n",
      "STD: 3.052649122756604\n"
     ]
    }
   ],
   "source": [
    "left_side = np.array([16.3, 4.8, 10.7, 14., 15.7, 9.9, 29.3, 20.4, \n",
    "                      15.7, 7.6, 16.2, 14.7, 15., 8.4, 23.3, 17.7])\n",
    "\n",
    "right_side = np.array([11.5, 3.5, 12.8, 7.9, 15.2, 9.8, 24., 14.9, \n",
    "                       12.6, 8.2, 8.4, 11., 12.5, 9.2, 17.5, 11.1])\n",
    "\n",
    "sidesDifferences = left_side - right_side\n",
    "\n",
    "sidesDiffMean = sidesDifferences.mean()\n",
    "sidesDiffStd = sidesDifferences.std(ddof=1)\n",
    "\n",
    "print('Mean:', sidesDiffMean)\n",
    "print('STD:', sidesDiffStd)"
   ]
  },
  {
   "cell_type": "code",
   "execution_count": 32,
   "metadata": {
    "colab": {
     "base_uri": "https://localhost:8080/",
     "height": 52
    },
    "colab_type": "code",
    "executionInfo": {
     "elapsed": 488,
     "status": "ok",
     "timestamp": 1535119252027,
     "user": {
      "displayName": "Luis Galicia",
      "photoUrl": "https://lh3.googleusercontent.com/a/default-user=s128",
      "userId": "116873116001297431960"
     },
     "user_tz": 240
    },
    "id": "o8Wor0nNNYRB",
    "outputId": "4adc433e-3e06-4b0d-85ab-82889ddb9e2f"
   },
   "outputs": [
    {
     "name": "stdout",
     "output_type": "stream",
     "text": [
      "stderr: 0.763162280689151\n",
      "t: 4.062045620494551\n"
     ]
    }
   ],
   "source": [
    "stderr_q3 = sidesDiffStd / np.sqrt(16)\n",
    "t_q3 = (sidesDiffMean - 0) / stderr_q3\n",
    "\n",
    "print('stderr:', stderr_q3)\n",
    "print('t:', t_q3)"
   ]
  },
  {
   "cell_type": "code",
   "execution_count": 33,
   "metadata": {
    "colab": {
     "base_uri": "https://localhost:8080/",
     "height": 34
    },
    "colab_type": "code",
    "executionInfo": {
     "elapsed": 2185,
     "status": "ok",
     "timestamp": 1535119262200,
     "user": {
      "displayName": "Luis Galicia",
      "photoUrl": "https://lh3.googleusercontent.com/a/default-user=s128",
      "userId": "116873116001297431960"
     },
     "user_tz": 240
    },
    "id": "r2MCdPGIO7vZ",
    "outputId": "17923b4b-5fe0-4e34-f625-ebfb453fd17d"
   },
   "outputs": [
    {
     "name": "stdout",
     "output_type": "stream",
     "text": [
      "95% confidence interval: (1.6042019298492636, 4.595798070150735)\n"
     ]
    }
   ],
   "source": [
    "def confidence_interval(mean, stderr, z=1.96):\n",
    "    \"\"\"Calculates confidence interval with 95% confidence by default\"\"\"\n",
    "    upperBound = (mean + z * stderr,)\n",
    "    lowerBound = (mean - z * stderr,)\n",
    "    return lowerBound + upperBound\n",
    "  \n",
    "print('95% confidence interval:', confidence_interval(sidesDiffMean, stderr_q3))"
   ]
  }
 ],
 "metadata": {
  "colab": {
   "name": "week3.ipynb",
   "provenance": [],
   "version": "0.3.2"
  },
  "kernelspec": {
   "display_name": "Python 3",
   "language": "python",
   "name": "python3"
  },
  "language_info": {
   "codemirror_mode": {
    "name": "ipython",
    "version": 3
   },
   "file_extension": ".py",
   "mimetype": "text/x-python",
   "name": "python",
   "nbconvert_exporter": "python",
   "pygments_lexer": "ipython3",
   "version": "3.6.7"
  }
 },
 "nbformat": 4,
 "nbformat_minor": 1
}
