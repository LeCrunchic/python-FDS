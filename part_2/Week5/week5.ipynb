{
 "cells": [
  {
   "cell_type": "code",
   "execution_count": 11,
   "metadata": {
    "colab": {},
    "colab_type": "code",
    "id": "Cf302-RZGSI1"
   },
   "outputs": [],
   "source": [
    "import numpy as np\n",
    "import pandas as pd\n",
    "import matplotlib.pyplot as plt\n",
    "import seaborn as sns\n",
    "import statsmodels.formula.api as smf\n",
    "from scipy.stats import f_oneway\n",
    "from statsmodels.stats.multicomp import MultiComparison\n",
    "from statsmodels.stats.anova import anova_lm\n",
    "\n",
    "plt.style.use(\"ggplot\")"
   ]
  },
  {
   "cell_type": "code",
   "execution_count": 12,
   "metadata": {
    "colab": {},
    "colab_type": "code",
    "id": "dodNzTwdIdUk"
   },
   "outputs": [],
   "source": [
    "data = pd.read_csv('FilmData.csv')"
   ]
  },
  {
   "cell_type": "code",
   "execution_count": 13,
   "metadata": {
    "colab": {},
    "colab_type": "code",
    "id": "kKxPMm-repav"
   },
   "outputs": [],
   "source": [
    "# testing data\n",
    "#group1 = np.array([1, 4, 3, 2, 5, 1, 6])\n",
    "#group2 = np.array([8, 6, 7, 4, 3, 5])\n",
    "#group3 = np.array([7, 6, 4, 9, 8, 5, 7, 5])\n",
    "#group4 = np.array([9, 10, 8, 6, 5])\n",
    "#group5 = np.array([10, 12, 9, 11, 8])\n",
    "\n",
    "#bigGroup = np.array([group1, group2, group3, group4, group5])\n",
    "\n",
    "def ss(groups, sstype='total'):\n",
    "    \"\"\"Sum of squares. By default calculates the total sum of squares.\"\"\"\n",
    "    vectorGroups = np.concatenate(tuple(x for x in groups))\n",
    "    grandMean = np.sum(vectorGroups) / len(vectorGroups)\n",
    "    \n",
    "    def sst(groupsVector, totalMean):\n",
    "        return np.sum(np.square(groupsVector - totalMean))\n",
    "    \n",
    "    def ssb(groups, totalMean):\n",
    "        groupMeans = np.fromiter((np.mean(x) for x in groups), dtype=np.float32)\n",
    "        groupLengths = np.fromiter((len(x) for x in groups), dtype=int)\n",
    "        \n",
    "        return np.sum(groupLengths * np.square(groupMeans - grandMean))\n",
    "    \n",
    "    if sstype == 'total':\n",
    "        # Calculate total sum of squares\n",
    "        sst = sst(vectorGroups, grandMean)\n",
    "        return sst\n",
    "    \n",
    "    elif sstype == 'between':\n",
    "        # Calculate sum of squares between groups\n",
    "        ssb = ssb(groups, grandMean)\n",
    "        return ssb\n",
    "    \n",
    "    elif sstype == 'within':\n",
    "        # Calculate sum of squares within groups \n",
    "        ssw = sst(vectorGroups, grandMean) - ssb(groups, grandMean)\n",
    "        return ssw\n",
    "\n",
    "def ms(groups, mstype='between'):\n",
    "    \"\"\"Mean squares. By default calculates the mean of squares\"\"\"\n",
    "    numGroups = len(groups)\n",
    "    \n",
    "    if mstype == 'between':\n",
    "        dfBetween = numGroups - 1\n",
    "        ssb = ss(groups, sstype='between')\n",
    "        return ssb / dfBetween\n",
    "    \n",
    "    elif mstype == 'within':\n",
    "        vectorGroups = np.concatenate(tuple(x for x in groups))\n",
    "        numScores = len(vectorGroups)\n",
    "        dfWithin = numScores - numGroups\n",
    "        ssw = ss(groups, sstype='within')\n",
    "        return ssw / dfWithin\n",
    "\n",
    "def fstat(groups):              \n",
    "    \"\"\"F-value statistic. AKA ANOVA\"\"\"\n",
    "    msb = ms(groups)\n",
    "    msw = ms(groups, mstype='within')\n",
    "    \n",
    "    f = msb / msw\n",
    "    return f"
   ]
  },
  {
   "cell_type": "markdown",
   "metadata": {
    "colab_type": "text",
    "id": "nsHz62_QMBkO"
   },
   "source": [
    "## Pre-Lab\n",
    "Primary Research Questions\n",
    "\n",
    "1. Does a film’s rating (PG, PG-13, or R) impact its cost to produce?\n",
    "2. Does a film’s rating (PG, PG-13, or R) influence its IMDB score?\n"
   ]
  },
  {
   "cell_type": "code",
   "execution_count": 14,
   "metadata": {
    "colab": {},
    "colab_type": "code",
    "id": "8QYBXfikEVxl"
   },
   "outputs": [],
   "source": [
    "# fill NA in budget of R rating movie\n",
    "data.loc[:, 'Budget'] = data['Budget'].fillna(data['Budget'].median())"
   ]
  },
  {
   "cell_type": "code",
   "execution_count": 15,
   "metadata": {
    "colab": {},
    "colab_type": "code",
    "id": "OjVuTdgRnojF"
   },
   "outputs": [],
   "source": [
    "ratingGroup = data.groupby('Rating')"
   ]
  },
  {
   "cell_type": "markdown",
   "metadata": {
    "colab_type": "text",
    "id": "mzd-GF9MMIPN"
   },
   "source": [
    "### 1"
   ]
  },
  {
   "cell_type": "code",
   "execution_count": 16,
   "metadata": {
    "colab": {
     "base_uri": "https://localhost:8080/",
     "height": 175
    },
    "colab_type": "code",
    "executionInfo": {
     "elapsed": 501,
     "status": "ok",
     "timestamp": 1537556477759,
     "user": {
      "displayName": "Luis Galicia",
      "photoUrl": "",
      "userId": "14910848575514939677"
     },
     "user_tz": 240
    },
    "id": "X0AHxTSz25Mi",
    "outputId": "9fa0ecce-a731-460a-f2a4-e3be1afa7dc4"
   },
   "outputs": [
    {
     "data": {
      "text/html": [
       "<div>\n",
       "<style scoped>\n",
       "    .dataframe tbody tr th:only-of-type {\n",
       "        vertical-align: middle;\n",
       "    }\n",
       "\n",
       "    .dataframe tbody tr th {\n",
       "        vertical-align: top;\n",
       "    }\n",
       "\n",
       "    .dataframe thead th {\n",
       "        text-align: right;\n",
       "    }\n",
       "</style>\n",
       "<table border=\"1\" class=\"dataframe\">\n",
       "  <thead>\n",
       "    <tr style=\"text-align: right;\">\n",
       "      <th></th>\n",
       "      <th>count</th>\n",
       "      <th>mean</th>\n",
       "      <th>std</th>\n",
       "      <th>min</th>\n",
       "      <th>25%</th>\n",
       "      <th>50%</th>\n",
       "      <th>75%</th>\n",
       "      <th>max</th>\n",
       "    </tr>\n",
       "    <tr>\n",
       "      <th>Rating</th>\n",
       "      <th></th>\n",
       "      <th></th>\n",
       "      <th></th>\n",
       "      <th></th>\n",
       "      <th></th>\n",
       "      <th></th>\n",
       "      <th></th>\n",
       "      <th></th>\n",
       "    </tr>\n",
       "  </thead>\n",
       "  <tbody>\n",
       "    <tr>\n",
       "      <th>PG</th>\n",
       "      <td>39.0</td>\n",
       "      <td>75.076923</td>\n",
       "      <td>46.460019</td>\n",
       "      <td>7.000000</td>\n",
       "      <td>30.25</td>\n",
       "      <td>79.0</td>\n",
       "      <td>115.0</td>\n",
       "      <td>155.0</td>\n",
       "    </tr>\n",
       "    <tr>\n",
       "      <th>PG13</th>\n",
       "      <td>94.0</td>\n",
       "      <td>127.074468</td>\n",
       "      <td>58.028773</td>\n",
       "      <td>6.000000</td>\n",
       "      <td>85.00</td>\n",
       "      <td>125.0</td>\n",
       "      <td>150.0</td>\n",
       "      <td>270.0</td>\n",
       "    </tr>\n",
       "    <tr>\n",
       "      <th>R</th>\n",
       "      <td>18.0</td>\n",
       "      <td>93.972080</td>\n",
       "      <td>55.348980</td>\n",
       "      <td>10.497444</td>\n",
       "      <td>53.25</td>\n",
       "      <td>85.0</td>\n",
       "      <td>137.5</td>\n",
       "      <td>200.0</td>\n",
       "    </tr>\n",
       "  </tbody>\n",
       "</table>\n",
       "</div>"
      ],
      "text/plain": [
       "        count        mean        std        min    25%    50%    75%    max\n",
       "Rating                                                                     \n",
       "PG       39.0   75.076923  46.460019   7.000000  30.25   79.0  115.0  155.0\n",
       "PG13     94.0  127.074468  58.028773   6.000000  85.00  125.0  150.0  270.0\n",
       "R        18.0   93.972080  55.348980  10.497444  53.25   85.0  137.5  200.0"
      ]
     },
     "execution_count": 16,
     "metadata": {},
     "output_type": "execute_result"
    }
   ],
   "source": [
    "ratingGroup.describe()['Budget']"
   ]
  },
  {
   "cell_type": "code",
   "execution_count": 17,
   "metadata": {
    "colab": {},
    "colab_type": "code",
    "id": "Rji-jSq10bqC"
   },
   "outputs": [],
   "source": [
    "budget_groups = np.array([group['Budget'].values for name, group in ratingGroup])"
   ]
  },
  {
   "cell_type": "code",
   "execution_count": 18,
   "metadata": {
    "colab": {
     "base_uri": "https://localhost:8080/",
     "height": 405
    },
    "colab_type": "code",
    "executionInfo": {
     "elapsed": 1267,
     "status": "ok",
     "timestamp": 1537556483532,
     "user": {
      "displayName": "Luis Galicia",
      "photoUrl": "",
      "userId": "14910848575514939677"
     },
     "user_tz": 240
    },
    "id": "fDaVeQ1BxYWa",
    "outputId": "dd0e3efa-1c78-4daf-ea53-3b9b1be191f3"
   },
   "outputs": [
    {
     "data": {
      "text/plain": [
       "<matplotlib.axes._subplots.AxesSubplot at 0x7fa05ea9aeb8>"
      ]
     },
     "execution_count": 18,
     "metadata": {},
     "output_type": "execute_result"
    },
    {
     "data": {
      "image/png": "[encoded data removed]",
      "text/plain": [
       "<Figure size 1008x432 with 3 Axes>"
      ]
     },
     "metadata": {},
     "output_type": "display_data"
    }
   ],
   "source": [
    "fig, ax = plt.subplots(1, 3, figsize=(14, 6))\n",
    "\n",
    "sns.distplot(ratingGroup.get_group('PG13')['Budget'], ax=ax[0])\n",
    "sns.distplot(ratingGroup.get_group('PG')['Budget'], ax=ax[1])\n",
    "sns.distplot(ratingGroup.get_group('R')['Budget'], ax=ax[2])"
   ]
  },
  {
   "cell_type": "code",
   "execution_count": 19,
   "metadata": {
    "colab": {
     "base_uri": "https://localhost:8080/",
     "height": 69
    },
    "colab_type": "code",
    "executionInfo": {
     "elapsed": 563,
     "status": "ok",
     "timestamp": 1537556485226,
     "user": {
      "displayName": "Luis Galicia",
      "photoUrl": "",
      "userId": "14910848575514939677"
     },
     "user_tz": 240
    },
    "id": "9Gs1PhLHy83H",
    "outputId": "33fd9cbe-7bf4-4ba9-d4fd-59841ad479fe"
   },
   "outputs": [
    {
     "name": "stdout",
     "output_type": "stream",
     "text": [
      "CPU times: user 0 ns, sys: 1.2 ms, total: 1.2 ms\n",
      "Wall time: 1.22 ms\n"
     ]
    },
    {
     "data": {
      "text/plain": [
       "13.166496896943872"
      ]
     },
     "execution_count": 19,
     "metadata": {},
     "output_type": "execute_result"
    }
   ],
   "source": [
    "%%time\n",
    "fstat(budget_groups)"
   ]
  },
  {
   "cell_type": "code",
   "execution_count": 20,
   "metadata": {
    "colab": {
     "base_uri": "https://localhost:8080/",
     "height": 69
    },
    "colab_type": "code",
    "executionInfo": {
     "elapsed": 903,
     "status": "ok",
     "timestamp": 1537556489933,
     "user": {
      "displayName": "Luis Galicia",
      "photoUrl": "",
      "userId": "14910848575514939677"
     },
     "user_tz": 240
    },
    "id": "Mo2Nk1Iw3KVg",
    "outputId": "e67e5bab-f929-40bc-eef2-0151dbf6a026"
   },
   "outputs": [
    {
     "name": "stdout",
     "output_type": "stream",
     "text": [
      "F_onewayResult(statistic=13.166493004537246, pvalue=5.461083795886969e-06)\n",
      "CPU times: user 576 µs, sys: 261 µs, total: 837 µs\n",
      "Wall time: 688 µs\n"
     ]
    }
   ],
   "source": [
    "%%time\n",
    "print(f_oneway(budget_groups[0], budget_groups[1], budget_groups[2]))"
   ]
  },
  {
   "cell_type": "code",
   "execution_count": 21,
   "metadata": {
    "colab": {
     "base_uri": "https://localhost:8080/",
     "height": 104
    },
    "colab_type": "code",
    "executionInfo": {
     "elapsed": 542,
     "status": "ok",
     "timestamp": 1537578425188,
     "user": {
      "displayName": "Luis Galicia",
      "photoUrl": "",
      "userId": "14910848575514939677"
     },
     "user_tz": 240
    },
    "id": "708yb0nYouW2",
    "outputId": "436bdf94-e0a2-44f6-cd4c-820bac2f8d75"
   },
   "outputs": [
    {
     "name": "stdout",
     "output_type": "stream",
     "text": [
      "                 sum_sq     df          F    PR(>F)\n",
      "Rating     79580.136064    2.0  13.166493  0.000005\n",
      "Residual  447266.410781  148.0        NaN       NaN\n",
      "CPU times: user 16.9 ms, sys: 9.02 ms, total: 25.9 ms\n",
      "Wall time: 24.6 ms\n"
     ]
    }
   ],
   "source": [
    "%%time\n",
    "\n",
    "# the '~' in the formula means group Budget by Rating\n",
    "# 'typ' is the type of ss (sum of squares) refer to \n",
    "# http://www.utstat.utoronto.ca/reid/sta442f/2009/typeSS.pdf for more on this\n",
    "\n",
    "mod = smf.ols('Budget ~ Rating', data=data).fit()\n",
    "aov_table = anova_lm(mod, typ=2)\n",
    "print(aov_table)\n"
   ]
  },
  {
   "cell_type": "code",
   "execution_count": 22,
   "metadata": {
    "colab": {
     "base_uri": "https://localhost:8080/",
     "height": 156
    },
    "colab_type": "code",
    "executionInfo": {
     "elapsed": 984,
     "status": "ok",
     "timestamp": 1537578432507,
     "user": {
      "displayName": "Luis Galicia",
      "photoUrl": "",
      "userId": "14910848575514939677"
     },
     "user_tz": 240
    },
    "id": "WX2RBqlQZw6x",
    "outputId": "9b6cc502-10db-46c0-b0cb-0bd5786c6a17"
   },
   "outputs": [
    {
     "name": "stdout",
     "output_type": "stream",
     "text": [
      "Multiple Comparison of Means - Tukey HSD,FWER=0.05\n",
      "==============================================\n",
      "group1 group2 meandiff  lower    upper  reject\n",
      "----------------------------------------------\n",
      "  PG    PG13  51.9975  27.2056  76.7895  True \n",
      "  PG     R    18.8952  -18.1942 55.9845 False \n",
      " PG13    R    -33.1024 -66.5904  0.3856 False \n",
      "----------------------------------------------\n"
     ]
    }
   ],
   "source": [
    "# tukey hsd\n",
    "print(MultiComparison(data['Budget'], data['Rating']).tukeyhsd())"
   ]
  },
  {
   "cell_type": "markdown",
   "metadata": {
    "colab_type": "text",
    "id": "vP2dc_Gu4mBX"
   },
   "source": [
    "### 2."
   ]
  },
  {
   "cell_type": "code",
   "execution_count": 21,
   "metadata": {
    "colab": {
     "base_uri": "https://localhost:8080/",
     "height": 175
    },
    "colab_type": "code",
    "executionInfo": {
     "elapsed": 488,
     "status": "ok",
     "timestamp": 1537556542076,
     "user": {
      "displayName": "Luis Galicia",
      "photoUrl": "",
      "userId": "14910848575514939677"
     },
     "user_tz": 240
    },
    "id": "jWE6Fd934lcD",
    "outputId": "85a8a13a-7dae-477a-d67d-9d02bb74eb83"
   },
   "outputs": [
    {
     "data": {
      "text/html": [
       "<div>\n",
       "<style scoped>\n",
       "    .dataframe tbody tr th:only-of-type {\n",
       "        vertical-align: middle;\n",
       "    }\n",
       "\n",
       "    .dataframe tbody tr th {\n",
       "        vertical-align: top;\n",
       "    }\n",
       "\n",
       "    .dataframe thead th {\n",
       "        text-align: right;\n",
       "    }\n",
       "</style>\n",
       "<table border=\"1\" class=\"dataframe\">\n",
       "  <thead>\n",
       "    <tr style=\"text-align: right;\">\n",
       "      <th></th>\n",
       "      <th>count</th>\n",
       "      <th>mean</th>\n",
       "      <th>std</th>\n",
       "      <th>min</th>\n",
       "      <th>25%</th>\n",
       "      <th>50%</th>\n",
       "      <th>75%</th>\n",
       "      <th>max</th>\n",
       "    </tr>\n",
       "    <tr>\n",
       "      <th>Rating</th>\n",
       "      <th></th>\n",
       "      <th></th>\n",
       "      <th></th>\n",
       "      <th></th>\n",
       "      <th></th>\n",
       "      <th></th>\n",
       "      <th></th>\n",
       "      <th></th>\n",
       "    </tr>\n",
       "  </thead>\n",
       "  <tbody>\n",
       "    <tr>\n",
       "      <th>PG</th>\n",
       "      <td>39.0</td>\n",
       "      <td>7.015385</td>\n",
       "      <td>1.013991</td>\n",
       "      <td>4.7</td>\n",
       "      <td>6.3</td>\n",
       "      <td>7.0</td>\n",
       "      <td>7.65</td>\n",
       "      <td>8.8</td>\n",
       "    </tr>\n",
       "    <tr>\n",
       "      <th>PG13</th>\n",
       "      <td>94.0</td>\n",
       "      <td>7.014894</td>\n",
       "      <td>0.821349</td>\n",
       "      <td>5.2</td>\n",
       "      <td>6.4</td>\n",
       "      <td>7.0</td>\n",
       "      <td>7.60</td>\n",
       "      <td>9.0</td>\n",
       "    </tr>\n",
       "    <tr>\n",
       "      <th>R</th>\n",
       "      <td>18.0</td>\n",
       "      <td>7.183333</td>\n",
       "      <td>0.667964</td>\n",
       "      <td>5.8</td>\n",
       "      <td>6.8</td>\n",
       "      <td>7.1</td>\n",
       "      <td>7.65</td>\n",
       "      <td>8.7</td>\n",
       "    </tr>\n",
       "  </tbody>\n",
       "</table>\n",
       "</div>"
      ],
      "text/plain": [
       "        count      mean       std  min  25%  50%   75%  max\n",
       "Rating                                                     \n",
       "PG       39.0  7.015385  1.013991  4.7  6.3  7.0  7.65  8.8\n",
       "PG13     94.0  7.014894  0.821349  5.2  6.4  7.0  7.60  9.0\n",
       "R        18.0  7.183333  0.667964  5.8  6.8  7.1  7.65  8.7"
      ]
     },
     "execution_count": 21,
     "metadata": {},
     "output_type": "execute_result"
    }
   ],
   "source": [
    "ratingGroup.describe()['IMDB']"
   ]
  },
  {
   "cell_type": "code",
   "execution_count": 22,
   "metadata": {
    "colab": {},
    "colab_type": "code",
    "id": "r0hDpBHG5VB8"
   },
   "outputs": [],
   "source": [
    "imdb_groups = np.array([group['IMDB'].values for name, group in ratingGroup])"
   ]
  },
  {
   "cell_type": "code",
   "execution_count": 23,
   "metadata": {
    "colab": {
     "base_uri": "https://localhost:8080/",
     "height": 34
    },
    "colab_type": "code",
    "executionInfo": {
     "elapsed": 635,
     "status": "ok",
     "timestamp": 1537412219490,
     "user": {
      "displayName": "Luis Galicia",
      "photoUrl": "https://lh3.googleusercontent.com/a/default-user=s128",
      "userId": "116873116001297431960"
     },
     "user_tz": 240
    },
    "id": "BaETz1R_6GqJ",
    "outputId": "471512e9-4e95-452d-8e3c-8e0a363b4e0e"
   },
   "outputs": [
    {
     "data": {
      "text/plain": [
       "0.30376307948149495"
      ]
     },
     "execution_count": 23,
     "metadata": {},
     "output_type": "execute_result"
    }
   ],
   "source": [
    "fstat(imdb_groups)"
   ]
  },
  {
   "cell_type": "code",
   "execution_count": 24,
   "metadata": {
    "colab": {
     "base_uri": "https://localhost:8080/",
     "height": 34
    },
    "colab_type": "code",
    "executionInfo": {
     "elapsed": 833,
     "status": "ok",
     "timestamp": 1537412330954,
     "user": {
      "displayName": "Luis Galicia",
      "photoUrl": "https://lh3.googleusercontent.com/a/default-user=s128",
      "userId": "116873116001297431960"
     },
     "user_tz": 240
    },
    "id": "8NYKU-YB6NDG",
    "outputId": "86c90b05-561b-47a2-95ad-99bcac3f1e16"
   },
   "outputs": [
    {
     "data": {
      "text/plain": [
       "F_onewayResult(statistic=0.3037626970100247, pvalue=0.7384950055614831)"
      ]
     },
     "execution_count": 24,
     "metadata": {},
     "output_type": "execute_result"
    }
   ],
   "source": [
    "f_oneway(imdb_groups[0], imdb_groups[1], imdb_groups[2])"
   ]
  },
  {
   "cell_type": "markdown",
   "metadata": {
    "colab_type": "text",
    "id": "oITbfteggx9Z"
   },
   "source": [
    "## Lab\n",
    "1. Are some studios more successful in keeping their films in the theaters longer?\n",
    "2. Do some studios earn a greater percentage of their earnings domestically than others?"
   ]
  },
  {
   "cell_type": "markdown",
   "metadata": {
    "colab_type": "text",
    "id": "IiZvn7OZ7SkS"
   },
   "source": [
    "### 1."
   ]
  },
  {
   "cell_type": "code",
   "execution_count": 25,
   "metadata": {
    "colab": {
     "base_uri": "https://localhost:8080/",
     "height": 238
    },
    "colab_type": "code",
    "executionInfo": {
     "elapsed": 556,
     "status": "ok",
     "timestamp": 1537578124903,
     "user": {
      "displayName": "Luis Galicia",
      "photoUrl": "",
      "userId": "14910848575514939677"
     },
     "user_tz": 240
    },
    "id": "1vYs9kbZg01-",
    "outputId": "051f511f-6281-4c21-98ef-60540db51f5e"
   },
   "outputs": [
    {
     "data": {
      "text/html": [
       "<div>\n",
       "<style scoped>\n",
       "    .dataframe tbody tr th:only-of-type {\n",
       "        vertical-align: middle;\n",
       "    }\n",
       "\n",
       "    .dataframe tbody tr th {\n",
       "        vertical-align: top;\n",
       "    }\n",
       "\n",
       "    .dataframe thead th {\n",
       "        text-align: right;\n",
       "    }\n",
       "</style>\n",
       "<table border=\"1\" class=\"dataframe\">\n",
       "  <thead>\n",
       "    <tr style=\"text-align: right;\">\n",
       "      <th></th>\n",
       "      <th>count</th>\n",
       "      <th>mean</th>\n",
       "      <th>std</th>\n",
       "      <th>min</th>\n",
       "      <th>25%</th>\n",
       "      <th>50%</th>\n",
       "      <th>75%</th>\n",
       "      <th>max</th>\n",
       "    </tr>\n",
       "    <tr>\n",
       "      <th>Studio</th>\n",
       "      <th></th>\n",
       "      <th></th>\n",
       "      <th></th>\n",
       "      <th></th>\n",
       "      <th></th>\n",
       "      <th></th>\n",
       "      <th></th>\n",
       "      <th></th>\n",
       "    </tr>\n",
       "  </thead>\n",
       "  <tbody>\n",
       "    <tr>\n",
       "      <th>Fox</th>\n",
       "      <td>41.0</td>\n",
       "      <td>154.512195</td>\n",
       "      <td>36.184335</td>\n",
       "      <td>101.0</td>\n",
       "      <td>131.0</td>\n",
       "      <td>147.0</td>\n",
       "      <td>172.00</td>\n",
       "      <td>261.0</td>\n",
       "    </tr>\n",
       "    <tr>\n",
       "      <th>Par.</th>\n",
       "      <td>24.0</td>\n",
       "      <td>142.375000</td>\n",
       "      <td>44.925845</td>\n",
       "      <td>76.0</td>\n",
       "      <td>112.0</td>\n",
       "      <td>138.5</td>\n",
       "      <td>153.25</td>\n",
       "      <td>280.0</td>\n",
       "    </tr>\n",
       "    <tr>\n",
       "      <th>Sony</th>\n",
       "      <td>19.0</td>\n",
       "      <td>113.736842</td>\n",
       "      <td>28.446523</td>\n",
       "      <td>62.0</td>\n",
       "      <td>97.5</td>\n",
       "      <td>112.0</td>\n",
       "      <td>136.50</td>\n",
       "      <td>159.0</td>\n",
       "    </tr>\n",
       "    <tr>\n",
       "      <th>Uni.</th>\n",
       "      <td>27.0</td>\n",
       "      <td>130.370370</td>\n",
       "      <td>32.194300</td>\n",
       "      <td>56.0</td>\n",
       "      <td>108.0</td>\n",
       "      <td>134.0</td>\n",
       "      <td>148.00</td>\n",
       "      <td>196.0</td>\n",
       "    </tr>\n",
       "    <tr>\n",
       "      <th>WB</th>\n",
       "      <td>40.0</td>\n",
       "      <td>145.850000</td>\n",
       "      <td>29.738648</td>\n",
       "      <td>105.0</td>\n",
       "      <td>121.0</td>\n",
       "      <td>141.0</td>\n",
       "      <td>165.75</td>\n",
       "      <td>231.0</td>\n",
       "    </tr>\n",
       "  </tbody>\n",
       "</table>\n",
       "</div>"
      ],
      "text/plain": [
       "        count        mean        std    min    25%    50%     75%    max\n",
       "Studio                                                                  \n",
       "Fox      41.0  154.512195  36.184335  101.0  131.0  147.0  172.00  261.0\n",
       "Par.     24.0  142.375000  44.925845   76.0  112.0  138.5  153.25  280.0\n",
       "Sony     19.0  113.736842  28.446523   62.0   97.5  112.0  136.50  159.0\n",
       "Uni.     27.0  130.370370  32.194300   56.0  108.0  134.0  148.00  196.0\n",
       "WB       40.0  145.850000  29.738648  105.0  121.0  141.0  165.75  231.0"
      ]
     },
     "execution_count": 25,
     "metadata": {},
     "output_type": "execute_result"
    }
   ],
   "source": [
    "studioGrouping = data.groupby('Studio')\n",
    "studioGrouping.describe()['Days']"
   ]
  },
  {
   "cell_type": "code",
   "execution_count": 26,
   "metadata": {
    "colab": {
     "base_uri": "https://localhost:8080/",
     "height": 489
    },
    "colab_type": "code",
    "executionInfo": {
     "elapsed": 979,
     "status": "ok",
     "timestamp": 1537558483722,
     "user": {
      "displayName": "Luis Galicia",
      "photoUrl": "",
      "userId": "14910848575514939677"
     },
     "user_tz": 240
    },
    "id": "zPL6rU2kkaY0",
    "outputId": "5c471390-91eb-4f21-fa7e-7638a6dadfb3"
   },
   "outputs": [
    {
     "data": {
      "text/plain": [
       "array([[<matplotlib.axes._subplots.AxesSubplot object at 0x7fa05e98f898>,\n",
       "        <matplotlib.axes._subplots.AxesSubplot object at 0x7fa05e949390>],\n",
       "       [<matplotlib.axes._subplots.AxesSubplot object at 0x7fa05e805908>,\n",
       "        <matplotlib.axes._subplots.AxesSubplot object at 0x7fa05e82ae80>],\n",
       "       [<matplotlib.axes._subplots.AxesSubplot object at 0x7fa05e7dc438>,\n",
       "        <matplotlib.axes._subplots.AxesSubplot object at 0x7fa05e7839b0>]],\n",
       "      dtype=object)"
      ]
     },
     "execution_count": 26,
     "metadata": {},
     "output_type": "execute_result"
    },
    {
     "data": {
      "image/png": "[encoded data removed]",
      "text/plain": [
       "<Figure size 432x288 with 6 Axes>"
      ]
     },
     "metadata": {},
     "output_type": "display_data"
    }
   ],
   "source": [
    "data.hist('Days', by='Studio')"
   ]
  },
  {
   "cell_type": "code",
   "execution_count": 27,
   "metadata": {
    "colab": {
     "base_uri": "https://localhost:8080/",
     "height": 202
    },
    "colab_type": "code",
    "executionInfo": {
     "elapsed": 471,
     "status": "error",
     "timestamp": 1537577141944,
     "user": {
      "displayName": "Luis Galicia",
      "photoUrl": "",
      "userId": "14910848575514939677"
     },
     "user_tz": 240
    },
    "id": "-CMRe3JCieGO",
    "outputId": "129eb5bc-b70f-45f9-a00f-57628d829512"
   },
   "outputs": [
    {
     "name": "stdout",
     "output_type": "stream",
     "text": [
      "                 sum_sq     df        F    PR(>F)\n",
      "Studio     25641.236021    4.0  5.35418  0.000473\n",
      "Residual  174798.949409  146.0      NaN       NaN\n"
     ]
    }
   ],
   "source": [
    "modDays = smf.ols('Days ~ Studio', data=data).fit()\n",
    "anovTable = anova_lm(modDays, typ=2)\n",
    "print(anovTable)"
   ]
  },
  {
   "cell_type": "code",
   "execution_count": 28,
   "metadata": {
    "colab": {
     "base_uri": "https://localhost:8080/",
     "height": 278
    },
    "colab_type": "code",
    "executionInfo": {
     "elapsed": 704,
     "status": "ok",
     "timestamp": 1537557313109,
     "user": {
      "displayName": "Luis Galicia",
      "photoUrl": "",
      "userId": "14910848575514939677"
     },
     "user_tz": 240
    },
    "id": "D8qJ4xb4jePt",
    "outputId": "64ad11ab-b718-418a-8e26-14a743127a67"
   },
   "outputs": [
    {
     "name": "stdout",
     "output_type": "stream",
     "text": [
      "Multiple Comparison of Means - Tukey HSD,FWER=0.05\n",
      "==============================================\n",
      "group1 group2 meandiff  lower    upper  reject\n",
      "----------------------------------------------\n",
      " Fox    Par.  -12.1372 -36.702  12.4276 False \n",
      " Fox    Sony  -40.7754 -67.3007  -14.25  True \n",
      " Fox    Uni.  -24.1418 -47.8302 -0.4535  True \n",
      " Fox     WB   -8.6622  -29.9032 12.5788 False \n",
      " Par.   Sony  -28.6382 -57.988   0.7117 False \n",
      " Par.   Uni.  -12.0046 -38.818  14.8088 False \n",
      " Par.    WB    3.475   -21.2029 28.1529 False \n",
      " Sony   Uni.  16.6335  -11.9868 45.2539 False \n",
      " Sony    WB   32.1132   5.483   58.7433  True \n",
      " Uni.    WB   15.4796   -8.326  39.2853 False \n",
      "----------------------------------------------\n"
     ]
    }
   ],
   "source": [
    "print(MultiComparison(data['Days'], data['Studio']).tukeyhsd())"
   ]
  },
  {
   "cell_type": "markdown",
   "metadata": {
    "colab_type": "text",
    "id": "h683SOtbrSE8"
   },
   "source": [
    "Mean duration of Fox movies in theaters is significantly larger than the duration of both Sony and Universal's movies.\n",
    "\n",
    "Also, Warner Brothers duration mean is significantly larger than Sony's."
   ]
  },
  {
   "cell_type": "markdown",
   "metadata": {
    "colab_type": "text",
    "id": "S2gBplXu7RGg"
   },
   "source": [
    "### 2."
   ]
  },
  {
   "cell_type": "code",
   "execution_count": 29,
   "metadata": {
    "colab": {},
    "colab_type": "code",
    "id": "R4eYisO87aWj"
   },
   "outputs": [],
   "source": [
    "# patsy does not work well with the dot thing\n",
    "data.rename(columns={'Pct.Dom': 'PctDom'}, inplace=True)"
   ]
  },
  {
   "cell_type": "code",
   "execution_count": 30,
   "metadata": {
    "colab": {
     "base_uri": "https://localhost:8080/",
     "height": 69
    },
    "colab_type": "code",
    "executionInfo": {
     "elapsed": 579,
     "status": "ok",
     "timestamp": 1537578332992,
     "user": {
      "displayName": "Luis Galicia",
      "photoUrl": "",
      "userId": "14910848575514939677"
     },
     "user_tz": 240
    },
    "id": "P1fJNUxi7WLQ",
    "outputId": "50a164fa-698d-4616-c7cc-eeec3914f555"
   },
   "outputs": [
    {
     "name": "stdout",
     "output_type": "stream",
     "text": [
      "            sum_sq     df         F    PR(>F)\n",
      "Studio    0.093785    4.0  2.096621  0.084186\n",
      "Residual  1.632694  146.0       NaN       NaN\n"
     ]
    }
   ],
   "source": [
    "modDom = smf.ols('PctDom ~ Studio' , data=data).fit()\n",
    "anovTabDom = anova_lm(modDom, typ=2)\n",
    "print(anovTabDom)"
   ]
  },
  {
   "cell_type": "code",
   "execution_count": 31,
   "metadata": {
    "colab": {
     "base_uri": "https://localhost:8080/",
     "height": 238
    },
    "colab_type": "code",
    "executionInfo": {
     "elapsed": 501,
     "status": "ok",
     "timestamp": 1537578134511,
     "user": {
      "displayName": "Luis Galicia",
      "photoUrl": "",
      "userId": "14910848575514939677"
     },
     "user_tz": 240
    },
    "id": "4KMtyeg6rjtP",
    "outputId": "bb6da775-832d-4f03-cf44-755fe9b9f02d"
   },
   "outputs": [
    {
     "data": {
      "text/html": [
       "<div>\n",
       "<style scoped>\n",
       "    .dataframe tbody tr th:only-of-type {\n",
       "        vertical-align: middle;\n",
       "    }\n",
       "\n",
       "    .dataframe tbody tr th {\n",
       "        vertical-align: top;\n",
       "    }\n",
       "\n",
       "    .dataframe thead th {\n",
       "        text-align: right;\n",
       "    }\n",
       "</style>\n",
       "<table border=\"1\" class=\"dataframe\">\n",
       "  <thead>\n",
       "    <tr style=\"text-align: right;\">\n",
       "      <th></th>\n",
       "      <th>count</th>\n",
       "      <th>mean</th>\n",
       "      <th>std</th>\n",
       "      <th>min</th>\n",
       "      <th>25%</th>\n",
       "      <th>50%</th>\n",
       "      <th>75%</th>\n",
       "      <th>max</th>\n",
       "    </tr>\n",
       "    <tr>\n",
       "      <th>Studio</th>\n",
       "      <th></th>\n",
       "      <th></th>\n",
       "      <th></th>\n",
       "      <th></th>\n",
       "      <th></th>\n",
       "      <th></th>\n",
       "      <th></th>\n",
       "      <th></th>\n",
       "    </tr>\n",
       "  </thead>\n",
       "  <tbody>\n",
       "    <tr>\n",
       "      <th>Fox</th>\n",
       "      <td>41.0</td>\n",
       "      <td>0.410488</td>\n",
       "      <td>0.114375</td>\n",
       "      <td>0.184</td>\n",
       "      <td>0.3430</td>\n",
       "      <td>0.4140</td>\n",
       "      <td>0.48400</td>\n",
       "      <td>0.651</td>\n",
       "    </tr>\n",
       "    <tr>\n",
       "      <th>Par.</th>\n",
       "      <td>24.0</td>\n",
       "      <td>0.434250</td>\n",
       "      <td>0.105496</td>\n",
       "      <td>0.207</td>\n",
       "      <td>0.3910</td>\n",
       "      <td>0.4095</td>\n",
       "      <td>0.49200</td>\n",
       "      <td>0.668</td>\n",
       "    </tr>\n",
       "    <tr>\n",
       "      <th>Sony</th>\n",
       "      <td>19.0</td>\n",
       "      <td>0.360105</td>\n",
       "      <td>0.090748</td>\n",
       "      <td>0.216</td>\n",
       "      <td>0.2835</td>\n",
       "      <td>0.3600</td>\n",
       "      <td>0.42950</td>\n",
       "      <td>0.492</td>\n",
       "    </tr>\n",
       "    <tr>\n",
       "      <th>Uni.</th>\n",
       "      <td>27.0</td>\n",
       "      <td>0.439926</td>\n",
       "      <td>0.112772</td>\n",
       "      <td>0.236</td>\n",
       "      <td>0.3720</td>\n",
       "      <td>0.4150</td>\n",
       "      <td>0.50750</td>\n",
       "      <td>0.753</td>\n",
       "    </tr>\n",
       "    <tr>\n",
       "      <th>WB</th>\n",
       "      <td>40.0</td>\n",
       "      <td>0.395625</td>\n",
       "      <td>0.098000</td>\n",
       "      <td>0.243</td>\n",
       "      <td>0.3205</td>\n",
       "      <td>0.3620</td>\n",
       "      <td>0.46875</td>\n",
       "      <td>0.611</td>\n",
       "    </tr>\n",
       "  </tbody>\n",
       "</table>\n",
       "</div>"
      ],
      "text/plain": [
       "        count      mean       std    min     25%     50%      75%    max\n",
       "Studio                                                                  \n",
       "Fox      41.0  0.410488  0.114375  0.184  0.3430  0.4140  0.48400  0.651\n",
       "Par.     24.0  0.434250  0.105496  0.207  0.3910  0.4095  0.49200  0.668\n",
       "Sony     19.0  0.360105  0.090748  0.216  0.2835  0.3600  0.42950  0.492\n",
       "Uni.     27.0  0.439926  0.112772  0.236  0.3720  0.4150  0.50750  0.753\n",
       "WB       40.0  0.395625  0.098000  0.243  0.3205  0.3620  0.46875  0.611"
      ]
     },
     "execution_count": 31,
     "metadata": {},
     "output_type": "execute_result"
    }
   ],
   "source": [
    "studioGrouping.describe()['PctDom']"
   ]
  },
  {
   "cell_type": "markdown",
   "metadata": {
    "colab_type": "text",
    "id": "pfo2S02X9iA5"
   },
   "source": [
    "## Problem Set"
   ]
  },
  {
   "cell_type": "markdown",
   "metadata": {
    "colab_type": "text",
    "id": "ABnluHrn3sh4"
   },
   "source": [
    "### Q1\n",
    "Do low-budget movies make a different percentage of their profits domestically than movies with medium- or high-budgets? \n",
    "\n",
    "Films with a Budget less than USD100 million are considered to be 'low budget'; films with a budget of USD100 million up to but not including USD150 million are considered 'medium budget' and those with a budget of USD150 million or more are considered 'high budget'"
   ]
  },
  {
   "cell_type": "code",
   "execution_count": 32,
   "metadata": {
    "colab": {},
    "colab_type": "code",
    "id": "I7W75VWc9kG5"
   },
   "outputs": [],
   "source": [
    "def budgetClass(r):\n",
    "    if r['Budget'] >= 150:\n",
    "        return 'high'\n",
    "    \n",
    "    elif (r['Budget'] >= 100) & (r['Budget'] < 150):\n",
    "        return 'medium'\n",
    "    \n",
    "    return 'low'\n",
    "\n",
    "func = lambda row: budgetClass(row)"
   ]
  },
  {
   "cell_type": "code",
   "execution_count": 33,
   "metadata": {
    "colab": {},
    "colab_type": "code",
    "id": "kr016bp1JI8q"
   },
   "outputs": [],
   "source": [
    "data = data.assign(budgetClass = data.apply(func, axis=1))"
   ]
  },
  {
   "cell_type": "code",
   "execution_count": 34,
   "metadata": {
    "colab": {
     "base_uri": "https://localhost:8080/",
     "height": 175
    },
    "colab_type": "code",
    "executionInfo": {
     "elapsed": 519,
     "status": "ok",
     "timestamp": 1537578473835,
     "user": {
      "displayName": "Luis Galicia",
      "photoUrl": "",
      "userId": "14910848575514939677"
     },
     "user_tz": 240
    },
    "id": "qpzmDs1orfnS",
    "outputId": "b42170e9-41a9-40ab-e45f-9404ac1311fa"
   },
   "outputs": [
    {
     "data": {
      "text/html": [
       "<div>\n",
       "<style scoped>\n",
       "    .dataframe tbody tr th:only-of-type {\n",
       "        vertical-align: middle;\n",
       "    }\n",
       "\n",
       "    .dataframe tbody tr th {\n",
       "        vertical-align: top;\n",
       "    }\n",
       "\n",
       "    .dataframe thead th {\n",
       "        text-align: right;\n",
       "    }\n",
       "</style>\n",
       "<table border=\"1\" class=\"dataframe\">\n",
       "  <thead>\n",
       "    <tr style=\"text-align: right;\">\n",
       "      <th></th>\n",
       "      <th>count</th>\n",
       "      <th>mean</th>\n",
       "      <th>std</th>\n",
       "      <th>min</th>\n",
       "      <th>25%</th>\n",
       "      <th>50%</th>\n",
       "      <th>75%</th>\n",
       "      <th>max</th>\n",
       "    </tr>\n",
       "    <tr>\n",
       "      <th>budgetClass</th>\n",
       "      <th></th>\n",
       "      <th></th>\n",
       "      <th></th>\n",
       "      <th></th>\n",
       "      <th></th>\n",
       "      <th></th>\n",
       "      <th></th>\n",
       "      <th></th>\n",
       "    </tr>\n",
       "  </thead>\n",
       "  <tbody>\n",
       "    <tr>\n",
       "      <th>high</th>\n",
       "      <td>42.0</td>\n",
       "      <td>0.375857</td>\n",
       "      <td>0.095338</td>\n",
       "      <td>0.216</td>\n",
       "      <td>0.30275</td>\n",
       "      <td>0.3595</td>\n",
       "      <td>0.42525</td>\n",
       "      <td>0.668</td>\n",
       "    </tr>\n",
       "    <tr>\n",
       "      <th>low</th>\n",
       "      <td>67.0</td>\n",
       "      <td>0.446194</td>\n",
       "      <td>0.102702</td>\n",
       "      <td>0.184</td>\n",
       "      <td>0.37450</td>\n",
       "      <td>0.4600</td>\n",
       "      <td>0.50250</td>\n",
       "      <td>0.651</td>\n",
       "    </tr>\n",
       "    <tr>\n",
       "      <th>medium</th>\n",
       "      <td>42.0</td>\n",
       "      <td>0.383714</td>\n",
       "      <td>0.109545</td>\n",
       "      <td>0.205</td>\n",
       "      <td>0.31325</td>\n",
       "      <td>0.3555</td>\n",
       "      <td>0.45850</td>\n",
       "      <td>0.753</td>\n",
       "    </tr>\n",
       "  </tbody>\n",
       "</table>\n",
       "</div>"
      ],
      "text/plain": [
       "             count      mean       std    min      25%     50%      75%    max\n",
       "budgetClass                                                                   \n",
       "high          42.0  0.375857  0.095338  0.216  0.30275  0.3595  0.42525  0.668\n",
       "low           67.0  0.446194  0.102702  0.184  0.37450  0.4600  0.50250  0.651\n",
       "medium        42.0  0.383714  0.109545  0.205  0.31325  0.3555  0.45850  0.753"
      ]
     },
     "execution_count": 34,
     "metadata": {},
     "output_type": "execute_result"
    }
   ],
   "source": [
    "budgetClassGroup = data.groupby('budgetClass')\n",
    "budgetClassGroup.describe()['PctDom']"
   ]
  },
  {
   "cell_type": "code",
   "execution_count": 35,
   "metadata": {
    "colab": {
     "base_uri": "https://localhost:8080/",
     "height": 451
    },
    "colab_type": "code",
    "executionInfo": {
     "elapsed": 825,
     "status": "ok",
     "timestamp": 1537578919632,
     "user": {
      "displayName": "Luis Galicia",
      "photoUrl": "",
      "userId": "14910848575514939677"
     },
     "user_tz": 240
    },
    "id": "wOufHVtS15Gd",
    "outputId": "a9c69ea1-c11e-4605-aba5-774dddb9b0e9"
   },
   "outputs": [
    {
     "data": {
      "text/plain": [
       "array([[<matplotlib.axes._subplots.AxesSubplot object at 0x7fa05e61feb8>,\n",
       "        <matplotlib.axes._subplots.AxesSubplot object at 0x7fa05e5c0c88>],\n",
       "       [<matplotlib.axes._subplots.AxesSubplot object at 0x7fa05e5f10f0>,\n",
       "        <matplotlib.axes._subplots.AxesSubplot object at 0x7fa05e596668>]],\n",
       "      dtype=object)"
      ]
     },
     "execution_count": 35,
     "metadata": {},
     "output_type": "execute_result"
    },
    {
     "data": {
      "image/png": "[encoded data removed]",
      "text/plain": [
       "<Figure size 432x288 with 4 Axes>"
      ]
     },
     "metadata": {},
     "output_type": "display_data"
    }
   ],
   "source": [
    "data.hist('PctDom', by='budgetClass')"
   ]
  },
  {
   "cell_type": "code",
   "execution_count": 36,
   "metadata": {
    "colab": {
     "base_uri": "https://localhost:8080/",
     "height": 69
    },
    "colab_type": "code",
    "executionInfo": {
     "elapsed": 496,
     "status": "ok",
     "timestamp": 1537578497808,
     "user": {
      "displayName": "Luis Galicia",
      "photoUrl": "",
      "userId": "14910848575514939677"
     },
     "user_tz": 240
    },
    "id": "wmi4QIepr4Jr",
    "outputId": "09eedd72-6ad1-453e-c25d-859e66ba9570"
   },
   "outputs": [
    {
     "name": "stdout",
     "output_type": "stream",
     "text": [
      "               sum_sq     df         F    PR(>F)\n",
      "budgetClass  0.165666    2.0  7.854438  0.000573\n",
      "Residual     1.560812  148.0       NaN       NaN\n"
     ]
    }
   ],
   "source": [
    "# BC stands for Budget Class\n",
    "modBC = smf.ols('PctDom ~ budgetClass', data=data).fit()\n",
    "anovTableBC = anova_lm(modBC, typ=2)\n",
    "print(anovTableBC)"
   ]
  },
  {
   "cell_type": "code",
   "execution_count": 37,
   "metadata": {
    "colab": {
     "base_uri": "https://localhost:8080/",
     "height": 156
    },
    "colab_type": "code",
    "executionInfo": {
     "elapsed": 481,
     "status": "ok",
     "timestamp": 1537578607674,
     "user": {
      "displayName": "Luis Galicia",
      "photoUrl": "",
      "userId": "14910848575514939677"
     },
     "user_tz": 240
    },
    "id": "7zfM8_vp0yVu",
    "outputId": "76e9dd16-4581-4c5a-9101-1fffc4a77922"
   },
   "outputs": [
    {
     "name": "stdout",
     "output_type": "stream",
     "text": [
      "Multiple Comparison of Means - Tukey HSD,FWER=0.05\n",
      "=============================================\n",
      "group1 group2 meandiff  lower   upper  reject\n",
      "---------------------------------------------\n",
      " high   low    0.0703   0.0225  0.1182  True \n",
      " high  medium  0.0079  -0.0452  0.0609 False \n",
      " low   medium -0.0625  -0.1103 -0.0146  True \n",
      "---------------------------------------------\n"
     ]
    }
   ],
   "source": [
    "print(MultiComparison(data['PctDom'], data['budgetClass']).tukeyhsd())"
   ]
  },
  {
   "cell_type": "markdown",
   "metadata": {
    "colab_type": "text",
    "id": "8SZJn7RM3w7H"
   },
   "source": [
    "### Q2\n",
    "Forty-five (45) dog lovers are recruited for a study examining the calming effects of pets during stressful situations. \n",
    "Fifteen (15) subjects were randomly assigned to each of three different groups: \n",
    "- performing the task alone (control),\n",
    "- performing the task with a good friend present, and\n",
    "- performing the task with their dog present. \n",
    "The peak heart rate (in beats per minute) during the task was measured for each subject, with the following results: "
   ]
  },
  {
   "cell_type": "code",
   "execution_count": 44,
   "metadata": {
    "colab": {
     "base_uri": "https://localhost:8080/",
     "height": 143
    },
    "colab_type": "code",
    "executionInfo": {
     "elapsed": 437,
     "status": "ok",
     "timestamp": 1537790937609,
     "user": {
      "displayName": "Luis Galicia",
      "photoUrl": "",
      "userId": "14910848575514939677"
     },
     "user_tz": 240
    },
    "id": "ODfHqBTX31aO",
    "outputId": "8d53f5db-a000-4c1d-c511-a33598fe11bb"
   },
   "outputs": [
    {
     "data": {
      "text/html": [
       "<div>\n",
       "<style scoped>\n",
       "    .dataframe tbody tr th:only-of-type {\n",
       "        vertical-align: middle;\n",
       "    }\n",
       "\n",
       "    .dataframe tbody tr th {\n",
       "        vertical-align: top;\n",
       "    }\n",
       "\n",
       "    .dataframe thead th {\n",
       "        text-align: right;\n",
       "    }\n",
       "</style>\n",
       "<table border=\"1\" class=\"dataframe\">\n",
       "  <thead>\n",
       "    <tr style=\"text-align: right;\">\n",
       "      <th></th>\n",
       "      <th>Group</th>\n",
       "      <th>Mean</th>\n",
       "      <th>STD</th>\n",
       "    </tr>\n",
       "  </thead>\n",
       "  <tbody>\n",
       "    <tr>\n",
       "      <th>0</th>\n",
       "      <td>Alone</td>\n",
       "      <td>82.52</td>\n",
       "      <td>9.24</td>\n",
       "    </tr>\n",
       "    <tr>\n",
       "      <th>1</th>\n",
       "      <td>withFriend</td>\n",
       "      <td>73.48</td>\n",
       "      <td>9.97</td>\n",
       "    </tr>\n",
       "    <tr>\n",
       "      <th>2</th>\n",
       "      <td>withDog</td>\n",
       "      <td>91.32</td>\n",
       "      <td>8.34</td>\n",
       "    </tr>\n",
       "  </tbody>\n",
       "</table>\n",
       "</div>"
      ],
      "text/plain": [
       "        Group   Mean   STD\n",
       "0       Alone  82.52  9.24\n",
       "1  withFriend  73.48  9.97\n",
       "2     withDog  91.32  8.34"
      ]
     },
     "execution_count": 44,
     "metadata": {},
     "output_type": "execute_result"
    }
   ],
   "source": [
    "heartbeats = pd.DataFrame({'Group': np.array(['Alone', 'withFriend', 'withDog']), 'Mean': \n",
    "              np.array([82.52, 73.48, 91.32]), 'STD': np.array([9.24, 9.97, 8.34])})\n",
    "\n",
    "heartbeats"
   ]
  },
  {
   "cell_type": "markdown",
   "metadata": {
    "colab_type": "text",
    "id": "11FEk6thyfgN"
   },
   "source": [
    " In this problem, you find that SStotal = 5949.1 and SSBetween = 2387.7. What is the F statistic for the test?"
   ]
  },
  {
   "cell_type": "code",
   "execution_count": 45,
   "metadata": {
    "colab": {
     "base_uri": "https://localhost:8080/",
     "height": 34
    },
    "colab_type": "code",
    "executionInfo": {
     "elapsed": 487,
     "status": "ok",
     "timestamp": 1537798915083,
     "user": {
      "displayName": "Luis Galicia",
      "photoUrl": "",
      "userId": "14910848575514939677"
     },
     "user_tz": 240
    },
    "id": "d1ebfjSUdM3d",
    "outputId": "3124f000-89c0-4409-ab20-d66a04deb630"
   },
   "outputs": [
    {
     "name": "stdout",
     "output_type": "stream",
     "text": [
      "f-stat: 14.079210422867408\n"
     ]
    }
   ],
   "source": [
    "dfBetweenQ2 = 2 # number of groups minus 1\n",
    "dfWithinQ2 = 42 # Total number of observations minus the number of groups\n",
    "\n",
    "sstQ2 = 5949.1\n",
    "ssbQ2 = 2387.7\n",
    "sswQ2 = sstQ2 - ssbQ2\n",
    "\n",
    "mswQ2 = sswQ2 / dfWithinQ2\n",
    "msbQ2 = ssbQ2 / dfBetweenQ2\n",
    "\n",
    "print('f-stat:', msbQ2 / mswQ2)\n",
    "\n",
    "# REJECT"
   ]
  },
  {
   "cell_type": "markdown",
   "metadata": {
    "colab_type": "text",
    "id": "CbT3ybkb29WR"
   },
   "source": [
    "### Q3\n",
    "\n",
    "A local police department has divided the city into three sections, and each is patrolled by a different set of six (6) officers.  The police chief wants to determine if officers are biased in the number of disorderly conduct tickets that they give out in each section.\n",
    "Here are the number of tickets given by the officers in each section in the last week: "
   ]
  },
  {
   "cell_type": "code",
   "execution_count": 46,
   "metadata": {
    "colab": {
     "base_uri": "https://localhost:8080/",
     "height": 614
    },
    "colab_type": "code",
    "executionInfo": {
     "elapsed": 468,
     "status": "ok",
     "timestamp": 1537798598477,
     "user": {
      "displayName": "Luis Galicia",
      "photoUrl": "",
      "userId": "14910848575514939677"
     },
     "user_tz": 240
    },
    "id": "9rsl6bcT3ALz",
    "outputId": "22a41443-7481-4520-88f8-dc1ca68fbf02"
   },
   "outputs": [
    {
     "data": {
      "text/html": [
       "<div>\n",
       "<style scoped>\n",
       "    .dataframe tbody tr th:only-of-type {\n",
       "        vertical-align: middle;\n",
       "    }\n",
       "\n",
       "    .dataframe tbody tr th {\n",
       "        vertical-align: top;\n",
       "    }\n",
       "\n",
       "    .dataframe thead th {\n",
       "        text-align: right;\n",
       "    }\n",
       "</style>\n",
       "<table border=\"1\" class=\"dataframe\">\n",
       "  <thead>\n",
       "    <tr style=\"text-align: right;\">\n",
       "      <th></th>\n",
       "      <th>Section</th>\n",
       "      <th>Tickets</th>\n",
       "    </tr>\n",
       "  </thead>\n",
       "  <tbody>\n",
       "    <tr>\n",
       "      <th>0</th>\n",
       "      <td>Section1</td>\n",
       "      <td>8</td>\n",
       "    </tr>\n",
       "    <tr>\n",
       "      <th>1</th>\n",
       "      <td>Section1</td>\n",
       "      <td>4</td>\n",
       "    </tr>\n",
       "    <tr>\n",
       "      <th>2</th>\n",
       "      <td>Section1</td>\n",
       "      <td>6</td>\n",
       "    </tr>\n",
       "    <tr>\n",
       "      <th>3</th>\n",
       "      <td>Section1</td>\n",
       "      <td>8</td>\n",
       "    </tr>\n",
       "    <tr>\n",
       "      <th>4</th>\n",
       "      <td>Section1</td>\n",
       "      <td>6</td>\n",
       "    </tr>\n",
       "    <tr>\n",
       "      <th>5</th>\n",
       "      <td>Section1</td>\n",
       "      <td>4</td>\n",
       "    </tr>\n",
       "    <tr>\n",
       "      <th>6</th>\n",
       "      <td>Section2</td>\n",
       "      <td>3</td>\n",
       "    </tr>\n",
       "    <tr>\n",
       "      <th>7</th>\n",
       "      <td>Section2</td>\n",
       "      <td>7</td>\n",
       "    </tr>\n",
       "    <tr>\n",
       "      <th>8</th>\n",
       "      <td>Section2</td>\n",
       "      <td>0</td>\n",
       "    </tr>\n",
       "    <tr>\n",
       "      <th>9</th>\n",
       "      <td>Section2</td>\n",
       "      <td>2</td>\n",
       "    </tr>\n",
       "    <tr>\n",
       "      <th>10</th>\n",
       "      <td>Section2</td>\n",
       "      <td>7</td>\n",
       "    </tr>\n",
       "    <tr>\n",
       "      <th>11</th>\n",
       "      <td>Section2</td>\n",
       "      <td>5</td>\n",
       "    </tr>\n",
       "    <tr>\n",
       "      <th>12</th>\n",
       "      <td>Section3</td>\n",
       "      <td>1</td>\n",
       "    </tr>\n",
       "    <tr>\n",
       "      <th>13</th>\n",
       "      <td>Section3</td>\n",
       "      <td>2</td>\n",
       "    </tr>\n",
       "    <tr>\n",
       "      <th>14</th>\n",
       "      <td>Section3</td>\n",
       "      <td>7</td>\n",
       "    </tr>\n",
       "    <tr>\n",
       "      <th>15</th>\n",
       "      <td>Section3</td>\n",
       "      <td>6</td>\n",
       "    </tr>\n",
       "    <tr>\n",
       "      <th>16</th>\n",
       "      <td>Section3</td>\n",
       "      <td>5</td>\n",
       "    </tr>\n",
       "    <tr>\n",
       "      <th>17</th>\n",
       "      <td>Section3</td>\n",
       "      <td>0</td>\n",
       "    </tr>\n",
       "  </tbody>\n",
       "</table>\n",
       "</div>"
      ],
      "text/plain": [
       "     Section  Tickets\n",
       "0   Section1        8\n",
       "1   Section1        4\n",
       "2   Section1        6\n",
       "3   Section1        8\n",
       "4   Section1        6\n",
       "5   Section1        4\n",
       "6   Section2        3\n",
       "7   Section2        7\n",
       "8   Section2        0\n",
       "9   Section2        2\n",
       "10  Section2        7\n",
       "11  Section2        5\n",
       "12  Section3        1\n",
       "13  Section3        2\n",
       "14  Section3        7\n",
       "15  Section3        6\n",
       "16  Section3        5\n",
       "17  Section3        0"
      ]
     },
     "execution_count": 46,
     "metadata": {},
     "output_type": "execute_result"
    }
   ],
   "source": [
    "ticketab = pd.DataFrame({'Section1': np.array([8, 4, 6, 8, 6, 4]), \n",
    "                         'Section2': np.array([3, 7, 0, 2, 7, 5]),\n",
    "                         'Section3': np.array([1, 2, 7, 6, 5, 0])\n",
    "                        }).melt(var_name = 'Section', value_name = 'Tickets')\n",
    "ticketab"
   ]
  },
  {
   "cell_type": "markdown",
   "metadata": {
    "colab_type": "text",
    "id": "jbzX_5gE8_BI"
   },
   "source": [
    "What is SSTotal for this problem? "
   ]
  },
  {
   "cell_type": "code",
   "execution_count": 47,
   "metadata": {
    "colab": {
     "base_uri": "https://localhost:8080/",
     "height": 34
    },
    "colab_type": "code",
    "executionInfo": {
     "elapsed": 576,
     "status": "ok",
     "timestamp": 1537799088395,
     "user": {
      "displayName": "Luis Galicia",
      "photoUrl": "",
      "userId": "14910848575514939677"
     },
     "user_tz": 240
    },
    "id": "hqzgzBnT8-HO",
    "outputId": "b8c3f3d1-6593-473c-ee9e-a98da3387a4b"
   },
   "outputs": [
    {
     "data": {
      "text/plain": [
       "118.5"
      ]
     },
     "execution_count": 47,
     "metadata": {},
     "output_type": "execute_result"
    }
   ],
   "source": [
    "grandMeanQ3 = ticketab['Tickets'].mean()\n",
    "sstQ3 = np.sum(np.square(ticketab['Tickets'] - grandMeanQ3))\n",
    "sstQ3"
   ]
  },
  {
   "cell_type": "markdown",
   "metadata": {
    "colab_type": "text",
    "id": "EmUZevNN-EDO"
   },
   "source": [
    "What is MSBetween for this problem?"
   ]
  },
  {
   "cell_type": "code",
   "execution_count": 50,
   "metadata": {
    "colab": {
     "base_uri": "https://localhost:8080/",
     "height": 34
    },
    "colab_type": "code",
    "executionInfo": {
     "elapsed": 627,
     "status": "ok",
     "timestamp": 1537800027900,
     "user": {
      "displayName": "Luis Galicia",
      "photoUrl": "",
      "userId": "14910848575514939677"
     },
     "user_tz": 240
    },
    "id": "Xzj79RcP9-Uh",
    "outputId": "d972e60b-a405-4c83-d530-afb80cf0bed5"
   },
   "outputs": [
    {
     "data": {
      "text/plain": [
       "10.5"
      ]
     },
     "execution_count": 50,
     "metadata": {},
     "output_type": "execute_result"
    }
   ],
   "source": [
    "dfBetweenQ3 = 2\n",
    "groupMeansQ3 = ticketab.groupby('Section').mean()\n",
    "groupLensQ3 = 6\n",
    "\n",
    "ssbQ3 = np.sum(groupLensQ3 * np.square(groupMeansQ3 - grandMeanQ3).values)\n",
    "msbQ3 = ssbQ3 / dfBetweenQ3\n",
    "\n",
    "msbQ3"
   ]
  },
  {
   "cell_type": "markdown",
   "metadata": {
    "colab_type": "text",
    "id": "Fnf98YdqB7Ow"
   },
   "source": [
    "What is MSWithin for this problem? "
   ]
  },
  {
   "cell_type": "code",
   "execution_count": 51,
   "metadata": {
    "colab": {
     "base_uri": "https://localhost:8080/",
     "height": 34
    },
    "colab_type": "code",
    "executionInfo": {
     "elapsed": 671,
     "status": "ok",
     "timestamp": 1537800602401,
     "user": {
      "displayName": "Luis Galicia",
      "photoUrl": "",
      "userId": "14910848575514939677"
     },
     "user_tz": 240
    },
    "id": "NIDW3hjDB-Bu",
    "outputId": "f542c2af-521e-4140-93b5-6209a1053bee"
   },
   "outputs": [
    {
     "data": {
      "text/plain": [
       "6.5"
      ]
     },
     "execution_count": 51,
     "metadata": {},
     "output_type": "execute_result"
    }
   ],
   "source": [
    "dfWithinQ3 = 15 # num of observ. - num of groups\n",
    "sswQ3 = sstQ3 - ssbQ3\n",
    "\n",
    "mswQ3 = sswQ3 / dfWithinQ3\n",
    "\n",
    "mswQ3"
   ]
  },
  {
   "cell_type": "markdown",
   "metadata": {
    "colab_type": "text",
    "id": "mBqAaulnD4hO"
   },
   "source": [
    "What is the F statistic?"
   ]
  },
  {
   "cell_type": "code",
   "execution_count": 52,
   "metadata": {
    "colab": {
     "base_uri": "https://localhost:8080/",
     "height": 34
    },
    "colab_type": "code",
    "executionInfo": {
     "elapsed": 605,
     "status": "ok",
     "timestamp": 1537800681899,
     "user": {
      "displayName": "Luis Galicia",
      "photoUrl": "",
      "userId": "14910848575514939677"
     },
     "user_tz": 240
    },
    "id": "s8rDcKeFD7Xv",
    "outputId": "a0dec5bc-97ba-48e8-b963-a87102ed5c8f"
   },
   "outputs": [
    {
     "data": {
      "text/plain": [
       "1.6153846153846154"
      ]
     },
     "execution_count": 52,
     "metadata": {},
     "output_type": "execute_result"
    }
   ],
   "source": [
    "f_q3 = msbQ3 / mswQ3\n",
    "f_q3"
   ]
  }
 ],
 "metadata": {
  "colab": {
   "name": "week5.ipynb",
   "provenance": [],
   "version": "0.3.2"
  },
  "kernelspec": {
   "display_name": "Python 3",
   "language": "python",
   "name": "python3"
  },
  "language_info": {
   "codemirror_mode": {
    "name": "ipython",
    "version": 3
   },
   "file_extension": ".py",
   "mimetype": "text/x-python",
   "name": "python",
   "nbconvert_exporter": "python",
   "pygments_lexer": "ipython3",
   "version": "3.6.7"
  }
 },
 "nbformat": 4,
 "nbformat_minor": 1
}
