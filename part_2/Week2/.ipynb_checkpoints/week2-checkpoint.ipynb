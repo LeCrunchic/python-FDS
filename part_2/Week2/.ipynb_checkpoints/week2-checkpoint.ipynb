{
 "cells": [
  {
   "cell_type": "code",
   "execution_count": 1,
   "metadata": {
    "colab": {},
    "colab_type": "code",
    "id": "XUeNP4w9lRp9"
   },
   "outputs": [],
   "source": [
    "import numpy as np\n",
    "import pandas as pd"
   ]
  },
  {
   "cell_type": "code",
   "execution_count": 4,
   "metadata": {
    "colab": {},
    "colab_type": "code",
    "id": "FDoXCDnBljAz"
   },
   "outputs": [],
   "source": [
    "riderData = pd.read_csv('BullRiders.csv')"
   ]
  },
  {
   "cell_type": "markdown",
   "metadata": {
    "colab_type": "text",
    "id": "OzhXoNdM7PbT"
   },
   "source": [
    "## Pre- Lab\n",
    "The average American adult male weighs 190 pounds.  Do professional bull-riders in the US weigh the same? "
   ]
  },
  {
   "cell_type": "code",
   "execution_count": 0,
   "metadata": {
    "colab": {},
    "colab_type": "code",
    "id": "ba9sOsmqnirp"
   },
   "outputs": [],
   "source": [
    "ridersUSA = riderData[riderData['Country'] == 'USA']\n",
    "weightUSA = ridersUSA['Weight']\n",
    "weightMeanUSA = weightUSA.mean()\n",
    "weightStdUSA = weightUSA.std()"
   ]
  },
  {
   "cell_type": "code",
   "execution_count": 15,
   "metadata": {
    "colab": {
     "base_uri": "https://localhost:8080/",
     "height": 413
    },
    "colab_type": "code",
    "executionInfo": {
     "elapsed": 526,
     "status": "ok",
     "timestamp": 1534425156084,
     "user": {
      "displayName": "Luis Galicia",
      "photoUrl": "https://lh3.googleusercontent.com/a/default-user=s128",
      "userId": "116873116001297431960"
     },
     "user_tz": 240
    },
    "id": "AiUWXtHRxmP6",
    "outputId": "65de0e82-465f-46ee-e159-bec2d8657bac"
   },
   "outputs": [
    {
     "name": "stdout",
     "output_type": "stream",
     "text": [
      "Mean 153.1081081081081\n",
      "STD 13.023021888144822\n"
     ]
    },
    {
     "data": {
      "text/plain": [
       "<matplotlib.axes._subplots.AxesSubplot at 0x7f955679dcc0>"
      ]
     },
     "execution_count": 15,
     "metadata": {
      "tags": []
     },
     "output_type": "execute_result"
    },
    {
     "data": {
      "image/png": "[encoded data removed]",
      "text/plain": [
       "<matplotlib.figure.Figure at 0x7f9556826940>"
      ]
     },
     "metadata": {
      "tags": []
     },
     "output_type": "display_data"
    }
   ],
   "source": [
    "import matplotlib.pyplot as plt\n",
    "import seaborn as sns\n",
    "\n",
    "# Distribution of weight of bull riders\n",
    "print('Mean', weightMeanUSA)\n",
    "print('STD', weightStdUSA)\n",
    "sns.distplot(weightUSA)"
   ]
  },
  {
   "cell_type": "code",
   "execution_count": 92,
   "metadata": {
    "colab": {
     "base_uri": "https://localhost:8080/",
     "height": 34
    },
    "colab_type": "code",
    "executionInfo": {
     "elapsed": 585,
     "status": "ok",
     "timestamp": 1534433105692,
     "user": {
      "displayName": "Luis Galicia",
      "photoUrl": "https://lh3.googleusercontent.com/a/default-user=s128",
      "userId": "116873116001297431960"
     },
     "user_tz": 240
    },
    "id": "CdU1KeYVzddA",
    "outputId": "89ee07b4-3f7c-4b17-a323-9fa28b3fac8a"
   },
   "outputs": [
    {
     "data": {
      "text/plain": [
       "-17.231378369723377"
      ]
     },
     "execution_count": 92,
     "metadata": {
      "tags": []
     },
     "output_type": "execute_result"
    }
   ],
   "source": [
    "def calculate_stderr(s, n):\n",
    "    return s / n**0.5\n",
    "\n",
    "def calculate_tstat(samplemu, mu, stderr):\n",
    "    return (samplemu - mu) / stderr\n",
    "  \n",
    "mu = 190\n",
    "stderr = calculate_stderr(weightStdUSA, len(ridersUSA))\n",
    "tprelab = calculate_tstat(weightMeanUSA, mu, stderr)\n",
    "tprelab"
   ]
  },
  {
   "cell_type": "code",
   "execution_count": 86,
   "metadata": {
    "colab": {
     "base_uri": "https://localhost:8080/",
     "height": 34
    },
    "colab_type": "code",
    "executionInfo": {
     "elapsed": 614,
     "status": "ok",
     "timestamp": 1534432668613,
     "user": {
      "displayName": "Luis Galicia",
      "photoUrl": "https://lh3.googleusercontent.com/a/default-user=s128",
      "userId": "116873116001297431960"
     },
     "user_tz": 240
    },
    "id": "BKNC9cha3967",
    "outputId": "62831a87-ac5a-4e74-ab67-efb21fa67608"
   },
   "outputs": [
    {
     "data": {
      "text/plain": [
       "(148.91180375237775, 157.30441246383845)"
      ]
     },
     "execution_count": 86,
     "metadata": {
      "tags": []
     },
     "output_type": "execute_result"
    }
   ],
   "source": [
    "def confidence_interval(mean, stderr, z=1.96):\n",
    "    \"\"\"Calculates confidence interval with 95% confidence by default\"\"\"\n",
    "    upperBound = (mean + z * stderr,)\n",
    "    lowerBound = (mean - z * stderr,)\n",
    "    return lowerBound + upperBound\n",
    "  \n",
    "confInterv = confidence_interval(weightMeanUSA, stderr)\n",
    "confInterv\n",
    "\n",
    "#THE NULL HYPOTHESIS IS REJECTED"
   ]
  },
  {
   "cell_type": "markdown",
   "metadata": {
    "colab_type": "text",
    "id": "OvV1vwCi7v2h"
   },
   "source": [
    "## Lab\n",
    "Do professional bull riders stay on their bulls 50% of the time? Test the hypothesis that the mean ride percentage is 0.500 in 2014, using riders with at least 5 events in 2014. "
   ]
  },
  {
   "cell_type": "code",
   "execution_count": 0,
   "metadata": {
    "colab": {},
    "colab_type": "code",
    "id": "MBuQqTD5-I9R"
   },
   "outputs": [],
   "source": [
    "# Only riders who participated at least in 5 events in 2014\n",
    "riders2014 = riderData[riderData['Events14'] >= 5]"
   ]
  },
  {
   "cell_type": "code",
   "execution_count": 0,
   "metadata": {
    "colab": {},
    "colab_type": "code",
    "id": "pdEIEcN-_yF5"
   },
   "outputs": [],
   "source": [
    "ridePercentage14 = riders2014['RidePer14']\n",
    "ridePer14Mean = ridePercentage14.mean()\n",
    "ridePer14Std = ridePercentage14.std()"
   ]
  },
  {
   "cell_type": "code",
   "execution_count": 39,
   "metadata": {
    "colab": {
     "base_uri": "https://localhost:8080/",
     "height": 428
    },
    "colab_type": "code",
    "executionInfo": {
     "elapsed": 568,
     "status": "ok",
     "timestamp": 1534427828864,
     "user": {
      "displayName": "Luis Galicia",
      "photoUrl": "https://lh3.googleusercontent.com/a/default-user=s128",
      "userId": "116873116001297431960"
     },
     "user_tz": 240
    },
    "id": "wVedxD-w_zIb",
    "outputId": "b9ec28f3-f2c6-435f-fddc-d3ce49cbc61a"
   },
   "outputs": [
    {
     "name": "stdout",
     "output_type": "stream",
     "text": [
      "Mean 0.3346642857142857\n",
      "STD 0.10657631600127761\n"
     ]
    },
    {
     "data": {
      "text/plain": [
       "<matplotlib.axes._subplots.AxesSubplot at 0x7f9556512208>"
      ]
     },
     "execution_count": 39,
     "metadata": {
      "tags": []
     },
     "output_type": "execute_result"
    },
    {
     "data": {
      "image/png": "[encoded data removed]",
      "text/plain": [
       "<matplotlib.figure.Figure at 0x7f95567392e8>"
      ]
     },
     "metadata": {
      "tags": []
     },
     "output_type": "display_data"
    }
   ],
   "source": [
    "print('Mean', ridePer14Mean)\n",
    "print('STD', ridePer14Std)\n",
    "plt.title('Distribution of ride percentage in 2014')\n",
    "sns.distplot(ridePercentage14)"
   ]
  },
  {
   "cell_type": "code",
   "execution_count": 93,
   "metadata": {
    "colab": {
     "base_uri": "https://localhost:8080/",
     "height": 34
    },
    "colab_type": "code",
    "executionInfo": {
     "elapsed": 807,
     "status": "ok",
     "timestamp": 1534433207970,
     "user": {
      "displayName": "Luis Galicia",
      "photoUrl": "https://lh3.googleusercontent.com/a/default-user=s128",
      "userId": "116873116001297431960"
     },
     "user_tz": 240
    },
    "id": "ZNLb-w78B1Uw",
    "outputId": "822416d8-c35c-4e25-9f27-dd6127b6dd15"
   },
   "outputs": [
    {
     "data": {
      "text/plain": [
       "-10.053808694784662"
      ]
     },
     "execution_count": 93,
     "metadata": {
      "tags": []
     },
     "output_type": "execute_result"
    }
   ],
   "source": [
    "mu = 0.5\n",
    "stderr = calculate_stderr(ridePer14Std, len(riders2014))\n",
    "tlab = calculate_tstat(ridePer14Mean, mu, stderr)\n",
    "tlab"
   ]
  },
  {
   "cell_type": "code",
   "execution_count": 91,
   "metadata": {
    "colab": {
     "base_uri": "https://localhost:8080/",
     "height": 34
    },
    "colab_type": "code",
    "executionInfo": {
     "elapsed": 614,
     "status": "ok",
     "timestamp": 1534432854860,
     "user": {
      "displayName": "Luis Galicia",
      "photoUrl": "https://lh3.googleusercontent.com/a/default-user=s128",
      "userId": "116873116001297431960"
     },
     "user_tz": 240
    },
    "id": "M2zdilI9Cxua",
    "outputId": "4c538d5d-39ca-4dae-ee4a-8f4671ce66e1"
   },
   "outputs": [
    {
     "data": {
      "text/plain": [
       "(0.30243192384647904, 0.36689664758209234)"
      ]
     },
     "execution_count": 91,
     "metadata": {
      "tags": []
     },
     "output_type": "execute_result"
    }
   ],
   "source": [
    "confIntervlab = confidence_interval(ridePer14Mean, stderr)\n",
    "confIntervlab \n",
    "\n",
    "# THE NULL HYPOTHESIS IS REJECTED"
   ]
  },
  {
   "cell_type": "markdown",
   "metadata": {
    "colab_type": "text",
    "id": "n3WjoxhdHEhQ"
   },
   "source": [
    "## Problem Set"
   ]
  },
  {
   "cell_type": "markdown",
   "metadata": {
    "colab_type": "text",
    "id": "rLtMcbnnHv8F"
   },
   "source": [
    "### Question 1\n",
    "How much money do professional bull riders earn by participating in an event? (2012)\n",
    "\n"
   ]
  },
  {
   "cell_type": "code",
   "execution_count": 0,
   "metadata": {
    "colab": {},
    "colab_type": "code",
    "id": "zZMDmb_9RDYp"
   },
   "outputs": [],
   "source": [
    "ridersIn12 = riderData[riderData['Events12'] > 0]\n",
    "avg_earn_per_event = ridersIn12['Earnings12'] / ridersIn12['Events12']"
   ]
  },
  {
   "cell_type": "code",
   "execution_count": 75,
   "metadata": {
    "colab": {
     "base_uri": "https://localhost:8080/",
     "height": 364
    },
    "colab_type": "code",
    "executionInfo": {
     "elapsed": 928,
     "status": "ok",
     "timestamp": 1534432078823,
     "user": {
      "displayName": "Luis Galicia",
      "photoUrl": "https://lh3.googleusercontent.com/a/default-user=s128",
      "userId": "116873116001297431960"
     },
     "user_tz": 240
    },
    "id": "MOVvP0_FRV-1",
    "outputId": "efced0a6-f303-434a-8c5d-f2b91c41cc39"
   },
   "outputs": [
    {
     "data": {
      "text/plain": [
       "<matplotlib.axes._subplots.AxesSubplot at 0x7f955611f7f0>"
      ]
     },
     "execution_count": 75,
     "metadata": {
      "tags": []
     },
     "output_type": "execute_result"
    },
    {
     "data": {
      "image/png": "[encoded data removed]",
      "text/plain": [
       "<matplotlib.figure.Figure at 0x7f955612e588>"
      ]
     },
     "metadata": {
      "tags": []
     },
     "output_type": "display_data"
    }
   ],
   "source": [
    "sns.distplot(avg_earn_per_event)"
   ]
  },
  {
   "cell_type": "code",
   "execution_count": 105,
   "metadata": {
    "colab": {
     "base_uri": "https://localhost:8080/",
     "height": 414
    },
    "colab_type": "code",
    "executionInfo": {
     "elapsed": 870,
     "status": "ok",
     "timestamp": 1534434196642,
     "user": {
      "displayName": "Luis Galicia",
      "photoUrl": "https://lh3.googleusercontent.com/a/default-user=s128",
      "userId": "116873116001297431960"
     },
     "user_tz": 240
    },
    "id": "mcPqrL8LN2vS",
    "outputId": "f8695585-a4a1-4fbb-efd2-57c843a8aa75"
   },
   "outputs": [
    {
     "name": "stdout",
     "output_type": "stream",
     "text": [
      "Log Mean 8.846387139242822\n",
      "Log STD 0.7209061829799005\n"
     ]
    },
    {
     "data": {
      "text/plain": [
       "<matplotlib.axes._subplots.AxesSubplot at 0x7f9555eb7748>"
      ]
     },
     "execution_count": 105,
     "metadata": {
      "tags": []
     },
     "output_type": "execute_result"
    },
    {
     "data": {
      "image/png": "[encoded data removed]",
      "text/plain": [
       "<matplotlib.figure.Figure at 0x7f955682e9e8>"
      ]
     },
     "metadata": {
      "tags": []
     },
     "output_type": "display_data"
    }
   ],
   "source": [
    "# Normalization with log\n",
    "Log_avg_earn_per_event = np.log(avg_earn_per_event)\n",
    "\n",
    "logEarningsMean = Log_avg_earn_per_event.mean()\n",
    "logEarningsStd = Log_avg_earn_per_event.std()\n",
    "\n",
    "print('Log Mean', logEarningsMean)\n",
    "print('Log STD', logEarningsStd)\n",
    "\n",
    "plt.title('Earnings per event 2012 (log-space)')\n",
    "sns.distplot(Log_avg_earn_per_event)"
   ]
  },
  {
   "cell_type": "code",
   "execution_count": 106,
   "metadata": {
    "colab": {
     "base_uri": "https://localhost:8080/",
     "height": 34
    },
    "colab_type": "code",
    "executionInfo": {
     "elapsed": 750,
     "status": "ok",
     "timestamp": 1534434197920,
     "user": {
      "displayName": "Luis Galicia",
      "photoUrl": "https://lh3.googleusercontent.com/a/default-user=s128",
      "userId": "116873116001297431960"
     },
     "user_tz": 240
    },
    "id": "2Y2n-IccOfnJ",
    "outputId": "cddf25f7-4f2d-43b8-f4ba-0455ed9365fa"
   },
   "outputs": [
    {
     "data": {
      "text/plain": [
       "(8.584004061055756, 9.108770217429887)"
      ]
     },
     "execution_count": 106,
     "metadata": {
      "tags": []
     },
     "output_type": "execute_result"
    }
   ],
   "source": [
    "# Estimation of population mean (logspace)\n",
    "stderr = calculate_stderr(logEarningsStd, len(ridersIn12))\n",
    "LogConfInterval_p1 = confidence_interval(logEarningsMean, stderr)\n",
    "LogConfInterval_p1"
   ]
  },
  {
   "cell_type": "code",
   "execution_count": 107,
   "metadata": {
    "colab": {
     "base_uri": "https://localhost:8080/",
     "height": 34
    },
    "colab_type": "code",
    "executionInfo": {
     "elapsed": 618,
     "status": "ok",
     "timestamp": 1534434201736,
     "user": {
      "displayName": "Luis Galicia",
      "photoUrl": "https://lh3.googleusercontent.com/a/default-user=s128",
      "userId": "116873116001297431960"
     },
     "user_tz": 240
    },
    "id": "UKndejiNYeTD",
    "outputId": "094be1b6-5740-42eb-b279-de59247f2e57"
   },
   "outputs": [
    {
     "name": "stdout",
     "output_type": "stream",
     "text": [
      "We can say with 95% confidence that the true population mean lays within 5345.47 and 9034.18\n"
     ]
    }
   ],
   "source": [
    "# True scale confidence interval\n",
    "confInterval_p1 = np.exp(LogConfInterval_p1)\n",
    "\n",
    "\n",
    "# THIS IS GRADED AS INCORRECT F*CK (disclaimer: it is correct, the R \n",
    "# package must use a different math (something with the decimals proly), very derpy, I know)\n",
    "\n",
    "print(f'We can say with 95% confidence that the true population mean lays within {round(confInterval_p1[0], 2)} and {round(confInterval_p1[1], 2)}')"
   ]
  },
  {
   "cell_type": "markdown",
   "metadata": {
    "colab_type": "text",
    "id": "Aw19dyFsc3wd"
   },
   "source": [
    "### Question 2"
   ]
  },
  {
   "cell_type": "markdown",
   "metadata": {
    "colab_type": "text",
    "id": "mG5XeM81mo8s"
   },
   "source": [
    "\n",
    "Students collected 8 random bags of a specific brand of potato chips and carefully weighed the contents of each bag, recording the following weights (in grams): \n",
    " 29.4      29.0      28.4      28.8      28.9      29.3      28.5      28.2 \n",
    "\n",
    "The students want to test the claim that the mean weight of these bags is 28.5 grams.  They think it may be different. \n",
    "\n",
    "$H_{0}: \\mu=28.5 \\\\ H_{a}: \\mu \\neq 28.5 \\\\ \\alpha = 0.05 \\implies t_{critical}=2.365$ "
   ]
  },
  {
   "cell_type": "code",
   "execution_count": 114,
   "metadata": {
    "colab": {
     "base_uri": "https://localhost:8080/",
     "height": 52
    },
    "colab_type": "code",
    "executionInfo": {
     "elapsed": 425,
     "status": "ok",
     "timestamp": 1534438014051,
     "user": {
      "displayName": "Luis Galicia",
      "photoUrl": "https://lh3.googleusercontent.com/a/default-user=s128",
      "userId": "116873116001297431960"
     },
     "user_tz": 240
    },
    "id": "yAlQT6myc6Me",
    "outputId": "818da31f-d4b9-4fd7-f055-315ae782a01f"
   },
   "outputs": [
    {
     "name": "stdout",
     "output_type": "stream",
     "text": [
      "Mean 28.8125\n",
      "STD 0.42573465914816017\n"
     ]
    }
   ],
   "source": [
    "sampleWeights = np.array([29.4, 29., 28.4, 28.8, 28.9, 29.3, 28.5, 28.2])\n",
    "weightsMean = sampleWeights.mean()\n",
    "weightsStd = sampleWeights.std(ddof=1)\n",
    "print('Mean', weightsMean)\n",
    "print('STD', weightsStd)"
   ]
  },
  {
   "cell_type": "code",
   "execution_count": 116,
   "metadata": {
    "colab": {
     "base_uri": "https://localhost:8080/",
     "height": 34
    },
    "colab_type": "code",
    "executionInfo": {
     "elapsed": 698,
     "status": "ok",
     "timestamp": 1534438260303,
     "user": {
      "displayName": "Luis Galicia",
      "photoUrl": "https://lh3.googleusercontent.com/a/default-user=s128",
      "userId": "116873116001297431960"
     },
     "user_tz": 240
    },
    "id": "TvdlttgjorKM",
    "outputId": "a6c800f5-9128-4df8-a042-f8c6df212c53"
   },
   "outputs": [
    {
     "name": "stdout",
     "output_type": "stream",
     "text": [
      "t: 2.076136996343499\n"
     ]
    }
   ],
   "source": [
    "mu = 28.5\n",
    "stderr_p2 = calculate_stderr(weightsStd, len(sampleWeights))\n",
    "tstat_p2 = calculate_tstat(weightsMean, mu, stderr_p2)\n",
    "\n",
    "print('t:', tstat_p2)\n",
    "\n",
    "# FAIL TO REJECT NULL HYPOTHESIS"
   ]
  },
  {
   "cell_type": "markdown",
   "metadata": {
    "colab_type": "text",
    "id": "tm0h_b0brMEw"
   },
   "source": [
    "### Question 3"
   ]
  },
  {
   "cell_type": "markdown",
   "metadata": {
    "colab_type": "text",
    "id": "kGsk0950x0kt"
   },
   "source": [
    "An industrial plant dumps its waste into a nearby river, but claims that it is not impacting the native species of frogs that live in the river.  The frogs are able to tolerate calcium concentrations up to 91 mg/L.  \n",
    "You measure the concentration of calcium in 25 random samples from the river.  Your measurements are approximately normally distributed, with a mean of 93.6 mg/L, with a standard deviation of 7.8 mg/L.  \n",
    "\n",
    "$H_{0}: \\mu \\leq 91 \\\\ H_{a}: \\mu > 91 \\\\ \\mu_{\\bar{x}}= 93.6, \n",
    "n=25, s=7.8 \\\\ \\alpha=0.05 \\implies t_{critical}= 1.711 $"
   ]
  },
  {
   "cell_type": "code",
   "execution_count": 122,
   "metadata": {
    "colab": {
     "base_uri": "https://localhost:8080/",
     "height": 34
    },
    "colab_type": "code",
    "executionInfo": {
     "elapsed": 618,
     "status": "ok",
     "timestamp": 1534440229515,
     "user": {
      "displayName": "Luis Galicia",
      "photoUrl": "https://lh3.googleusercontent.com/a/default-user=s128",
      "userId": "116873116001297431960"
     },
     "user_tz": 240
    },
    "id": "ptXNaU5qr1xe",
    "outputId": "da72a34f-046e-47b7-e422-37d7798a2d16"
   },
   "outputs": [
    {
     "name": "stdout",
     "output_type": "stream",
     "text": [
      "t: 1.666666666666663\n"
     ]
    }
   ],
   "source": [
    "sampleMean_p3 = 93.6\n",
    "sampleSize_p3 = 25\n",
    "sampleStd_p3 = 7.8\n",
    "mu_p3 = 91\n",
    "\n",
    "stderr_p3 = calculate_stderr(sampleStd_p3, sampleSize_p3)\n",
    "t_p3 = calculate_tstat(sampleMean_p3, mu_p3, stderr_p3 )\n",
    "\n",
    "print('t:', t_p3)\n",
    "\n",
    "# FAIL TO REJECT"
   ]
  },
  {
   "cell_type": "markdown",
   "metadata": {
    "colab_type": "text",
    "id": "UjC6uZqjx5pL"
   },
   "source": [
    "### Question 4"
   ]
  },
  {
   "cell_type": "markdown",
   "metadata": {
    "colab_type": "text",
    "id": "KJW8WPr8x-Fy"
   },
   "source": [
    "You are studying a population of peregrine falcons and want to estimate their average wingspan.  So you collect a random sample of 12 adult male birds and measure a mean wingspan of 42.6 cm, with a standard deviation of 5.3 cm. \n",
    "Assume that the distribution of measurements was approximately normal.\n",
    "\n",
    "$\\mu_{\\bar{x}} = 42.6, s = 5.3, n = 12 \\\\ \\alpha = 0.1 \\implies t_{critical} = 1.796$"
   ]
  },
  {
   "cell_type": "code",
   "execution_count": 128,
   "metadata": {
    "colab": {
     "base_uri": "https://localhost:8080/",
     "height": 34
    },
    "colab_type": "code",
    "executionInfo": {
     "elapsed": 601,
     "status": "ok",
     "timestamp": 1534441254485,
     "user": {
      "displayName": "Luis Galicia",
      "photoUrl": "https://lh3.googleusercontent.com/a/default-user=s128",
      "userId": "116873116001297431960"
     },
     "user_tz": 240
    },
    "id": "RJcC-ahqx9SO",
    "outputId": "b1ad8de1-d1f0-42f7-d9f4-0ff37bf1f6d1"
   },
   "outputs": [
    {
     "data": {
      "text/plain": [
       "(39.8521591288189, 45.347840871181106)"
      ]
     },
     "execution_count": 128,
     "metadata": {
      "tags": []
     },
     "output_type": "execute_result"
    }
   ],
   "source": [
    "stderr_p4 = calculate_stderr(5.3, 12)\n",
    "confInterval90_p4 = confidence_interval(42.6, stderr_p4, 1.796)\n",
    "confInterval90_p4"
   ]
  }
 ],
 "metadata": {
  "colab": {
   "name": "week2.ipynb",
   "provenance": [],
   "version": "0.3.2"
  },
  "kernelspec": {
   "display_name": "Python 3",
   "language": "python",
   "name": "python3"
  },
  "language_info": {
   "codemirror_mode": {
    "name": "ipython",
    "version": 3
   },
   "file_extension": ".py",
   "mimetype": "text/x-python",
   "name": "python",
   "nbconvert_exporter": "python",
   "pygments_lexer": "ipython3",
   "version": "3.6.7"
  }
 },
 "nbformat": 4,
 "nbformat_minor": 1
}
