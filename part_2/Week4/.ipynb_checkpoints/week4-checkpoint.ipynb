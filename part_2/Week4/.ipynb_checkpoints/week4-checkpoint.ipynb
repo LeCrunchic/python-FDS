{
 "cells": [
  {
   "cell_type": "code",
   "execution_count": 1,
   "metadata": {
    "colab": {
     "base_uri": "https://localhost:8080/",
     "height": 436
    },
    "colab_type": "code",
    "executionInfo": {
     "elapsed": 328839,
     "status": "ok",
     "timestamp": 1536091719697,
     "user": {
      "displayName": "Luis Galicia",
      "photoUrl": "https://lh3.googleusercontent.com/a/default-user=s128",
      "userId": "116873116001297431960"
     },
     "user_tz": 240
    },
    "id": "28MeQlclGPTA",
    "outputId": "ab35968c-f17a-49d2-a3aa-5f59830542f0"
   },
   "outputs": [],
   "source": [
    "import numpy as np \n",
    "import pandas as pd\n",
    "import matplotlib.pyplot as plt\n",
    "import seaborn as sns"
   ]
  },
  {
   "cell_type": "code",
   "execution_count": 3,
   "metadata": {
    "colab": {},
    "colab_type": "code",
    "id": "nq8tu3SmG2zg"
   },
   "outputs": [],
   "source": [
    "acl = pd.read_csv('AustinCityLimits.csv')"
   ]
  },
  {
   "cell_type": "code",
   "execution_count": 4,
   "metadata": {
    "colab": {},
    "colab_type": "code",
    "id": "Sf_lcqs2xX4z"
   },
   "outputs": [],
   "source": [
    "def chisq_test(actual, expected):\n",
    "    \"\"\"The inputs have to be arrays of equal dimensions\n",
    "    \"\"\"\n",
    "    chi2 = np.sum(np.square(actual - expected) / expected)\n",
    "    return chi2\n",
    "  \n",
    "\n",
    "def expected_table_values(table):\n",
    "    \"\"\"`table` must be a pandas dataframe (the best way of creating the dataframe for \n",
    "        our purposes here is with pandas.crosstab)\n",
    "    \"\"\"\n",
    "    total = table.sum().sum()\n",
    "    row_totals = table.sum()\n",
    "    col_totals = table.sum(axis=1)\n",
    "    \n",
    "    expected = np.repeat(col_totals.values, table.shape[1]).reshape(table.shape) * row_totals.values / total\n",
    "    \n",
    "    return expected    "
   ]
  },
  {
   "cell_type": "markdown",
   "metadata": {
    "colab_type": "text",
    "id": "zHaAdlgPJAvS"
   },
   "source": [
    "## Pre-Lab\n",
    "1. Are there an equal number of male and female performers on Austin City Limits?\n",
    "2. Are male performers just as likely to have had a Top 10 hit as female performers?"
   ]
  },
  {
   "cell_type": "markdown",
   "metadata": {
    "colab_type": "text",
    "id": "7oB96w1Wp-Xt"
   },
   "source": [
    "### 1\n",
    "\n",
    "Remember that THE null hypothesis of the goodness of fit test, is, that the distribution of the categories are equal. The alternative hypothesis states that the distributions are different. It is the standard anyway, I suppose there may be ocasions on which this is not the case."
   ]
  },
  {
   "cell_type": "code",
   "execution_count": 4,
   "metadata": {
    "colab": {
     "base_uri": "https://localhost:8080/",
     "height": 34
    },
    "colab_type": "code",
    "executionInfo": {
     "elapsed": 2364,
     "status": "ok",
     "timestamp": 1536091727408,
     "user": {
      "displayName": "Luis Galicia",
      "photoUrl": "https://lh3.googleusercontent.com/a/default-user=s128",
      "userId": "116873116001297431960"
     },
     "user_tz": 240
    },
    "id": "8cSiV0NrHz41",
    "outputId": "c0e0ac67-4c68-4810-a46b-118bf8e6695a"
   },
   "outputs": [
    {
     "name": "stdout",
     "output_type": "stream",
     "text": [
      "chi^2 goodness of fit: 18.24137931034483\n"
     ]
    }
   ],
   "source": [
    "# We are testing the distribution of gender here, therefore 2 categories. \n",
    "actual_dist = acl.Gender.value_counts().values\n",
    "expected_dist = np.full(2, len(acl) / 2)\n",
    "\n",
    "chi2_prelab1 = chisq_test(actual_dist, expected_dist)\n",
    "\n",
    "\n",
    "print('chi^2 goodness of fit:', chi2_prelab1)\n",
    "\n",
    "# REJECT"
   ]
  },
  {
   "cell_type": "markdown",
   "metadata": {
    "colab_type": "text",
    "id": "pwzS9kpI3evE"
   },
   "source": [
    "### 2\n",
    "In an Independence chi squared test the **null hypothesis states** that the variables are  **independent**. The **alternative hypothesis states** that the variables are **not independent**."
   ]
  },
  {
   "cell_type": "code",
   "execution_count": 0,
   "metadata": {
    "colab": {},
    "colab_type": "code",
    "id": "VoT-2RIk3f-T"
   },
   "outputs": [],
   "source": [
    "count_table = pd.crosstab(acl.Gender, acl['BB.wk.top10'])"
   ]
  },
  {
   "cell_type": "code",
   "execution_count": 6,
   "metadata": {
    "colab": {
     "base_uri": "https://localhost:8080/"
    },
    "colab_type": "code",
    "executionInfo": {
     "elapsed": 2317,
     "status": "ok",
     "timestamp": 1536091750668,
     "user": {
      "displayName": "Luis Galicia",
      "photoUrl": "https://lh3.googleusercontent.com/a/default-user=s128",
      "userId": "116873116001297431960"
     },
     "user_tz": 240
    },
    "id": "SN0Q3TCQcCWJ",
    "outputId": "729723a6-fcff-470a-861b-4df3ac6b5cca"
   },
   "outputs": [
    {
     "name": "stdout",
     "output_type": "stream",
     "text": [
      "independence chi^2: 0.7002283753981873\n"
     ]
    }
   ],
   "source": [
    "print('independence chi^2:', chisq_test(count_table.values, expected_table_values(count_table)))\n",
    "\n",
    "# FAIL TO REJECT."
   ]
  },
  {
   "cell_type": "markdown",
   "metadata": {
    "colab_type": "text",
    "id": "l2CYDzrgbB1f"
   },
   "source": [
    "scipy by default calculates the contingency chi2 with correction, hence, correction=False which gives the result that is expected in the grader (I got it wrong, should've trusted my funcs)\n",
    "\n",
    "\n",
    "\n"
   ]
  },
  {
   "cell_type": "code",
   "execution_count": 7,
   "metadata": {
    "colab": {
     "base_uri": "https://localhost:8080/",
     "height": 52
    },
    "colab_type": "code",
    "executionInfo": {
     "elapsed": 24765,
     "status": "ok",
     "timestamp": 1536091786891,
     "user": {
      "displayName": "Luis Galicia",
      "photoUrl": "https://lh3.googleusercontent.com/a/default-user=s128",
      "userId": "116873116001297431960"
     },
     "user_tz": 240
    },
    "id": "E_CXPlGN-EVl",
    "outputId": "483864b9-481b-40f0-f5e0-213292d99467"
   },
   "outputs": [
    {
     "data": {
      "text/plain": [
       "(0.7002283753981873, 0.40270696744709167, 1, array([[16.98058252, 16.01941748],\n",
       "        [36.01941748, 33.98058252]]))"
      ]
     },
     "execution_count": 7,
     "metadata": {
      "tags": []
     },
     "output_type": "execute_result"
    }
   ],
   "source": [
    "from scipy.stats import chi2_contingency\n",
    "\n",
    "chi2_contingency(count_table, correction=False)"
   ]
  },
  {
   "cell_type": "markdown",
   "metadata": {
    "colab_type": "text",
    "id": "GW6Ln12fShA5"
   },
   "source": [
    "## Lab\n",
    "1. Are each of the four musical genres equally represented on Austin City Limits?   \n",
    "2. Are some genres more likely to draw a large (100K+) Twitter following than others?"
   ]
  },
  {
   "cell_type": "markdown",
   "metadata": {
    "colab_type": "text",
    "id": "0gMleud9So_a"
   },
   "source": [
    "### 1"
   ]
  },
  {
   "cell_type": "code",
   "execution_count": 8,
   "metadata": {
    "colab": {
     "base_uri": "https://localhost:8080/",
     "height": 34
    },
    "colab_type": "code",
    "executionInfo": {
     "elapsed": 2889,
     "status": "ok",
     "timestamp": 1536091790106,
     "user": {
      "displayName": "Luis Galicia",
      "photoUrl": "https://lh3.googleusercontent.com/a/default-user=s128",
      "userId": "116873116001297431960"
     },
     "user_tz": 240
    },
    "id": "SItLnG8iS-GH",
    "outputId": "22bb703e-f2c9-48d7-a1f6-d2fcb1ebdd49"
   },
   "outputs": [
    {
     "name": "stdout",
     "output_type": "stream",
     "text": [
      "chi2: 70.41379310344827\n"
     ]
    }
   ],
   "source": [
    "expected_genre_counts = np.full(4, len(acl) / 4)\n",
    "observed_genre_counts = acl.Genre.value_counts().values\n",
    "\n",
    "chisq_test(observed_genre_counts, expected_genre_counts)\n",
    "\n",
    "chi2_lab1 = chisq_test(observed_genre_counts, expected_genre_counts)\n",
    "\n",
    "print('chi2:', chi2_lab1)\n",
    "\n",
    "# REJECT. The difference of the distributions of the genres are statistically significant."
   ]
  },
  {
   "cell_type": "markdown",
   "metadata": {
    "colab_type": "text",
    "id": "3GzSnL3xW5ly"
   },
   "source": [
    "### 2"
   ]
  },
  {
   "cell_type": "code",
   "execution_count": 9,
   "metadata": {
    "colab": {
     "base_uri": "https://localhost:8080/",
     "height": 206
    },
    "colab_type": "code",
    "executionInfo": {
     "elapsed": 2192,
     "status": "ok",
     "timestamp": 1536091792861,
     "user": {
      "displayName": "Luis Galicia",
      "photoUrl": "https://lh3.googleusercontent.com/a/default-user=s128",
      "userId": "116873116001297431960"
     },
     "user_tz": 240
    },
    "id": "0MpuAryrW61r",
    "outputId": "43661323-1a6b-4cd7-d762-7c0916073714"
   },
   "outputs": [
    {
     "data": {
      "text/html": [
       "<div>\n",
       "<style scoped>\n",
       "    .dataframe tbody tr th:only-of-type {\n",
       "        vertical-align: middle;\n",
       "    }\n",
       "\n",
       "    .dataframe tbody tr th {\n",
       "        vertical-align: top;\n",
       "    }\n",
       "\n",
       "    .dataframe thead th {\n",
       "        text-align: right;\n",
       "    }\n",
       "</style>\n",
       "<table border=\"1\" class=\"dataframe\">\n",
       "  <thead>\n",
       "    <tr style=\"text-align: right;\">\n",
       "      <th>Twitter.100k</th>\n",
       "      <th>0.0</th>\n",
       "      <th>1.0</th>\n",
       "    </tr>\n",
       "    <tr>\n",
       "      <th>Genre</th>\n",
       "      <th></th>\n",
       "      <th></th>\n",
       "    </tr>\n",
       "  </thead>\n",
       "  <tbody>\n",
       "    <tr>\n",
       "      <th>Country</th>\n",
       "      <td>11</td>\n",
       "      <td>6</td>\n",
       "    </tr>\n",
       "    <tr>\n",
       "      <th>Jazz/Blues</th>\n",
       "      <td>9</td>\n",
       "      <td>2</td>\n",
       "    </tr>\n",
       "    <tr>\n",
       "      <th>Rock/Folk/Indie</th>\n",
       "      <td>33</td>\n",
       "      <td>26</td>\n",
       "    </tr>\n",
       "    <tr>\n",
       "      <th>Singer-Songwriter</th>\n",
       "      <td>6</td>\n",
       "      <td>10</td>\n",
       "    </tr>\n",
       "  </tbody>\n",
       "</table>\n",
       "</div>"
      ],
      "text/plain": [
       "Twitter.100k       0.0  1.0\n",
       "Genre                      \n",
       "Country             11    6\n",
       "Jazz/Blues           9    2\n",
       "Rock/Folk/Indie     33   26\n",
       "Singer-Songwriter    6   10"
      ]
     },
     "execution_count": 9,
     "metadata": {
      "tags": []
     },
     "output_type": "execute_result"
    }
   ],
   "source": [
    "contingency_tab = pd.crosstab(acl.Genre, acl['Twitter.100k'])\n",
    "contingency_tab"
   ]
  },
  {
   "cell_type": "code",
   "execution_count": 10,
   "metadata": {
    "colab": {
     "base_uri": "https://localhost:8080/",
     "height": 34
    },
    "colab_type": "code",
    "executionInfo": {
     "elapsed": 2472,
     "status": "ok",
     "timestamp": 1536091796051,
     "user": {
      "displayName": "Luis Galicia",
      "photoUrl": "https://lh3.googleusercontent.com/a/default-user=s128",
      "userId": "116873116001297431960"
     },
     "user_tz": 240
    },
    "id": "54L3fOLfXSA5",
    "outputId": "1070e9d3-8b95-44ca-8e8a-36506562f476"
   },
   "outputs": [
    {
     "name": "stdout",
     "output_type": "stream",
     "text": [
      "contingency chi2: 5.691892115012296\n"
     ]
    }
   ],
   "source": [
    "print('contingency chi2:', chisq_test(contingency_tab.values, expected_table_values(contingency_tab)))\n",
    "\n",
    "# FAIL TO REJECT"
   ]
  },
  {
   "cell_type": "code",
   "execution_count": 11,
   "metadata": {
    "colab": {
     "base_uri": "https://localhost:8080/",
     "height": 86
    },
    "colab_type": "code",
    "executionInfo": {
     "elapsed": 3448,
     "status": "ok",
     "timestamp": 1536091800057,
     "user": {
      "displayName": "Luis Galicia",
      "photoUrl": "https://lh3.googleusercontent.com/a/default-user=s128",
      "userId": "116873116001297431960"
     },
     "user_tz": 240
    },
    "id": "8tW3B0jrb-7B",
    "outputId": "96c14809-fbeb-41de-ef83-af586f83e88d"
   },
   "outputs": [
    {
     "data": {
      "text/plain": [
       "(5.691892115012296, 0.12760135359813357, 3, array([[ 9.73786408,  7.26213592],\n",
       "        [ 6.30097087,  4.69902913],\n",
       "        [33.7961165 , 25.2038835 ],\n",
       "        [ 9.16504854,  6.83495146]]))"
      ]
     },
     "execution_count": 11,
     "metadata": {
      "tags": []
     },
     "output_type": "execute_result"
    }
   ],
   "source": [
    "chi2_contingency(contingency_tab, correction=False)"
   ]
  },
  {
   "cell_type": "markdown",
   "metadata": {
    "colab_type": "text",
    "id": "2E28Nfzwe5so"
   },
   "source": [
    "## Problem Set"
   ]
  },
  {
   "cell_type": "markdown",
   "metadata": {
    "colab_type": "text",
    "id": "Hl9Nk2AJe_pD"
   },
   "source": [
    "### Q1\n",
    "You want to know if the proportion of female performers on Austin City Limits Live has changed in the past two years. \n",
    "1. Create a new variable in the dataset called \"Recent\" that is equal to a 1 for rows from years 2012 or 2013 and is equal to 0 for all other rows.\n",
    "2. Make a table that shows the number of male and female performers in \"recent\" and non-recent years.\n"
   ]
  },
  {
   "cell_type": "code",
   "execution_count": 0,
   "metadata": {
    "colab": {},
    "colab_type": "code",
    "id": "Qi6d8mI8e-ro"
   },
   "outputs": [],
   "source": [
    "acl['Recent'] = (acl.Year == 2012) | (acl.Year == 2013)"
   ]
  },
  {
   "cell_type": "code",
   "execution_count": 25,
   "metadata": {
    "colab": {
     "base_uri": "https://localhost:8080/",
     "height": 143
    },
    "colab_type": "code",
    "executionInfo": {
     "elapsed": 1192,
     "status": "ok",
     "timestamp": 1536093821634,
     "user": {
      "displayName": "Luis Galicia",
      "photoUrl": "https://lh3.googleusercontent.com/a/default-user=s128",
      "userId": "116873116001297431960"
     },
     "user_tz": 240
    },
    "id": "pAZrXI_de7w0",
    "outputId": "dbfbb29c-6dfe-451e-8ee3-8cb2b4d6a0d3"
   },
   "outputs": [
    {
     "data": {
      "text/html": [
       "<div>\n",
       "<style scoped>\n",
       "    .dataframe tbody tr th:only-of-type {\n",
       "        vertical-align: middle;\n",
       "    }\n",
       "\n",
       "    .dataframe tbody tr th {\n",
       "        vertical-align: top;\n",
       "    }\n",
       "\n",
       "    .dataframe thead th {\n",
       "        text-align: right;\n",
       "    }\n",
       "</style>\n",
       "<table border=\"1\" class=\"dataframe\">\n",
       "  <thead>\n",
       "    <tr style=\"text-align: right;\">\n",
       "      <th>Recent</th>\n",
       "      <th>False</th>\n",
       "      <th>True</th>\n",
       "    </tr>\n",
       "    <tr>\n",
       "      <th>Gender</th>\n",
       "      <th></th>\n",
       "      <th></th>\n",
       "    </tr>\n",
       "  </thead>\n",
       "  <tbody>\n",
       "    <tr>\n",
       "      <th>F</th>\n",
       "      <td>23</td>\n",
       "      <td>12</td>\n",
       "    </tr>\n",
       "    <tr>\n",
       "      <th>M</th>\n",
       "      <td>65</td>\n",
       "      <td>16</td>\n",
       "    </tr>\n",
       "  </tbody>\n",
       "</table>\n",
       "</div>"
      ],
      "text/plain": [
       "Recent  False  True \n",
       "Gender              \n",
       "F          23     12\n",
       "M          65     16"
      ]
     },
     "execution_count": 25,
     "metadata": {
      "tags": []
     },
     "output_type": "execute_result"
    }
   ],
   "source": [
    "contingency_tab_q1 = pd.crosstab(acl.Gender, acl['Recent'])\n",
    "contingency_tab_q1"
   ]
  },
  {
   "cell_type": "code",
   "execution_count": 15,
   "metadata": {
    "colab": {
     "base_uri": "https://localhost:8080/",
     "height": 52
    },
    "colab_type": "code",
    "executionInfo": {
     "elapsed": 4993,
     "status": "ok",
     "timestamp": 1536091818230,
     "user": {
      "displayName": "Luis Galicia",
      "photoUrl": "https://lh3.googleusercontent.com/a/default-user=s128",
      "userId": "116873116001297431960"
     },
     "user_tz": 240
    },
    "id": "ZK_HgfstmR5p",
    "outputId": "9333d1e9-8a4b-4c91-8378-7a09fa9c8e4b"
   },
   "outputs": [
    {
     "data": {
      "text/plain": [
       "array([[26.55172414,  8.44827586],\n",
       "       [61.44827586, 19.55172414]])"
      ]
     },
     "execution_count": 15,
     "metadata": {
      "tags": []
     },
     "output_type": "execute_result"
    }
   ],
   "source": [
    "expected_table_values(contingency_tab_q1)"
   ]
  },
  {
   "cell_type": "code",
   "execution_count": 17,
   "metadata": {
    "colab": {
     "base_uri": "https://localhost:8080/",
     "height": 34
    },
    "colab_type": "code",
    "executionInfo": {
     "elapsed": 961,
     "status": "ok",
     "timestamp": 1536092090749,
     "user": {
      "displayName": "Luis Galicia",
      "photoUrl": "https://lh3.googleusercontent.com/a/default-user=s128",
      "userId": "116873116001297431960"
     },
     "user_tz": 240
    },
    "id": "33QNov8JOBhn",
    "outputId": "78f94945-465a-4f25-d031-5f0bf70de6f6"
   },
   "outputs": [
    {
     "name": "stdout",
     "output_type": "stream",
     "text": [
      "chi2: 2.8187635997159806\n"
     ]
    }
   ],
   "source": [
    "indep_chisq_q1 = chisq_test(contingency_tab_q1.values, expected_table_values(contingency_tab_q1))\n",
    "\n",
    "print('chi2:', indep_chisq_q1)\n",
    "\n",
    "# Fail to reject"
   ]
  },
  {
   "cell_type": "code",
   "execution_count": 21,
   "metadata": {
    "colab": {
     "base_uri": "https://localhost:8080/",
     "height": 34
    },
    "colab_type": "code",
    "executionInfo": {
     "elapsed": 2291,
     "status": "ok",
     "timestamp": 1536092401299,
     "user": {
      "displayName": "Luis Galicia",
      "photoUrl": "https://lh3.googleusercontent.com/a/default-user=s128",
      "userId": "116873116001297431960"
     },
     "user_tz": 240
    },
    "id": "KKmhIsWdO9aa",
    "outputId": "bbcd570e-439f-4193-9bfe-93ad4f8661aa"
   },
   "outputs": [
    {
     "data": {
      "text/plain": [
       "0.14914306537135258"
      ]
     },
     "execution_count": 21,
     "metadata": {
      "tags": []
     },
     "output_type": "execute_result"
    }
   ],
   "source": [
    "from scipy.stats import chisquare\n",
    "\n",
    "#p-value\n",
    "chi2_contingency(contingency_tab_q1)[1]"
   ]
  },
  {
   "cell_type": "markdown",
   "metadata": {
    "colab_type": "text",
    "id": "mCia9EHqSltn"
   },
   "source": [
    "### Q2\n",
    "When crossing white and yellow summer squash, a genetic model predicts that 75% of resulting offspring will be white, 15% will be yellow and 10% will be green. \n",
    "Below are the results from an experiment run on a random sample of 205 squash offspring. "
   ]
  },
  {
   "cell_type": "code",
   "execution_count": 23,
   "metadata": {
    "colab": {
     "base_uri": "https://localhost:8080/",
     "height": 34
    },
    "colab_type": "code",
    "executionInfo": {
     "elapsed": 2003,
     "status": "ok",
     "timestamp": 1536093757606,
     "user": {
      "displayName": "Luis Galicia",
      "photoUrl": "https://lh3.googleusercontent.com/a/default-user=s128",
      "userId": "116873116001297431960"
     },
     "user_tz": 240
    },
    "id": "q0Pvzuj6S1du",
    "outputId": "86076ccd-9d7b-4511-9b83-9e9d5d3ff16b"
   },
   "outputs": [
    {
     "name": "stdout",
     "output_type": "stream",
     "text": [
      "chi2: 4.2943089430894315\n"
     ]
    }
   ],
   "source": [
    "# respectively: white, yellow, green\n",
    "expected_q2 = np.full(3, 205) * np.array([.75, .15, .1])\n",
    "observed_q2 = np.array([152, 39, 14]) # these are the results of the experiment\n",
    "\n",
    "chi2_q2 = chisq_test(observed_q2, expected_q2)\n",
    "\n",
    "print('chi2:', chi2_q2)\n",
    "\n",
    "# fail to reject"
   ]
  },
  {
   "cell_type": "markdown",
   "metadata": {
    "colab_type": "text",
    "id": "iw0Sa3jcVifs"
   },
   "source": [
    "### Q3"
   ]
  },
  {
   "cell_type": "code",
   "execution_count": 26,
   "metadata": {
    "colab": {
     "base_uri": "https://localhost:8080/",
     "height": 708
    },
    "colab_type": "code",
    "executionInfo": {
     "elapsed": 1531,
     "status": "ok",
     "timestamp": 1536095330914,
     "user": {
      "displayName": "Luis Galicia",
      "photoUrl": "https://lh3.googleusercontent.com/a/default-user=s128",
      "userId": "116873116001297431960"
     },
     "user_tz": 240
    },
    "id": "wQ5lbnb7VlGm",
    "outputId": "c3de4e44-3305-4e7e-b376-e5b31a08cca5"
   },
   "outputs": [
    {
     "data": {
      "text/html": [
       "<div>\n",
       "<style scoped>\n",
       "    .dataframe tbody tr th:only-of-type {\n",
       "        vertical-align: middle;\n",
       "    }\n",
       "\n",
       "    .dataframe tbody tr th {\n",
       "        vertical-align: top;\n",
       "    }\n",
       "\n",
       "    .dataframe thead th {\n",
       "        text-align: right;\n",
       "    }\n",
       "</style>\n",
       "<table border=\"1\" class=\"dataframe\">\n",
       "  <thead>\n",
       "    <tr style=\"text-align: right;\">\n",
       "      <th></th>\n",
       "      <th>DominantHand</th>\n",
       "      <th>Gender</th>\n",
       "      <th>Id</th>\n",
       "    </tr>\n",
       "  </thead>\n",
       "  <tbody>\n",
       "    <tr>\n",
       "      <th>0</th>\n",
       "      <td>L</td>\n",
       "      <td>M</td>\n",
       "      <td>1</td>\n",
       "    </tr>\n",
       "    <tr>\n",
       "      <th>1</th>\n",
       "      <td>R</td>\n",
       "      <td>M</td>\n",
       "      <td>2</td>\n",
       "    </tr>\n",
       "    <tr>\n",
       "      <th>2</th>\n",
       "      <td>R</td>\n",
       "      <td>F</td>\n",
       "      <td>3</td>\n",
       "    </tr>\n",
       "    <tr>\n",
       "      <th>3</th>\n",
       "      <td>R</td>\n",
       "      <td>M</td>\n",
       "      <td>4</td>\n",
       "    </tr>\n",
       "    <tr>\n",
       "      <th>4</th>\n",
       "      <td>R</td>\n",
       "      <td>F</td>\n",
       "      <td>5</td>\n",
       "    </tr>\n",
       "    <tr>\n",
       "      <th>5</th>\n",
       "      <td>L</td>\n",
       "      <td>F</td>\n",
       "      <td>6</td>\n",
       "    </tr>\n",
       "    <tr>\n",
       "      <th>6</th>\n",
       "      <td>L</td>\n",
       "      <td>F</td>\n",
       "      <td>7</td>\n",
       "    </tr>\n",
       "    <tr>\n",
       "      <th>7</th>\n",
       "      <td>R</td>\n",
       "      <td>M</td>\n",
       "      <td>8</td>\n",
       "    </tr>\n",
       "    <tr>\n",
       "      <th>8</th>\n",
       "      <td>R</td>\n",
       "      <td>F</td>\n",
       "      <td>9</td>\n",
       "    </tr>\n",
       "    <tr>\n",
       "      <th>9</th>\n",
       "      <td>R</td>\n",
       "      <td>F</td>\n",
       "      <td>10</td>\n",
       "    </tr>\n",
       "    <tr>\n",
       "      <th>10</th>\n",
       "      <td>L</td>\n",
       "      <td>M</td>\n",
       "      <td>11</td>\n",
       "    </tr>\n",
       "    <tr>\n",
       "      <th>11</th>\n",
       "      <td>R</td>\n",
       "      <td>F</td>\n",
       "      <td>12</td>\n",
       "    </tr>\n",
       "    <tr>\n",
       "      <th>12</th>\n",
       "      <td>R</td>\n",
       "      <td>M</td>\n",
       "      <td>13</td>\n",
       "    </tr>\n",
       "    <tr>\n",
       "      <th>13</th>\n",
       "      <td>R</td>\n",
       "      <td>M</td>\n",
       "      <td>14</td>\n",
       "    </tr>\n",
       "    <tr>\n",
       "      <th>14</th>\n",
       "      <td>R</td>\n",
       "      <td>F</td>\n",
       "      <td>15</td>\n",
       "    </tr>\n",
       "    <tr>\n",
       "      <th>15</th>\n",
       "      <td>R</td>\n",
       "      <td>M</td>\n",
       "      <td>16</td>\n",
       "    </tr>\n",
       "    <tr>\n",
       "      <th>16</th>\n",
       "      <td>R</td>\n",
       "      <td>M</td>\n",
       "      <td>17</td>\n",
       "    </tr>\n",
       "    <tr>\n",
       "      <th>17</th>\n",
       "      <td>R</td>\n",
       "      <td>F</td>\n",
       "      <td>18</td>\n",
       "    </tr>\n",
       "    <tr>\n",
       "      <th>18</th>\n",
       "      <td>L</td>\n",
       "      <td>F</td>\n",
       "      <td>19</td>\n",
       "    </tr>\n",
       "    <tr>\n",
       "      <th>19</th>\n",
       "      <td>R</td>\n",
       "      <td>M</td>\n",
       "      <td>20</td>\n",
       "    </tr>\n",
       "    <tr>\n",
       "      <th>20</th>\n",
       "      <td>R</td>\n",
       "      <td>F</td>\n",
       "      <td>21</td>\n",
       "    </tr>\n",
       "  </tbody>\n",
       "</table>\n",
       "</div>"
      ],
      "text/plain": [
       "   DominantHand Gender  Id\n",
       "0             L      M   1\n",
       "1             R      M   2\n",
       "2             R      F   3\n",
       "3             R      M   4\n",
       "4             R      F   5\n",
       "5             L      F   6\n",
       "6             L      F   7\n",
       "7             R      M   8\n",
       "8             R      F   9\n",
       "9             R      F  10\n",
       "10            L      M  11\n",
       "11            R      F  12\n",
       "12            R      M  13\n",
       "13            R      M  14\n",
       "14            R      F  15\n",
       "15            R      M  16\n",
       "16            R      M  17\n",
       "17            R      F  18\n",
       "18            L      F  19\n",
       "19            R      M  20\n",
       "20            R      F  21"
      ]
     },
     "execution_count": 26,
     "metadata": {
      "tags": []
     },
     "output_type": "execute_result"
    }
   ],
   "source": [
    "data_q3 = pd.DataFrame({'Id': np.array([1, 2, 3, 4, 5, 6, 7, 8, 9, 10, \n",
    "                                        11, 12, 13, 14, 15, 16, 17, 18, 19, 20, 21]),\n",
    "                        \n",
    "                        'Gender': np.array(['M', 'M', 'F', 'M', 'F', 'F', 'F', 'M', 'F', 'F', \n",
    "                                            'M', 'F', 'M', 'M', 'F', 'M', 'M', 'F', 'F', 'M', 'F']),\n",
    "                        \n",
    "                        'DominantHand': np.array(['L', 'R', 'R', 'R', 'R', 'L', 'L', 'R', 'R', 'R', \n",
    "                                                  'L', 'R', 'R', 'R', 'R', 'R', 'R', 'R', 'L', 'R', 'R'])\n",
    "                                        \n",
    "                       })\n",
    "data_q3"
   ]
  },
  {
   "cell_type": "code",
   "execution_count": 28,
   "metadata": {
    "colab": {
     "base_uri": "https://localhost:8080/",
     "height": 143
    },
    "colab_type": "code",
    "executionInfo": {
     "elapsed": 2756,
     "status": "ok",
     "timestamp": 1536095571923,
     "user": {
      "displayName": "Luis Galicia",
      "photoUrl": "https://lh3.googleusercontent.com/a/default-user=s128",
      "userId": "116873116001297431960"
     },
     "user_tz": 240
    },
    "id": "32ZJvqQSapqp",
    "outputId": "a00c6dbf-f2de-42ae-ebcc-259fac2c8860"
   },
   "outputs": [
    {
     "data": {
      "text/html": [
       "<div>\n",
       "<style scoped>\n",
       "    .dataframe tbody tr th:only-of-type {\n",
       "        vertical-align: middle;\n",
       "    }\n",
       "\n",
       "    .dataframe tbody tr th {\n",
       "        vertical-align: top;\n",
       "    }\n",
       "\n",
       "    .dataframe thead th {\n",
       "        text-align: right;\n",
       "    }\n",
       "</style>\n",
       "<table border=\"1\" class=\"dataframe\">\n",
       "  <thead>\n",
       "    <tr style=\"text-align: right;\">\n",
       "      <th>DominantHand</th>\n",
       "      <th>L</th>\n",
       "      <th>R</th>\n",
       "    </tr>\n",
       "    <tr>\n",
       "      <th>Gender</th>\n",
       "      <th></th>\n",
       "      <th></th>\n",
       "    </tr>\n",
       "  </thead>\n",
       "  <tbody>\n",
       "    <tr>\n",
       "      <th>F</th>\n",
       "      <td>3</td>\n",
       "      <td>8</td>\n",
       "    </tr>\n",
       "    <tr>\n",
       "      <th>M</th>\n",
       "      <td>2</td>\n",
       "      <td>8</td>\n",
       "    </tr>\n",
       "  </tbody>\n",
       "</table>\n",
       "</div>"
      ],
      "text/plain": [
       "DominantHand  L  R\n",
       "Gender            \n",
       "F             3  8\n",
       "M             2  8"
      ]
     },
     "execution_count": 28,
     "metadata": {
      "tags": []
     },
     "output_type": "execute_result"
    }
   ],
   "source": [
    "contingency_tab_q3 = pd.crosstab(data_q3.Gender, data_q3.DominantHand)\n",
    "contingency_tab_q3"
   ]
  },
  {
   "cell_type": "code",
   "execution_count": 29,
   "metadata": {
    "colab": {
     "base_uri": "https://localhost:8080/",
     "height": 52
    },
    "colab_type": "code",
    "executionInfo": {
     "elapsed": 1324,
     "status": "ok",
     "timestamp": 1536095603641,
     "user": {
      "displayName": "Luis Galicia",
      "photoUrl": "https://lh3.googleusercontent.com/a/default-user=s128",
      "userId": "116873116001297431960"
     },
     "user_tz": 240
    },
    "id": "sQTDzsF8bkLt",
    "outputId": "28871a73-ae14-4e85-affa-c109ca13bff2"
   },
   "outputs": [
    {
     "data": {
      "text/plain": [
       "array([[2.61904762, 8.38095238],\n",
       "       [2.38095238, 7.61904762]])"
      ]
     },
     "execution_count": 29,
     "metadata": {
      "tags": []
     },
     "output_type": "execute_result"
    }
   ],
   "source": [
    "expected_table_values(contingency_tab_q3)\n",
    "\n",
    "# Can't run the analysis, the left hand expected counts for both genders are less than 5"
   ]
  },
  {
   "cell_type": "markdown",
   "metadata": {
    "colab_type": "text",
    "id": "I24Ts43adeD_"
   },
   "source": [
    "### Q4\n",
    "A telephone survey asked a random sample of Indiana voters about their home internet usage, as well as what type of community (rural, suburban or urban) they lived in. \n",
    "Of the 123 survey respondents, 28 were from rural areas, 42 were from suburban areas, and 53 were from urban areas.  Thirteen rural respondents, 35 suburban respondents, and 50 urban respondents said they had access to internet at home. \n",
    "\n",
    "** Expected counts ** \\\\\n",
    "\n",
    "---\n",
    "| CommType |  Internet: no | Internet: yes |\n",
    "| -----------------  |  ------------------- | ------------------ |\n",
    "| rural               | 5.69                  | 22.30             |\n",
    "| suburban     | 8.53                 | 33.46              |\n",
    "| urban            | 10.77                |  42.22           | \n",
    "\n",
    "\n"
   ]
  },
  {
   "cell_type": "code",
   "execution_count": 0,
   "metadata": {
    "colab": {},
    "colab_type": "code",
    "id": "-a-lwhRslBSs"
   },
   "outputs": [],
   "source": [
    "observed_q4 = np.array([[15, 13], [7, 35], [3, 50]])\n",
    "expected_q4 = np.array([[5.69, 22.30], [8.53, 33.46], [10.77, 42.22]])"
   ]
  },
  {
   "cell_type": "code",
   "execution_count": 32,
   "metadata": {
    "colab": {
     "base_uri": "https://localhost:8080/",
     "height": 34
    },
    "colab_type": "code",
    "executionInfo": {
     "elapsed": 1070,
     "status": "ok",
     "timestamp": 1536098406532,
     "user": {
      "displayName": "Luis Galicia",
      "photoUrl": "https://lh3.googleusercontent.com/a/default-user=s128",
      "userId": "116873116001297431960"
     },
     "user_tz": 240
    },
    "id": "zzB-oi_SmOgl",
    "outputId": "ffd94c2c-b1ab-4e0e-8c1a-2de9d02b91d2"
   },
   "outputs": [
    {
     "data": {
      "text/plain": [
       "26.49614083182542"
      ]
     },
     "execution_count": 32,
     "metadata": {
      "tags": []
     },
     "output_type": "execute_result"
    }
   ],
   "source": [
    "# chi2\n",
    "chisq_test(observed_q4, expected_q4)\n",
    "\n",
    "# REJECT. The community type is related with having or not internet."
   ]
  }
 ],
 "metadata": {
  "colab": {
   "name": "week4.ipynb",
   "provenance": [],
   "version": "0.3.2"
  },
  "kernelspec": {
   "display_name": "Python 3",
   "language": "python",
   "name": "python3"
  },
  "language_info": {
   "codemirror_mode": {
    "name": "ipython",
    "version": 3
   },
   "file_extension": ".py",
   "mimetype": "text/x-python",
   "name": "python",
   "nbconvert_exporter": "python",
   "pygments_lexer": "ipython3",
   "version": "3.6.7"
  }
 },
 "nbformat": 4,
 "nbformat_minor": 1
}
